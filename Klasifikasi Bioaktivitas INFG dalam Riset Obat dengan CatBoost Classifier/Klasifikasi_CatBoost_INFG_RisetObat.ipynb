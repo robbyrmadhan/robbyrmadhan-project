{
  "cells": [
    {
      "cell_type": "code",
      "execution_count": null,
      "metadata": {
        "colab": {
          "base_uri": "https://localhost:8080/"
        },
        "id": "rFr1jFbBViQG",
        "outputId": "8ece83b7-c17e-4e31-e503-e7f248a0cd8b"
      },
      "outputs": [],
      "source": [
        "! pip install rdkit"
      ]
    },
    {
      "cell_type": "code",
      "execution_count": null,
      "metadata": {
        "colab": {
          "base_uri": "https://localhost:8080/"
        },
        "id": "DxJIpL05V0FE",
        "outputId": "b5ef8bc9-6403-4c8f-8b15-80a78754c280"
      },
      "outputs": [],
      "source": [
        "! pip install chembl_webresource_client"
      ]
    },
    {
      "cell_type": "code",
      "execution_count": null,
      "metadata": {
        "colab": {
          "base_uri": "https://localhost:8080/",
          "height": 756
        },
        "id": "blOcVX5LWFOw",
        "outputId": "c321266a-4982-44eb-c8d3-c91c9fa2c878"
      },
      "outputs": [],
      "source": [
        "from chembl_webresource_client.new_client import new_client\n",
        "import pandas as pd\n",
        "import numpy as np  # numpy digunakan untuk operasi array\n",
        "# Pastikan juga RDKit diimpor dengan benar jika belum\n",
        "from rdkit import Chem\n",
        "from rdkit.Chem import Descriptors, Lipinski\n",
        "\n",
        "# Pencarian target untuk interferon gamma menggunakan chembl_webresource_client\n",
        "target = new_client.target\n",
        "target_query = target.search('interferon gamma')\n",
        "targets = pd.DataFrame.from_dict(target_query)\n",
        "targets\n"
      ]
    },
    {
      "cell_type": "code",
      "execution_count": null,
      "metadata": {
        "colab": {
          "base_uri": "https://localhost:8080/",
          "height": 377
        },
        "id": "We5kV6k_Xloi",
        "outputId": "a1d4fd9d-a840-4113-9d07-63a91676f62d"
      },
      "outputs": [],
      "source": [
        "# Cari baris di DataFrame yang memiliki target_chembl_id 'CHEMBL3267'\n",
        "selected_target_row = targets[targets.target_chembl_id == 'CHEMBL3267']\n",
        "\n",
        "# Jika baris ditemukan, ambil target_chembl_id, jika tidak, beri peringatan\n",
        "if not selected_target_row.empty:\n",
        "    selected_target = selected_target_row.iloc[0]['target_chembl_id']\n",
        "else:\n",
        "    print(\"Target CHEMBL3267 tidak ditemukan.\")\n",
        "    raise ValueError(\"Target CHEMBL3267 tidak ditemukan.\")\n",
        "\n",
        "print(\"Selected target:\", selected_target)\n",
        "\n",
        "# Lakukan pencarian aktivitas untuk target yang dipilih dengan tipe standar 'IC50'\n",
        "activity = new_client.activity\n",
        "res = activity.filter(target_chembl_id=selected_target).filter(standard_type=\"IC50\")\n",
        "df = pd.DataFrame.from_dict(res)\n",
        "\n",
        "print(df.shape)\n",
        "df.head()"
      ]
    },
    {
      "cell_type": "code",
      "execution_count": 40,
      "metadata": {
        "colab": {
          "base_uri": "https://localhost:8080/",
          "height": 213
        },
        "id": "XX2Ejh4gZTsB",
        "outputId": "783adc6f-1cc4-4d8b-f005-a1a3e1a243af"
      },
      "outputs": [
        {
          "name": "stdout",
          "output_type": "stream",
          "text": [
            "(3468, 46)\n"
          ]
        },
        {
          "data": {
            "text/html": [
              "<div>\n",
              "<style scoped>\n",
              "    .dataframe tbody tr th:only-of-type {\n",
              "        vertical-align: middle;\n",
              "    }\n",
              "\n",
              "    .dataframe tbody tr th {\n",
              "        vertical-align: top;\n",
              "    }\n",
              "\n",
              "    .dataframe thead th {\n",
              "        text-align: right;\n",
              "    }\n",
              "</style>\n",
              "<table border=\"1\" class=\"dataframe\">\n",
              "  <thead>\n",
              "    <tr style=\"text-align: right;\">\n",
              "      <th></th>\n",
              "      <th>action_type</th>\n",
              "      <th>activity_comment</th>\n",
              "      <th>activity_id</th>\n",
              "      <th>activity_properties</th>\n",
              "      <th>assay_chembl_id</th>\n",
              "      <th>assay_description</th>\n",
              "      <th>assay_type</th>\n",
              "      <th>assay_variant_accession</th>\n",
              "      <th>assay_variant_mutation</th>\n",
              "      <th>bao_endpoint</th>\n",
              "      <th>...</th>\n",
              "      <th>target_organism</th>\n",
              "      <th>target_pref_name</th>\n",
              "      <th>target_tax_id</th>\n",
              "      <th>text_value</th>\n",
              "      <th>toid</th>\n",
              "      <th>type</th>\n",
              "      <th>units</th>\n",
              "      <th>uo_units</th>\n",
              "      <th>upper_value</th>\n",
              "      <th>value</th>\n",
              "    </tr>\n",
              "  </thead>\n",
              "  <tbody>\n",
              "    <tr>\n",
              "      <th>0</th>\n",
              "      <td>NaN</td>\n",
              "      <td>NaN</td>\n",
              "      <td>1734327</td>\n",
              "      <td>[]</td>\n",
              "      <td>CHEMBL871582</td>\n",
              "      <td>Inhibition of human PI3Kgamma</td>\n",
              "      <td>B</td>\n",
              "      <td>NaN</td>\n",
              "      <td>NaN</td>\n",
              "      <td>BAO_0000190</td>\n",
              "      <td>...</td>\n",
              "      <td>Homo sapiens</td>\n",
              "      <td>PI3-kinase p110-gamma subunit</td>\n",
              "      <td>9606</td>\n",
              "      <td>NaN</td>\n",
              "      <td>NaN</td>\n",
              "      <td>IC50</td>\n",
              "      <td>nM</td>\n",
              "      <td>UO_0000065</td>\n",
              "      <td>NaN</td>\n",
              "      <td>30.0</td>\n",
              "    </tr>\n",
              "    <tr>\n",
              "      <th>1</th>\n",
              "      <td>NaN</td>\n",
              "      <td>NaN</td>\n",
              "      <td>1734356</td>\n",
              "      <td>[]</td>\n",
              "      <td>CHEMBL871582</td>\n",
              "      <td>Inhibition of human PI3Kgamma</td>\n",
              "      <td>B</td>\n",
              "      <td>NaN</td>\n",
              "      <td>NaN</td>\n",
              "      <td>BAO_0000190</td>\n",
              "      <td>...</td>\n",
              "      <td>Homo sapiens</td>\n",
              "      <td>PI3-kinase p110-gamma subunit</td>\n",
              "      <td>9606</td>\n",
              "      <td>NaN</td>\n",
              "      <td>NaN</td>\n",
              "      <td>IC50</td>\n",
              "      <td>nM</td>\n",
              "      <td>UO_0000065</td>\n",
              "      <td>NaN</td>\n",
              "      <td>5.0</td>\n",
              "    </tr>\n",
              "  </tbody>\n",
              "</table>\n",
              "<p>2 rows × 46 columns</p>\n",
              "</div>"
            ],
            "text/plain": [
              "  action_type activity_comment  activity_id activity_properties  \\\n",
              "0         NaN              NaN      1734327                  []   \n",
              "1         NaN              NaN      1734356                  []   \n",
              "\n",
              "  assay_chembl_id              assay_description assay_type  \\\n",
              "0    CHEMBL871582  Inhibition of human PI3Kgamma          B   \n",
              "1    CHEMBL871582  Inhibition of human PI3Kgamma          B   \n",
              "\n",
              "   assay_variant_accession  assay_variant_mutation bao_endpoint  ...  \\\n",
              "0                      NaN                     NaN  BAO_0000190  ...   \n",
              "1                      NaN                     NaN  BAO_0000190  ...   \n",
              "\n",
              "  target_organism               target_pref_name target_tax_id text_value  \\\n",
              "0    Homo sapiens  PI3-kinase p110-gamma subunit          9606        NaN   \n",
              "1    Homo sapiens  PI3-kinase p110-gamma subunit          9606        NaN   \n",
              "\n",
              "  toid  type units    uo_units upper_value value  \n",
              "0  NaN  IC50    nM  UO_0000065         NaN  30.0  \n",
              "1  NaN  IC50    nM  UO_0000065         NaN   5.0  \n",
              "\n",
              "[2 rows x 46 columns]"
            ]
          },
          "execution_count": 40,
          "metadata": {},
          "output_type": "execute_result"
        }
      ],
      "source": [
        "# Menghapus baris yang memiliki nilai tidak valid pada kolom 'standard_value' dan 'canonical_smiles' langsung pada df\n",
        "df.dropna(subset=['standard_value', 'canonical_smiles'], inplace=True)\n",
        "df.drop_duplicates(subset=['canonical_smiles'], inplace=True)\n",
        "\n",
        "# Menampilkan 5 baris teratas dari df setelah modifikasi\n",
        "print(df.shape)\n",
        "df.head(2)\n"
      ]
    },
    {
      "cell_type": "code",
      "execution_count": 41,
      "metadata": {
        "colab": {
          "base_uri": "https://localhost:8080/",
          "height": 129
        },
        "id": "1N-poeShYF-L",
        "outputId": "9fd3a6a5-dd97-452c-f274-edc52f572651"
      },
      "outputs": [
        {
          "name": "stdout",
          "output_type": "stream",
          "text": [
            "(3468, 3)\n"
          ]
        },
        {
          "data": {
            "text/html": [
              "<div>\n",
              "<style scoped>\n",
              "    .dataframe tbody tr th:only-of-type {\n",
              "        vertical-align: middle;\n",
              "    }\n",
              "\n",
              "    .dataframe tbody tr th {\n",
              "        vertical-align: top;\n",
              "    }\n",
              "\n",
              "    .dataframe thead th {\n",
              "        text-align: right;\n",
              "    }\n",
              "</style>\n",
              "<table border=\"1\" class=\"dataframe\">\n",
              "  <thead>\n",
              "    <tr style=\"text-align: right;\">\n",
              "      <th></th>\n",
              "      <th>molecule_chembl_id</th>\n",
              "      <th>canonical_smiles</th>\n",
              "      <th>standard_value</th>\n",
              "    </tr>\n",
              "  </thead>\n",
              "  <tbody>\n",
              "    <tr>\n",
              "      <th>0</th>\n",
              "      <td>CHEMBL379156</td>\n",
              "      <td>O=C1NC(=O)/C(=C/c2ccc(-c3ccc(F)cc3O)o2)S1</td>\n",
              "      <td>30.0</td>\n",
              "    </tr>\n",
              "    <tr>\n",
              "      <th>1</th>\n",
              "      <td>CHEMBL428496</td>\n",
              "      <td>COC[C@H]1OC(=O)c2coc3c2[C@@]1(C)C1=C(C3=O)[C@@...</td>\n",
              "      <td>5.0</td>\n",
              "    </tr>\n",
              "  </tbody>\n",
              "</table>\n",
              "</div>"
            ],
            "text/plain": [
              "  molecule_chembl_id                                   canonical_smiles  \\\n",
              "0       CHEMBL379156          O=C1NC(=O)/C(=C/c2ccc(-c3ccc(F)cc3O)o2)S1   \n",
              "1       CHEMBL428496  COC[C@H]1OC(=O)c2coc3c2[C@@]1(C)C1=C(C3=O)[C@@...   \n",
              "\n",
              "   standard_value  \n",
              "0            30.0  \n",
              "1             5.0  "
            ]
          },
          "execution_count": 41,
          "metadata": {},
          "output_type": "execute_result"
        }
      ],
      "source": [
        "# Memilih hanya kolom-kolom tertentu ('molecule_chembl_id', 'canonical_smiles', 'standard_value')\n",
        "selection = ['molecule_chembl_id', 'canonical_smiles', 'standard_value']\n",
        "df = df.loc[:, selection]\n",
        "\n",
        "# Menampilkan df setelah modifikasi\n",
        "print(df.shape)\n",
        "df.head(2)"
      ]
    },
    {
      "cell_type": "code",
      "execution_count": 42,
      "metadata": {
        "colab": {
          "base_uri": "https://localhost:8080/",
          "height": 129
        },
        "id": "iCiI61lMYcrv",
        "outputId": "a4397e63-1f96-4bbc-a2a5-7f39fb6e52a2"
      },
      "outputs": [
        {
          "name": "stdout",
          "output_type": "stream",
          "text": [
            "(3468, 4)\n"
          ]
        },
        {
          "data": {
            "text/html": [
              "<div>\n",
              "<style scoped>\n",
              "    .dataframe tbody tr th:only-of-type {\n",
              "        vertical-align: middle;\n",
              "    }\n",
              "\n",
              "    .dataframe tbody tr th {\n",
              "        vertical-align: top;\n",
              "    }\n",
              "\n",
              "    .dataframe thead th {\n",
              "        text-align: right;\n",
              "    }\n",
              "</style>\n",
              "<table border=\"1\" class=\"dataframe\">\n",
              "  <thead>\n",
              "    <tr style=\"text-align: right;\">\n",
              "      <th></th>\n",
              "      <th>molecule_chembl_id</th>\n",
              "      <th>canonical_smiles</th>\n",
              "      <th>standard_value</th>\n",
              "      <th>class</th>\n",
              "    </tr>\n",
              "  </thead>\n",
              "  <tbody>\n",
              "    <tr>\n",
              "      <th>0</th>\n",
              "      <td>CHEMBL379156</td>\n",
              "      <td>O=C1NC(=O)/C(=C/c2ccc(-c3ccc(F)cc3O)o2)S1</td>\n",
              "      <td>30.0</td>\n",
              "      <td>active</td>\n",
              "    </tr>\n",
              "    <tr>\n",
              "      <th>1</th>\n",
              "      <td>CHEMBL428496</td>\n",
              "      <td>COC[C@H]1OC(=O)c2coc3c2[C@@]1(C)C1=C(C3=O)[C@@...</td>\n",
              "      <td>5.0</td>\n",
              "      <td>active</td>\n",
              "    </tr>\n",
              "  </tbody>\n",
              "</table>\n",
              "</div>"
            ],
            "text/plain": [
              "  molecule_chembl_id                                   canonical_smiles  \\\n",
              "0       CHEMBL379156          O=C1NC(=O)/C(=C/c2ccc(-c3ccc(F)cc3O)o2)S1   \n",
              "1       CHEMBL428496  COC[C@H]1OC(=O)c2coc3c2[C@@]1(C)C1=C(C3=O)[C@@...   \n",
              "\n",
              "   standard_value   class  \n",
              "0            30.0  active  \n",
              "1             5.0  active  "
            ]
          },
          "execution_count": 42,
          "metadata": {},
          "output_type": "execute_result"
        }
      ],
      "source": [
        "# Menetapkan batas bioaktivitas (IC50) dan menambahkan kolom 'class' untuk kategori bioaktivitas\n",
        "df['class'] = df['standard_value'].apply(lambda x: 'inactive' if float(x) >= 10000 else ('active' if float(x) <= 1000 else 'intermediate'))\n",
        "# Menampilkan df setelah modifikasi\n",
        "print(df.shape)\n",
        "df.head(2)"
      ]
    },
    {
      "cell_type": "code",
      "execution_count": 43,
      "metadata": {
        "colab": {
          "base_uri": "https://localhost:8080/",
          "height": 129
        },
        "id": "ibH8dpwqZllh",
        "outputId": "4970da88-9a40-4bc2-9b0d-1b67e9a3338a"
      },
      "outputs": [
        {
          "name": "stdout",
          "output_type": "stream",
          "text": [
            "(3468, 4)\n"
          ]
        },
        {
          "data": {
            "text/html": [
              "<div>\n",
              "<style scoped>\n",
              "    .dataframe tbody tr th:only-of-type {\n",
              "        vertical-align: middle;\n",
              "    }\n",
              "\n",
              "    .dataframe tbody tr th {\n",
              "        vertical-align: top;\n",
              "    }\n",
              "\n",
              "    .dataframe thead th {\n",
              "        text-align: right;\n",
              "    }\n",
              "</style>\n",
              "<table border=\"1\" class=\"dataframe\">\n",
              "  <thead>\n",
              "    <tr style=\"text-align: right;\">\n",
              "      <th></th>\n",
              "      <th>MW</th>\n",
              "      <th>LogP</th>\n",
              "      <th>NumHDonors</th>\n",
              "      <th>NumHAcceptors</th>\n",
              "    </tr>\n",
              "  </thead>\n",
              "  <tbody>\n",
              "    <tr>\n",
              "      <th>0</th>\n",
              "      <td>305.286</td>\n",
              "      <td>3.1152</td>\n",
              "      <td>2.0</td>\n",
              "      <td>5.0</td>\n",
              "    </tr>\n",
              "    <tr>\n",
              "      <th>1</th>\n",
              "      <td>428.437</td>\n",
              "      <td>2.5364</td>\n",
              "      <td>0.0</td>\n",
              "      <td>8.0</td>\n",
              "    </tr>\n",
              "  </tbody>\n",
              "</table>\n",
              "</div>"
            ],
            "text/plain": [
              "        MW    LogP  NumHDonors  NumHAcceptors\n",
              "0  305.286  3.1152         2.0            5.0\n",
              "1  428.437  2.5364         0.0            8.0"
            ]
          },
          "execution_count": 43,
          "metadata": {},
          "output_type": "execute_result"
        }
      ],
      "source": [
        "def lipinski(smiles, verbose=False):\n",
        "    # Menggunakan list comprehension untuk membuat objek molekul RDKit\n",
        "    moldata = [Chem.MolFromSmiles(elem) for elem in smiles]\n",
        "\n",
        "    # Menghitung deskriptor Lipinski menggunakan list comprehension\n",
        "    baseData = np.array([[\n",
        "        Descriptors.MolWt(mol),\n",
        "        Descriptors.MolLogP(mol),\n",
        "        Lipinski.NumHDonors(mol),\n",
        "        Lipinski.NumHAcceptors(mol)\n",
        "    ] for mol in moldata if mol is not None])\n",
        "\n",
        "    # Membuat DataFrame dari data deskriptor\n",
        "    columnNames = [\"MW\", \"LogP\", \"NumHDonors\", \"NumHAcceptors\"]\n",
        "    descriptors = pd.DataFrame(data=baseData, columns=columnNames)\n",
        "\n",
        "    return descriptors\n",
        "\n",
        "# Menghitung deskriptor Lipinski untuk senyawa kimia yang sudah dibersihkan SMILES-nya\n",
        "df_lipinski = lipinski(df['canonical_smiles'])\n",
        "# Menampilkan df lipinski\n",
        "print(df_lipinski.shape)\n",
        "df_lipinski.head(2)\n"
      ]
    },
    {
      "cell_type": "code",
      "execution_count": 44,
      "metadata": {
        "colab": {
          "base_uri": "https://localhost:8080/",
          "height": 167
        },
        "id": "cOZ7JoefaW6u",
        "outputId": "33761e93-ac58-4636-c053-628580aeebf0"
      },
      "outputs": [
        {
          "name": "stdout",
          "output_type": "stream",
          "text": [
            "(3468, 8)\n"
          ]
        },
        {
          "data": {
            "text/html": [
              "<div>\n",
              "<style scoped>\n",
              "    .dataframe tbody tr th:only-of-type {\n",
              "        vertical-align: middle;\n",
              "    }\n",
              "\n",
              "    .dataframe tbody tr th {\n",
              "        vertical-align: top;\n",
              "    }\n",
              "\n",
              "    .dataframe thead th {\n",
              "        text-align: right;\n",
              "    }\n",
              "</style>\n",
              "<table border=\"1\" class=\"dataframe\">\n",
              "  <thead>\n",
              "    <tr style=\"text-align: right;\">\n",
              "      <th></th>\n",
              "      <th>molecule_chembl_id</th>\n",
              "      <th>canonical_smiles</th>\n",
              "      <th>standard_value</th>\n",
              "      <th>class</th>\n",
              "      <th>MW</th>\n",
              "      <th>LogP</th>\n",
              "      <th>NumHDonors</th>\n",
              "      <th>NumHAcceptors</th>\n",
              "    </tr>\n",
              "  </thead>\n",
              "  <tbody>\n",
              "    <tr>\n",
              "      <th>0</th>\n",
              "      <td>CHEMBL379156</td>\n",
              "      <td>O=C1NC(=O)/C(=C/c2ccc(-c3ccc(F)cc3O)o2)S1</td>\n",
              "      <td>30.0</td>\n",
              "      <td>active</td>\n",
              "      <td>305.286</td>\n",
              "      <td>3.1152</td>\n",
              "      <td>2.0</td>\n",
              "      <td>5.0</td>\n",
              "    </tr>\n",
              "    <tr>\n",
              "      <th>1</th>\n",
              "      <td>CHEMBL428496</td>\n",
              "      <td>COC[C@H]1OC(=O)c2coc3c2[C@@]1(C)C1=C(C3=O)[C@@...</td>\n",
              "      <td>5.0</td>\n",
              "      <td>active</td>\n",
              "      <td>428.437</td>\n",
              "      <td>2.5364</td>\n",
              "      <td>0.0</td>\n",
              "      <td>8.0</td>\n",
              "    </tr>\n",
              "  </tbody>\n",
              "</table>\n",
              "</div>"
            ],
            "text/plain": [
              "  molecule_chembl_id                                   canonical_smiles  \\\n",
              "0       CHEMBL379156          O=C1NC(=O)/C(=C/c2ccc(-c3ccc(F)cc3O)o2)S1   \n",
              "1       CHEMBL428496  COC[C@H]1OC(=O)c2coc3c2[C@@]1(C)C1=C(C3=O)[C@@...   \n",
              "\n",
              "   standard_value   class       MW    LogP  NumHDonors  NumHAcceptors  \n",
              "0            30.0  active  305.286  3.1152         2.0            5.0  \n",
              "1             5.0  active  428.437  2.5364         0.0            8.0  "
            ]
          },
          "execution_count": 44,
          "metadata": {},
          "output_type": "execute_result"
        }
      ],
      "source": [
        "# Pastikan indeks dari kedua DataFrame sesuai sebelum menggabungkan\n",
        "if not df.index.equals(df_lipinski.index):\n",
        "    df.reset_index(drop=True, inplace=True)\n",
        "    df_lipinski.reset_index(drop=True, inplace=True)\n",
        "\n",
        "# Menggabungkan DataFrame df dengan df_lipinski\n",
        "df_combined = pd.concat([df, df_lipinski], axis=1)\n",
        "\n",
        "# Menampilkan df_combined\n",
        "print(df_combined.shape)\n",
        "df_combined.head(2)\n"
      ]
    },
    {
      "cell_type": "code",
      "execution_count": 45,
      "metadata": {
        "id": "-mlwnhgXaues"
      },
      "outputs": [],
      "source": [
        "# Normalisasi nilai 'standard_value'\n",
        "def norm_value(input_df):\n",
        "    norm = []\n",
        "    for i in input_df['standard_value']:\n",
        "        numeric_value = float(i)\n",
        "        if numeric_value > 100000000:\n",
        "            numeric_value = 100000000\n",
        "        norm.append(numeric_value)\n",
        "\n",
        "    input_df['standard_value_norm'] = norm\n",
        "    return input_df.drop('standard_value', axis=1)\n"
      ]
    },
    {
      "cell_type": "code",
      "execution_count": 46,
      "metadata": {
        "colab": {
          "base_uri": "https://localhost:8080/",
          "height": 167
        },
        "id": "RvQsexPSbE8H",
        "outputId": "11851e44-c9e7-48c3-fe1b-6815bd9a6429"
      },
      "outputs": [
        {
          "name": "stdout",
          "output_type": "stream",
          "text": [
            "(3468, 8)\n"
          ]
        },
        {
          "data": {
            "text/html": [
              "<div>\n",
              "<style scoped>\n",
              "    .dataframe tbody tr th:only-of-type {\n",
              "        vertical-align: middle;\n",
              "    }\n",
              "\n",
              "    .dataframe tbody tr th {\n",
              "        vertical-align: top;\n",
              "    }\n",
              "\n",
              "    .dataframe thead th {\n",
              "        text-align: right;\n",
              "    }\n",
              "</style>\n",
              "<table border=\"1\" class=\"dataframe\">\n",
              "  <thead>\n",
              "    <tr style=\"text-align: right;\">\n",
              "      <th></th>\n",
              "      <th>molecule_chembl_id</th>\n",
              "      <th>canonical_smiles</th>\n",
              "      <th>class</th>\n",
              "      <th>MW</th>\n",
              "      <th>LogP</th>\n",
              "      <th>NumHDonors</th>\n",
              "      <th>NumHAcceptors</th>\n",
              "      <th>standard_value_norm</th>\n",
              "    </tr>\n",
              "  </thead>\n",
              "  <tbody>\n",
              "    <tr>\n",
              "      <th>0</th>\n",
              "      <td>CHEMBL379156</td>\n",
              "      <td>O=C1NC(=O)/C(=C/c2ccc(-c3ccc(F)cc3O)o2)S1</td>\n",
              "      <td>active</td>\n",
              "      <td>305.286</td>\n",
              "      <td>3.1152</td>\n",
              "      <td>2.0</td>\n",
              "      <td>5.0</td>\n",
              "      <td>30.0</td>\n",
              "    </tr>\n",
              "    <tr>\n",
              "      <th>1</th>\n",
              "      <td>CHEMBL428496</td>\n",
              "      <td>COC[C@H]1OC(=O)c2coc3c2[C@@]1(C)C1=C(C3=O)[C@@...</td>\n",
              "      <td>active</td>\n",
              "      <td>428.437</td>\n",
              "      <td>2.5364</td>\n",
              "      <td>0.0</td>\n",
              "      <td>8.0</td>\n",
              "      <td>5.0</td>\n",
              "    </tr>\n",
              "  </tbody>\n",
              "</table>\n",
              "</div>"
            ],
            "text/plain": [
              "  molecule_chembl_id                                   canonical_smiles  \\\n",
              "0       CHEMBL379156          O=C1NC(=O)/C(=C/c2ccc(-c3ccc(F)cc3O)o2)S1   \n",
              "1       CHEMBL428496  COC[C@H]1OC(=O)c2coc3c2[C@@]1(C)C1=C(C3=O)[C@@...   \n",
              "\n",
              "    class       MW    LogP  NumHDonors  NumHAcceptors  standard_value_norm  \n",
              "0  active  305.286  3.1152         2.0            5.0                 30.0  \n",
              "1  active  428.437  2.5364         0.0            8.0                  5.0  "
            ]
          },
          "execution_count": 46,
          "metadata": {},
          "output_type": "execute_result"
        }
      ],
      "source": [
        "# Normalisasi nilai 'standard_value' pada DataFrame df_combined\n",
        "df = norm_value(df_combined)\n",
        "\n",
        "# Menampilkan df_combined\n",
        "print(df.shape)\n",
        "df.head(2)"
      ]
    },
    {
      "cell_type": "code",
      "execution_count": 47,
      "metadata": {
        "colab": {
          "base_uri": "https://localhost:8080/",
          "height": 167
        },
        "id": "xL7hZSOZbktg",
        "outputId": "ebd46314-ef90-4fa4-f180-2524da94a52b"
      },
      "outputs": [
        {
          "name": "stdout",
          "output_type": "stream",
          "text": [
            "(3468, 8)\n"
          ]
        },
        {
          "data": {
            "text/html": [
              "<div>\n",
              "<style scoped>\n",
              "    .dataframe tbody tr th:only-of-type {\n",
              "        vertical-align: middle;\n",
              "    }\n",
              "\n",
              "    .dataframe tbody tr th {\n",
              "        vertical-align: top;\n",
              "    }\n",
              "\n",
              "    .dataframe thead th {\n",
              "        text-align: right;\n",
              "    }\n",
              "</style>\n",
              "<table border=\"1\" class=\"dataframe\">\n",
              "  <thead>\n",
              "    <tr style=\"text-align: right;\">\n",
              "      <th></th>\n",
              "      <th>molecule_chembl_id</th>\n",
              "      <th>canonical_smiles</th>\n",
              "      <th>class</th>\n",
              "      <th>MW</th>\n",
              "      <th>LogP</th>\n",
              "      <th>NumHDonors</th>\n",
              "      <th>NumHAcceptors</th>\n",
              "      <th>pIC50</th>\n",
              "    </tr>\n",
              "  </thead>\n",
              "  <tbody>\n",
              "    <tr>\n",
              "      <th>0</th>\n",
              "      <td>CHEMBL379156</td>\n",
              "      <td>O=C1NC(=O)/C(=C/c2ccc(-c3ccc(F)cc3O)o2)S1</td>\n",
              "      <td>active</td>\n",
              "      <td>305.286</td>\n",
              "      <td>3.1152</td>\n",
              "      <td>2.0</td>\n",
              "      <td>5.0</td>\n",
              "      <td>7.522879</td>\n",
              "    </tr>\n",
              "    <tr>\n",
              "      <th>1</th>\n",
              "      <td>CHEMBL428496</td>\n",
              "      <td>COC[C@H]1OC(=O)c2coc3c2[C@@]1(C)C1=C(C3=O)[C@@...</td>\n",
              "      <td>active</td>\n",
              "      <td>428.437</td>\n",
              "      <td>2.5364</td>\n",
              "      <td>0.0</td>\n",
              "      <td>8.0</td>\n",
              "      <td>8.301030</td>\n",
              "    </tr>\n",
              "  </tbody>\n",
              "</table>\n",
              "</div>"
            ],
            "text/plain": [
              "  molecule_chembl_id                                   canonical_smiles  \\\n",
              "0       CHEMBL379156          O=C1NC(=O)/C(=C/c2ccc(-c3ccc(F)cc3O)o2)S1   \n",
              "1       CHEMBL428496  COC[C@H]1OC(=O)c2coc3c2[C@@]1(C)C1=C(C3=O)[C@@...   \n",
              "\n",
              "    class       MW    LogP  NumHDonors  NumHAcceptors     pIC50  \n",
              "0  active  305.286  3.1152         2.0            5.0  7.522879  \n",
              "1  active  428.437  2.5364         0.0            8.0  8.301030  "
            ]
          },
          "execution_count": 47,
          "metadata": {},
          "output_type": "execute_result"
        }
      ],
      "source": [
        "def pIC50(input):\n",
        "    # Menghitung pIC50 menggunakan list comprehension dan menyimpannya langsung ke dalam kolom baru 'pIC50'\n",
        "    input['pIC50'] = [-np.log10(i * (10**-9)) for i in input['standard_value_norm']]\n",
        "\n",
        "    # Menghapus kolom 'standard_value_norm' dan mengembalikan DataFrame yang dimodifikasi\n",
        "    return input.drop('standard_value_norm', axis=1)\n",
        "\n",
        "    # Mengonversi nilai 'standard_value_norm' menjadi pIC50 dan menampilkan statistik deskriptif\n",
        "df = pIC50(df)\n",
        "\n",
        "print(df.shape)\n",
        "df.head(2)\n"
      ]
    },
    {
      "cell_type": "code",
      "execution_count": 48,
      "metadata": {
        "colab": {
          "base_uri": "https://localhost:8080/",
          "height": 333
        },
        "id": "DQxoMNmub-6y",
        "outputId": "f141a728-6fbf-4b49-d21e-cb3188fac261"
      },
      "outputs": [
        {
          "data": {
            "image/png": "[encoded data removed]",
            "text/plain": [
              "<Figure size 500x300 with 1 Axes>"
            ]
          },
          "metadata": {},
          "output_type": "display_data"
        }
      ],
      "source": [
        "import matplotlib.pyplot as plt\n",
        "\n",
        "# Menghitung jumlah kejadian untuk setiap kelas\n",
        "class_counts = df['class'].value_counts()\n",
        "\n",
        "# Membuat diagram batang\n",
        "plt.figure(figsize=(5, 3))\n",
        "class_counts.plot(kind='bar')\n",
        "plt.title('Distribusi Kelas Bioaktivitas')\n",
        "plt.xlabel('Kelas')\n",
        "plt.ylabel('Jumlah')\n",
        "plt.xticks(rotation=0)\n",
        "plt.show()"
      ]
    },
    {
      "cell_type": "code",
      "execution_count": 49,
      "metadata": {
        "id": "-m4LQgawcSyo"
      },
      "outputs": [
        {
          "name": "stdout",
          "output_type": "stream",
          "text": [
            "(3468, 8)\n"
          ]
        }
      ],
      "source": [
        "print(df.shape)\n",
        "df = df[df['class'] != 'intermediate']"
      ]
    },
    {
      "cell_type": "code",
      "execution_count": null,
      "metadata": {
        "colab": {
          "base_uri": "https://localhost:8080/"
        },
        "id": "GDfhHZS_clfO",
        "outputId": "d04a0f8b-eaed-42f6-968f-9a360addff6b"
      },
      "outputs": [],
      "source": [
        "! pip install wget"
      ]
    },
    {
      "cell_type": "code",
      "execution_count": null,
      "metadata": {
        "colab": {
          "base_uri": "https://localhost:8080/"
        },
        "id": "TmdXXLbvco2g",
        "outputId": "87318cac-8da1-4171-a8d4-237479299188"
      },
      "outputs": [],
      "source": [
        "! wget https://github.com/dataprofessor/bioinformatics/raw/master/padel.zip\n",
        "! wget https://github.com/dataprofessor/bioinformatics/raw/master/padel.sh"
      ]
    },
    {
      "cell_type": "code",
      "execution_count": null,
      "metadata": {
        "colab": {
          "base_uri": "https://localhost:8080/"
        },
        "id": "V3oLZ5avcyjh",
        "outputId": "b8082895-9acf-41fb-9a53-7dc81104a162"
      },
      "outputs": [],
      "source": [
        "! unzip padel.zip"
      ]
    },
    {
      "cell_type": "code",
      "execution_count": null,
      "metadata": {
        "id": "rftkdC7Yc0tW"
      },
      "outputs": [],
      "source": [
        "selection = ['canonical_smiles','molecule_chembl_id']\n",
        "df_selection = df[selection]\n",
        "df_selection.to_csv('molecule.smi', sep='\\t', index=False, header=False)"
      ]
    },
    {
      "cell_type": "code",
      "execution_count": null,
      "metadata": {
        "colab": {
          "base_uri": "https://localhost:8080/"
        },
        "id": "hiZW2nLQc7Ua",
        "outputId": "5cb4cde5-463f-4ae5-fa9b-502746360a08"
      },
      "outputs": [],
      "source": [
        "! bash padel.sh"
      ]
    },
    {
      "cell_type": "code",
      "execution_count": 50,
      "metadata": {
        "colab": {
          "base_uri": "https://localhost:8080/",
          "height": 273
        },
        "id": "_FEuR58Vf-Jo",
        "outputId": "d914ad3f-15a9-47f7-b048-04a1329fa979"
      },
      "outputs": [
        {
          "name": "stdout",
          "output_type": "stream",
          "text": [
            "(2777, 882)\n"
          ]
        },
        {
          "data": {
            "text/html": [
              "<div>\n",
              "<style scoped>\n",
              "    .dataframe tbody tr th:only-of-type {\n",
              "        vertical-align: middle;\n",
              "    }\n",
              "\n",
              "    .dataframe tbody tr th {\n",
              "        vertical-align: top;\n",
              "    }\n",
              "\n",
              "    .dataframe thead th {\n",
              "        text-align: right;\n",
              "    }\n",
              "</style>\n",
              "<table border=\"1\" class=\"dataframe\">\n",
              "  <thead>\n",
              "    <tr style=\"text-align: right;\">\n",
              "      <th></th>\n",
              "      <th>Name</th>\n",
              "      <th>PubchemFP0</th>\n",
              "      <th>PubchemFP1</th>\n",
              "      <th>PubchemFP2</th>\n",
              "      <th>PubchemFP3</th>\n",
              "      <th>PubchemFP4</th>\n",
              "      <th>PubchemFP5</th>\n",
              "      <th>PubchemFP6</th>\n",
              "      <th>PubchemFP7</th>\n",
              "      <th>PubchemFP8</th>\n",
              "      <th>...</th>\n",
              "      <th>PubchemFP871</th>\n",
              "      <th>PubchemFP872</th>\n",
              "      <th>PubchemFP873</th>\n",
              "      <th>PubchemFP874</th>\n",
              "      <th>PubchemFP875</th>\n",
              "      <th>PubchemFP876</th>\n",
              "      <th>PubchemFP877</th>\n",
              "      <th>PubchemFP878</th>\n",
              "      <th>PubchemFP879</th>\n",
              "      <th>PubchemFP880</th>\n",
              "    </tr>\n",
              "  </thead>\n",
              "  <tbody>\n",
              "    <tr>\n",
              "      <th>0</th>\n",
              "      <td>CHEMBL379156</td>\n",
              "      <td>1</td>\n",
              "      <td>1</td>\n",
              "      <td>0</td>\n",
              "      <td>0</td>\n",
              "      <td>0</td>\n",
              "      <td>0</td>\n",
              "      <td>0</td>\n",
              "      <td>0</td>\n",
              "      <td>0</td>\n",
              "      <td>...</td>\n",
              "      <td>0</td>\n",
              "      <td>0</td>\n",
              "      <td>0</td>\n",
              "      <td>0</td>\n",
              "      <td>0</td>\n",
              "      <td>0</td>\n",
              "      <td>0</td>\n",
              "      <td>0</td>\n",
              "      <td>0</td>\n",
              "      <td>0</td>\n",
              "    </tr>\n",
              "    <tr>\n",
              "      <th>1</th>\n",
              "      <td>CHEMBL377337</td>\n",
              "      <td>1</td>\n",
              "      <td>1</td>\n",
              "      <td>0</td>\n",
              "      <td>0</td>\n",
              "      <td>0</td>\n",
              "      <td>0</td>\n",
              "      <td>0</td>\n",
              "      <td>0</td>\n",
              "      <td>0</td>\n",
              "      <td>...</td>\n",
              "      <td>0</td>\n",
              "      <td>0</td>\n",
              "      <td>0</td>\n",
              "      <td>0</td>\n",
              "      <td>0</td>\n",
              "      <td>0</td>\n",
              "      <td>0</td>\n",
              "      <td>0</td>\n",
              "      <td>0</td>\n",
              "      <td>0</td>\n",
              "    </tr>\n",
              "    <tr>\n",
              "      <th>2</th>\n",
              "      <td>CHEMBL428496</td>\n",
              "      <td>1</td>\n",
              "      <td>1</td>\n",
              "      <td>1</td>\n",
              "      <td>0</td>\n",
              "      <td>0</td>\n",
              "      <td>0</td>\n",
              "      <td>0</td>\n",
              "      <td>0</td>\n",
              "      <td>0</td>\n",
              "      <td>...</td>\n",
              "      <td>0</td>\n",
              "      <td>0</td>\n",
              "      <td>0</td>\n",
              "      <td>0</td>\n",
              "      <td>0</td>\n",
              "      <td>0</td>\n",
              "      <td>0</td>\n",
              "      <td>0</td>\n",
              "      <td>0</td>\n",
              "      <td>0</td>\n",
              "    </tr>\n",
              "    <tr>\n",
              "      <th>3</th>\n",
              "      <td>CHEMBL437688</td>\n",
              "      <td>1</td>\n",
              "      <td>1</td>\n",
              "      <td>0</td>\n",
              "      <td>0</td>\n",
              "      <td>0</td>\n",
              "      <td>0</td>\n",
              "      <td>0</td>\n",
              "      <td>0</td>\n",
              "      <td>0</td>\n",
              "      <td>...</td>\n",
              "      <td>0</td>\n",
              "      <td>0</td>\n",
              "      <td>0</td>\n",
              "      <td>0</td>\n",
              "      <td>0</td>\n",
              "      <td>0</td>\n",
              "      <td>0</td>\n",
              "      <td>0</td>\n",
              "      <td>0</td>\n",
              "      <td>0</td>\n",
              "    </tr>\n",
              "    <tr>\n",
              "      <th>4</th>\n",
              "      <td>CHEMBL209159</td>\n",
              "      <td>1</td>\n",
              "      <td>0</td>\n",
              "      <td>0</td>\n",
              "      <td>0</td>\n",
              "      <td>0</td>\n",
              "      <td>0</td>\n",
              "      <td>0</td>\n",
              "      <td>0</td>\n",
              "      <td>0</td>\n",
              "      <td>...</td>\n",
              "      <td>0</td>\n",
              "      <td>0</td>\n",
              "      <td>0</td>\n",
              "      <td>0</td>\n",
              "      <td>0</td>\n",
              "      <td>0</td>\n",
              "      <td>0</td>\n",
              "      <td>0</td>\n",
              "      <td>0</td>\n",
              "      <td>0</td>\n",
              "    </tr>\n",
              "  </tbody>\n",
              "</table>\n",
              "<p>5 rows × 882 columns</p>\n",
              "</div>"
            ],
            "text/plain": [
              "           Name  PubchemFP0  PubchemFP1  PubchemFP2  PubchemFP3  PubchemFP4  \\\n",
              "0  CHEMBL379156           1           1           0           0           0   \n",
              "1  CHEMBL377337           1           1           0           0           0   \n",
              "2  CHEMBL428496           1           1           1           0           0   \n",
              "3  CHEMBL437688           1           1           0           0           0   \n",
              "4  CHEMBL209159           1           0           0           0           0   \n",
              "\n",
              "   PubchemFP5  PubchemFP6  PubchemFP7  PubchemFP8  ...  PubchemFP871  \\\n",
              "0           0           0           0           0  ...             0   \n",
              "1           0           0           0           0  ...             0   \n",
              "2           0           0           0           0  ...             0   \n",
              "3           0           0           0           0  ...             0   \n",
              "4           0           0           0           0  ...             0   \n",
              "\n",
              "   PubchemFP872  PubchemFP873  PubchemFP874  PubchemFP875  PubchemFP876  \\\n",
              "0             0             0             0             0             0   \n",
              "1             0             0             0             0             0   \n",
              "2             0             0             0             0             0   \n",
              "3             0             0             0             0             0   \n",
              "4             0             0             0             0             0   \n",
              "\n",
              "   PubchemFP877  PubchemFP878  PubchemFP879  PubchemFP880  \n",
              "0             0             0             0             0  \n",
              "1             0             0             0             0  \n",
              "2             0             0             0             0  \n",
              "3             0             0             0             0  \n",
              "4             0             0             0             0  \n",
              "\n",
              "[5 rows x 882 columns]"
            ]
          },
          "execution_count": 50,
          "metadata": {},
          "output_type": "execute_result"
        }
      ],
      "source": [
        "df_X = pd.read_csv(\"descriptors_output.csv\")\n",
        "print(df_X.shape)\n",
        "df_X.head()"
      ]
    },
    {
      "cell_type": "code",
      "execution_count": 51,
      "metadata": {
        "colab": {
          "base_uri": "https://localhost:8080/",
          "height": 273
        },
        "id": "E2jCkMVfgIF8",
        "outputId": "107d7cb8-08c8-43c9-daeb-e0092518bf3b"
      },
      "outputs": [
        {
          "data": {
            "text/html": [
              "<div>\n",
              "<style scoped>\n",
              "    .dataframe tbody tr th:only-of-type {\n",
              "        vertical-align: middle;\n",
              "    }\n",
              "\n",
              "    .dataframe tbody tr th {\n",
              "        vertical-align: top;\n",
              "    }\n",
              "\n",
              "    .dataframe thead th {\n",
              "        text-align: right;\n",
              "    }\n",
              "</style>\n",
              "<table border=\"1\" class=\"dataframe\">\n",
              "  <thead>\n",
              "    <tr style=\"text-align: right;\">\n",
              "      <th></th>\n",
              "      <th>PubchemFP0</th>\n",
              "      <th>PubchemFP1</th>\n",
              "      <th>PubchemFP2</th>\n",
              "      <th>PubchemFP3</th>\n",
              "      <th>PubchemFP4</th>\n",
              "      <th>PubchemFP5</th>\n",
              "      <th>PubchemFP6</th>\n",
              "      <th>PubchemFP7</th>\n",
              "      <th>PubchemFP8</th>\n",
              "      <th>PubchemFP9</th>\n",
              "      <th>...</th>\n",
              "      <th>PubchemFP871</th>\n",
              "      <th>PubchemFP872</th>\n",
              "      <th>PubchemFP873</th>\n",
              "      <th>PubchemFP874</th>\n",
              "      <th>PubchemFP875</th>\n",
              "      <th>PubchemFP876</th>\n",
              "      <th>PubchemFP877</th>\n",
              "      <th>PubchemFP878</th>\n",
              "      <th>PubchemFP879</th>\n",
              "      <th>PubchemFP880</th>\n",
              "    </tr>\n",
              "  </thead>\n",
              "  <tbody>\n",
              "    <tr>\n",
              "      <th>0</th>\n",
              "      <td>1.0</td>\n",
              "      <td>1.0</td>\n",
              "      <td>0.0</td>\n",
              "      <td>0.0</td>\n",
              "      <td>0.0</td>\n",
              "      <td>0.0</td>\n",
              "      <td>0.0</td>\n",
              "      <td>0.0</td>\n",
              "      <td>0.0</td>\n",
              "      <td>1.0</td>\n",
              "      <td>...</td>\n",
              "      <td>0.0</td>\n",
              "      <td>0.0</td>\n",
              "      <td>0.0</td>\n",
              "      <td>0.0</td>\n",
              "      <td>0.0</td>\n",
              "      <td>0.0</td>\n",
              "      <td>0.0</td>\n",
              "      <td>0.0</td>\n",
              "      <td>0.0</td>\n",
              "      <td>0.0</td>\n",
              "    </tr>\n",
              "    <tr>\n",
              "      <th>1</th>\n",
              "      <td>1.0</td>\n",
              "      <td>1.0</td>\n",
              "      <td>0.0</td>\n",
              "      <td>0.0</td>\n",
              "      <td>0.0</td>\n",
              "      <td>0.0</td>\n",
              "      <td>0.0</td>\n",
              "      <td>0.0</td>\n",
              "      <td>0.0</td>\n",
              "      <td>1.0</td>\n",
              "      <td>...</td>\n",
              "      <td>0.0</td>\n",
              "      <td>0.0</td>\n",
              "      <td>0.0</td>\n",
              "      <td>0.0</td>\n",
              "      <td>0.0</td>\n",
              "      <td>0.0</td>\n",
              "      <td>0.0</td>\n",
              "      <td>0.0</td>\n",
              "      <td>0.0</td>\n",
              "      <td>0.0</td>\n",
              "    </tr>\n",
              "    <tr>\n",
              "      <th>2</th>\n",
              "      <td>1.0</td>\n",
              "      <td>1.0</td>\n",
              "      <td>1.0</td>\n",
              "      <td>0.0</td>\n",
              "      <td>0.0</td>\n",
              "      <td>0.0</td>\n",
              "      <td>0.0</td>\n",
              "      <td>0.0</td>\n",
              "      <td>0.0</td>\n",
              "      <td>1.0</td>\n",
              "      <td>...</td>\n",
              "      <td>0.0</td>\n",
              "      <td>0.0</td>\n",
              "      <td>0.0</td>\n",
              "      <td>0.0</td>\n",
              "      <td>0.0</td>\n",
              "      <td>0.0</td>\n",
              "      <td>0.0</td>\n",
              "      <td>0.0</td>\n",
              "      <td>0.0</td>\n",
              "      <td>0.0</td>\n",
              "    </tr>\n",
              "    <tr>\n",
              "      <th>3</th>\n",
              "      <td>1.0</td>\n",
              "      <td>1.0</td>\n",
              "      <td>0.0</td>\n",
              "      <td>0.0</td>\n",
              "      <td>0.0</td>\n",
              "      <td>0.0</td>\n",
              "      <td>0.0</td>\n",
              "      <td>0.0</td>\n",
              "      <td>0.0</td>\n",
              "      <td>1.0</td>\n",
              "      <td>...</td>\n",
              "      <td>0.0</td>\n",
              "      <td>0.0</td>\n",
              "      <td>0.0</td>\n",
              "      <td>0.0</td>\n",
              "      <td>0.0</td>\n",
              "      <td>0.0</td>\n",
              "      <td>0.0</td>\n",
              "      <td>0.0</td>\n",
              "      <td>0.0</td>\n",
              "      <td>0.0</td>\n",
              "    </tr>\n",
              "    <tr>\n",
              "      <th>4</th>\n",
              "      <td>1.0</td>\n",
              "      <td>0.0</td>\n",
              "      <td>0.0</td>\n",
              "      <td>0.0</td>\n",
              "      <td>0.0</td>\n",
              "      <td>0.0</td>\n",
              "      <td>0.0</td>\n",
              "      <td>0.0</td>\n",
              "      <td>0.0</td>\n",
              "      <td>1.0</td>\n",
              "      <td>...</td>\n",
              "      <td>0.0</td>\n",
              "      <td>0.0</td>\n",
              "      <td>0.0</td>\n",
              "      <td>0.0</td>\n",
              "      <td>0.0</td>\n",
              "      <td>0.0</td>\n",
              "      <td>0.0</td>\n",
              "      <td>0.0</td>\n",
              "      <td>0.0</td>\n",
              "      <td>0.0</td>\n",
              "    </tr>\n",
              "    <tr>\n",
              "      <th>...</th>\n",
              "      <td>...</td>\n",
              "      <td>...</td>\n",
              "      <td>...</td>\n",
              "      <td>...</td>\n",
              "      <td>...</td>\n",
              "      <td>...</td>\n",
              "      <td>...</td>\n",
              "      <td>...</td>\n",
              "      <td>...</td>\n",
              "      <td>...</td>\n",
              "      <td>...</td>\n",
              "      <td>...</td>\n",
              "      <td>...</td>\n",
              "      <td>...</td>\n",
              "      <td>...</td>\n",
              "      <td>...</td>\n",
              "      <td>...</td>\n",
              "      <td>...</td>\n",
              "      <td>...</td>\n",
              "      <td>...</td>\n",
              "      <td>...</td>\n",
              "    </tr>\n",
              "    <tr>\n",
              "      <th>2772</th>\n",
              "      <td>1.0</td>\n",
              "      <td>1.0</td>\n",
              "      <td>1.0</td>\n",
              "      <td>0.0</td>\n",
              "      <td>0.0</td>\n",
              "      <td>0.0</td>\n",
              "      <td>0.0</td>\n",
              "      <td>0.0</td>\n",
              "      <td>0.0</td>\n",
              "      <td>1.0</td>\n",
              "      <td>...</td>\n",
              "      <td>0.0</td>\n",
              "      <td>0.0</td>\n",
              "      <td>0.0</td>\n",
              "      <td>0.0</td>\n",
              "      <td>0.0</td>\n",
              "      <td>0.0</td>\n",
              "      <td>0.0</td>\n",
              "      <td>0.0</td>\n",
              "      <td>0.0</td>\n",
              "      <td>0.0</td>\n",
              "    </tr>\n",
              "    <tr>\n",
              "      <th>2773</th>\n",
              "      <td>1.0</td>\n",
              "      <td>1.0</td>\n",
              "      <td>1.0</td>\n",
              "      <td>0.0</td>\n",
              "      <td>0.0</td>\n",
              "      <td>0.0</td>\n",
              "      <td>0.0</td>\n",
              "      <td>0.0</td>\n",
              "      <td>0.0</td>\n",
              "      <td>1.0</td>\n",
              "      <td>...</td>\n",
              "      <td>0.0</td>\n",
              "      <td>0.0</td>\n",
              "      <td>0.0</td>\n",
              "      <td>0.0</td>\n",
              "      <td>0.0</td>\n",
              "      <td>0.0</td>\n",
              "      <td>0.0</td>\n",
              "      <td>0.0</td>\n",
              "      <td>0.0</td>\n",
              "      <td>0.0</td>\n",
              "    </tr>\n",
              "    <tr>\n",
              "      <th>2774</th>\n",
              "      <td>1.0</td>\n",
              "      <td>1.0</td>\n",
              "      <td>1.0</td>\n",
              "      <td>0.0</td>\n",
              "      <td>0.0</td>\n",
              "      <td>0.0</td>\n",
              "      <td>0.0</td>\n",
              "      <td>0.0</td>\n",
              "      <td>0.0</td>\n",
              "      <td>1.0</td>\n",
              "      <td>...</td>\n",
              "      <td>0.0</td>\n",
              "      <td>0.0</td>\n",
              "      <td>0.0</td>\n",
              "      <td>0.0</td>\n",
              "      <td>0.0</td>\n",
              "      <td>0.0</td>\n",
              "      <td>0.0</td>\n",
              "      <td>0.0</td>\n",
              "      <td>0.0</td>\n",
              "      <td>0.0</td>\n",
              "    </tr>\n",
              "    <tr>\n",
              "      <th>2775</th>\n",
              "      <td>1.0</td>\n",
              "      <td>1.0</td>\n",
              "      <td>1.0</td>\n",
              "      <td>0.0</td>\n",
              "      <td>0.0</td>\n",
              "      <td>0.0</td>\n",
              "      <td>0.0</td>\n",
              "      <td>0.0</td>\n",
              "      <td>0.0</td>\n",
              "      <td>1.0</td>\n",
              "      <td>...</td>\n",
              "      <td>0.0</td>\n",
              "      <td>0.0</td>\n",
              "      <td>0.0</td>\n",
              "      <td>0.0</td>\n",
              "      <td>0.0</td>\n",
              "      <td>0.0</td>\n",
              "      <td>0.0</td>\n",
              "      <td>0.0</td>\n",
              "      <td>0.0</td>\n",
              "      <td>0.0</td>\n",
              "    </tr>\n",
              "    <tr>\n",
              "      <th>2776</th>\n",
              "      <td>1.0</td>\n",
              "      <td>1.0</td>\n",
              "      <td>1.0</td>\n",
              "      <td>0.0</td>\n",
              "      <td>0.0</td>\n",
              "      <td>0.0</td>\n",
              "      <td>0.0</td>\n",
              "      <td>0.0</td>\n",
              "      <td>0.0</td>\n",
              "      <td>1.0</td>\n",
              "      <td>...</td>\n",
              "      <td>0.0</td>\n",
              "      <td>0.0</td>\n",
              "      <td>0.0</td>\n",
              "      <td>0.0</td>\n",
              "      <td>0.0</td>\n",
              "      <td>0.0</td>\n",
              "      <td>0.0</td>\n",
              "      <td>0.0</td>\n",
              "      <td>0.0</td>\n",
              "      <td>0.0</td>\n",
              "    </tr>\n",
              "  </tbody>\n",
              "</table>\n",
              "<p>2777 rows × 881 columns</p>\n",
              "</div>"
            ],
            "text/plain": [
              "      PubchemFP0  PubchemFP1  PubchemFP2  PubchemFP3  PubchemFP4  PubchemFP5  \\\n",
              "0            1.0         1.0         0.0         0.0         0.0         0.0   \n",
              "1            1.0         1.0         0.0         0.0         0.0         0.0   \n",
              "2            1.0         1.0         1.0         0.0         0.0         0.0   \n",
              "3            1.0         1.0         0.0         0.0         0.0         0.0   \n",
              "4            1.0         0.0         0.0         0.0         0.0         0.0   \n",
              "...          ...         ...         ...         ...         ...         ...   \n",
              "2772         1.0         1.0         1.0         0.0         0.0         0.0   \n",
              "2773         1.0         1.0         1.0         0.0         0.0         0.0   \n",
              "2774         1.0         1.0         1.0         0.0         0.0         0.0   \n",
              "2775         1.0         1.0         1.0         0.0         0.0         0.0   \n",
              "2776         1.0         1.0         1.0         0.0         0.0         0.0   \n",
              "\n",
              "      PubchemFP6  PubchemFP7  PubchemFP8  PubchemFP9  ...  PubchemFP871  \\\n",
              "0            0.0         0.0         0.0         1.0  ...           0.0   \n",
              "1            0.0         0.0         0.0         1.0  ...           0.0   \n",
              "2            0.0         0.0         0.0         1.0  ...           0.0   \n",
              "3            0.0         0.0         0.0         1.0  ...           0.0   \n",
              "4            0.0         0.0         0.0         1.0  ...           0.0   \n",
              "...          ...         ...         ...         ...  ...           ...   \n",
              "2772         0.0         0.0         0.0         1.0  ...           0.0   \n",
              "2773         0.0         0.0         0.0         1.0  ...           0.0   \n",
              "2774         0.0         0.0         0.0         1.0  ...           0.0   \n",
              "2775         0.0         0.0         0.0         1.0  ...           0.0   \n",
              "2776         0.0         0.0         0.0         1.0  ...           0.0   \n",
              "\n",
              "      PubchemFP872  PubchemFP873  PubchemFP874  PubchemFP875  PubchemFP876  \\\n",
              "0              0.0           0.0           0.0           0.0           0.0   \n",
              "1              0.0           0.0           0.0           0.0           0.0   \n",
              "2              0.0           0.0           0.0           0.0           0.0   \n",
              "3              0.0           0.0           0.0           0.0           0.0   \n",
              "4              0.0           0.0           0.0           0.0           0.0   \n",
              "...            ...           ...           ...           ...           ...   \n",
              "2772           0.0           0.0           0.0           0.0           0.0   \n",
              "2773           0.0           0.0           0.0           0.0           0.0   \n",
              "2774           0.0           0.0           0.0           0.0           0.0   \n",
              "2775           0.0           0.0           0.0           0.0           0.0   \n",
              "2776           0.0           0.0           0.0           0.0           0.0   \n",
              "\n",
              "      PubchemFP877  PubchemFP878  PubchemFP879  PubchemFP880  \n",
              "0              0.0           0.0           0.0           0.0  \n",
              "1              0.0           0.0           0.0           0.0  \n",
              "2              0.0           0.0           0.0           0.0  \n",
              "3              0.0           0.0           0.0           0.0  \n",
              "4              0.0           0.0           0.0           0.0  \n",
              "...            ...           ...           ...           ...  \n",
              "2772           0.0           0.0           0.0           0.0  \n",
              "2773           0.0           0.0           0.0           0.0  \n",
              "2774           0.0           0.0           0.0           0.0  \n",
              "2775           0.0           0.0           0.0           0.0  \n",
              "2776           0.0           0.0           0.0           0.0  \n",
              "\n",
              "[2777 rows x 881 columns]"
            ]
          },
          "execution_count": 51,
          "metadata": {},
          "output_type": "execute_result"
        }
      ],
      "source": [
        "df_X.drop(columns = ['Name'], axis = 1, inplace = True)\n",
        "X = df_X.astype(float)\n",
        "\n",
        "X"
      ]
    },
    {
      "cell_type": "code",
      "execution_count": 52,
      "metadata": {
        "colab": {
          "base_uri": "https://localhost:8080/"
        },
        "id": "NWfpxhgUgLdP",
        "outputId": "20f1431d-5e84-4194-b318-08faf0739dd4"
      },
      "outputs": [
        {
          "data": {
            "text/plain": [
              "0       1\n",
              "1       1\n",
              "3       1\n",
              "5       1\n",
              "6       1\n",
              "       ..\n",
              "3463    1\n",
              "3464    1\n",
              "3465    1\n",
              "3466    1\n",
              "3467    1\n",
              "Name: class, Length: 2777, dtype: int64"
            ]
          },
          "execution_count": 52,
          "metadata": {},
          "output_type": "execute_result"
        }
      ],
      "source": [
        "y = df['class']\n",
        "y = y.map({'active' : 1, 'inactive' : 0 })\n",
        "\n",
        "y"
      ]
    },
    {
      "cell_type": "code",
      "execution_count": 53,
      "metadata": {},
      "outputs": [
        {
          "data": {
            "text/plain": [
              "class\n",
              "1    2122\n",
              "0     655\n",
              "Name: count, dtype: int64"
            ]
          },
          "execution_count": 53,
          "metadata": {},
          "output_type": "execute_result"
        }
      ],
      "source": [
        "y.value_counts()"
      ]
    },
    {
      "cell_type": "code",
      "execution_count": 54,
      "metadata": {
        "id": "nX23k2GXghcQ"
      },
      "outputs": [],
      "source": [
        "from imblearn.over_sampling import SMOTE\n",
        "\n",
        "\n",
        "smote = SMOTE( random_state=42)\n",
        "X_smote, y_smote = smote.fit_resample(X.astype(float), y)"
      ]
    },
    {
      "cell_type": "code",
      "execution_count": 55,
      "metadata": {
        "colab": {
          "base_uri": "https://localhost:8080/",
          "height": 333
        },
        "id": "wUBXdAbggliE",
        "outputId": "b2885a4a-d895-4b5d-9d1b-e43c50883560"
      },
      "outputs": [
        {
          "data": {
            "image/png": "[encoded data removed]",
            "text/plain": [
              "<Figure size 500x300 with 1 Axes>"
            ]
          },
          "metadata": {},
          "output_type": "display_data"
        }
      ],
      "source": [
        "import matplotlib.pyplot as plt\n",
        "\n",
        "# Menghitung jumlah kejadian untuk setiap kelas setelah resampling\n",
        "class_counts = pd.Series(y_smote).value_counts()\n",
        "\n",
        "# Membuat diagram batang\n",
        "plt.figure(figsize=(5, 3))\n",
        "class_counts.plot(kind='bar')\n",
        "plt.title('Distribusi Kelas Bioaktivitas Setelah SMOTE')\n",
        "plt.xlabel('Kelas')\n",
        "plt.ylabel('Jumlah')\n",
        "plt.xticks(rotation=0)\n",
        "plt.show()"
      ]
    },
    {
      "cell_type": "code",
      "execution_count": 56,
      "metadata": {
        "id": "e46y8dyAhUyN"
      },
      "outputs": [],
      "source": [
        "from sklearn.model_selection import train_test_split\n",
        "X_train, X_test, y_train, y_test = train_test_split(X_smote, y_smote, test_size=0.25, random_state = 123, stratify=y_smote)"
      ]
    },
    {
      "cell_type": "code",
      "execution_count": 57,
      "metadata": {},
      "outputs": [
        {
          "name": "stdout",
          "output_type": "stream",
          "text": [
            "(3183, 881) (1061, 881)\n",
            "(3183,) (1061,)\n"
          ]
        }
      ],
      "source": [
        "print(X_train.shape, X_test.shape)\n",
        "print(y_train.shape, y_test.shape)"
      ]
    },
    {
      "cell_type": "code",
      "execution_count": null,
      "metadata": {
        "colab": {
          "base_uri": "https://localhost:8080/"
        },
        "id": "8fldEYqqhWij",
        "outputId": "5839e188-b751-4d9b-ab8d-6ba13c6df7d8"
      },
      "outputs": [],
      "source": [
        "! pip install catboost"
      ]
    },
    {
      "cell_type": "code",
      "execution_count": 58,
      "metadata": {
        "colab": {
          "base_uri": "https://localhost:8080/"
        },
        "id": "Lc3TrOrKhJ_-",
        "outputId": "9cbcf38b-b42e-4e49-b56f-b1e366c741f1"
      },
      "outputs": [
        {
          "name": "stdout",
          "output_type": "stream",
          "text": [
            "Akurasi model pada data pelatihan: 0.981464027646874\n",
            "Akurasi model pada data validasi: 0.9349670122525919\n"
          ]
        }
      ],
      "source": [
        "import catboost as cb\n",
        "from sklearn.metrics import accuracy_score\n",
        "\n",
        "final_model = cb.CatBoostClassifier(\n",
        "    objective=\"CrossEntropy\",\n",
        "    colsample_bylevel=0.01589,\n",
        "    depth=6,\n",
        "    boosting_type=\"Plain\",\n",
        "    bootstrap_type=\"Bernoulli\",\n",
        "    subsample=0.35347,\n",
        "    learning_rate=0.13,\n",
        "    iterations=4000,\n",
        "    eval_metric=\"Accuracy\",\n",
        "    used_ram_limit=\"3gb\",\n",
        "    random_state=42,\n",
        "    verbose=0\n",
        ")\n",
        "\n",
        "# Melatih model dengan parameter baru\n",
        "final_model.fit(\n",
        "    X_train, y_train,\n",
        "    eval_set=[(X_test, y_test)],\n",
        "    early_stopping_rounds=100  # Menggunakan early stopping\n",
        ")\n",
        "\n",
        "# Evaluasi model\n",
        "preds_train = final_model.predict(X_train)\n",
        "accuracy_train = accuracy_score(y_train, preds_train)\n",
        "preds_valid = final_model.predict(X_test)\n",
        "accuracy_valid = accuracy_score(y_test, preds_valid)\n",
        "\n",
        "print(\"Akurasi model pada data pelatihan:\", accuracy_train)\n",
        "print(\"Akurasi model pada data validasi:\", accuracy_valid)\n"
      ]
    },
    {
      "cell_type": "code",
      "execution_count": null,
      "metadata": {
        "colab": {
          "base_uri": "https://localhost:8080/",
          "height": 1000
        },
        "id": "VoUXSQSwjB-f",
        "outputId": "a63557fa-f6ec-4430-faeb-a72001aab409"
      },
      "outputs": [],
      "source": [
        "import matplotlib.pyplot as plt\n",
        "from sklearn.metrics import confusion_matrix, classification_report, roc_auc_score, roc_curve\n",
        "import seaborn as sns\n",
        "\n",
        "# Confusion Matrix\n",
        "cm = confusion_matrix(y_test, preds_valid)\n",
        "plt.figure(figsize=(8,6))\n",
        "sns.heatmap(cm, annot=True, fmt=\"d\")\n",
        "plt.title(\"Confusion Matrix\")\n",
        "plt.ylabel('Actual label')\n",
        "plt.xlabel('Predicted label')\n",
        "plt.show()\n",
        "\n",
        "# Classification Report\n",
        "print(classification_report(y_test, preds_valid))\n",
        "\n",
        "# ROC Curve dan AUC Score\n",
        "fpr, tpr, thresholds = roc_curve(y_test, final_model.predict_proba(X_test)[:,1])\n",
        "plt.figure(figsize=(8,6))\n",
        "plt.plot(fpr, tpr, label=f'AUC = {roc_auc_score(y_test, preds_valid):.2f}')\n",
        "plt.title('ROC Curve')\n",
        "plt.xlabel('False Positive Rate')\n",
        "plt.ylabel('True Positive Rate')\n",
        "plt.legend(loc='lower right')\n",
        "plt.show()\n",
        "\n"
      ]
    },
    {
      "cell_type": "code",
      "execution_count": null,
      "metadata": {
        "colab": {
          "base_uri": "https://localhost:8080/",
          "height": 564
        },
        "id": "vrO6DT2njJpz",
        "outputId": "81557e3b-338a-4d04-c33e-76fb2d68bbce"
      },
      "outputs": [],
      "source": [
        "from sklearn.calibration import calibration_curve\n",
        "import matplotlib.pyplot as plt\n",
        "\n",
        "# Dapatkan probabilitas prediksi untuk kelas positif\n",
        "probs_pos = final_model.predict_proba(X_test)[:, 1]\n",
        "\n",
        "# Hitung nilai true probabilities dan predicted probabilities\n",
        "true_prob, predicted_prob = calibration_curve(y_test, probs_pos, n_bins=10, strategy='uniform')\n",
        "\n",
        "# Membuat plot calibration curve\n",
        "plt.figure(figsize=(8, 6))\n",
        "plt.plot(predicted_prob, true_prob, 's-', label='Model CatBoost')\n",
        "\n",
        "# Plot garis sempurna sebagai referensi\n",
        "plt.plot([0, 1], [0, 1], 'k--', label='Sempurna Kalibrasi')\n",
        "\n",
        "plt.title('Calibration Curve')\n",
        "plt.xlabel('Probabilitas Prediksi')\n",
        "plt.ylabel('Frekuensi Kelas Positif Sebenarnya')\n",
        "plt.legend(loc='best')\n",
        "plt.grid(True)\n",
        "plt.show()\n"
      ]
    },
    {
      "cell_type": "code",
      "execution_count": null,
      "metadata": {
        "colab": {
          "base_uri": "https://localhost:8080/",
          "height": 564
        },
        "id": "Xp9yCkq2jLab",
        "outputId": "3d80e3a1-23e6-4876-8b6b-dbf194385c7c"
      },
      "outputs": [],
      "source": [
        "from sklearn.calibration import CalibratedClassifierCV\n",
        "\n",
        "# Misalkan 'final_model' adalah model yang sudah dilatih\n",
        "# Kami akan mengkalibrasinya dengan isotonic regression\n",
        "calibrated = CalibratedClassifierCV(final_model, method='isotonic', cv='prefit')\n",
        "\n",
        "# Fit the calibrated model\n",
        "calibrated.fit(X_test, y_test)\n",
        "\n",
        "# Sekarang, model 'calibrated' dapat memberikan probabilitas yang lebih terkalibrasi\n",
        "calibrated_probs = calibrated.predict_proba(X_test)[:, 1]\n",
        "\n",
        "true_prob, predicted_prob = calibration_curve(y_test, calibrated_probs, n_bins=10, strategy='uniform')\n",
        "\n",
        "# Plot calibration curve yang terkalibrasi\n",
        "plt.figure(figsize=(8, 6))\n",
        "plt.plot(predicted_prob, true_prob, 's-', label='Model CatBoost Terkalibrasi')\n",
        "plt.plot([0, 1], [0, 1], 'k--', label='Sempurna Kalibrasi')\n",
        "plt.title('Calibration Curve')\n",
        "plt.xlabel('Probabilitas Prediksi')\n",
        "plt.ylabel('Frekuensi Kelas Positif Sebenarnya')\n",
        "plt.legend(loc='best')\n",
        "plt.grid(True)\n",
        "plt.show()"
      ]
    },
    {
      "cell_type": "code",
      "execution_count": null,
      "metadata": {
        "colab": {
          "base_uri": "https://localhost:8080/"
        },
        "id": "QDlA2idLjY08",
        "outputId": "ae958d56-c9f9-4ea0-bece-a25eb00affd6"
      },
      "outputs": [],
      "source": [
        "from sklearn.metrics import brier_score_loss\n",
        "\n",
        "\n",
        "# Mendapatkan label sebenarnya dari dataset uji\n",
        "y_true = y_test\n",
        "\n",
        "# Sekarang Anda dapat menghitung Brier Score atau metrik evaluasi lainnya\n",
        "brier_score = brier_score_loss(y_true, calibrated_probs)\n",
        "print(\"Brier Score:\", brier_score)"
      ]
    },
    {
      "cell_type": "code",
      "execution_count": null,
      "metadata": {
        "colab": {
          "base_uri": "https://localhost:8080/"
        },
        "id": "UE554czfjVxE",
        "outputId": "9fd54817-5098-4335-e460-594ca30011ca"
      },
      "outputs": [],
      "source": [
        "# Menghitung Brier Score untuk probabilitas yang belum dikalibrasi\n",
        "brier_score_uncaled = brier_score_loss(y_true, probs_pos)\n",
        "print(\"Brier Score untuk probabilitas yang belum dikalibrasi:\", brier_score_uncaled)\n",
        "\n",
        "# Menghitung Brier Score untuk probabilitas yang telah dikalibrasi\n",
        "brier_score_calibrated = brier_score_loss(y_true, calibrated_probs)\n",
        "print(\"Brier Score untuk probabilitas yang telah dikalibrasi:\", brier_score_calibrated)\n",
        "\n",
        "# Membandingkan kedua Brier Score\n",
        "print(\"\\nPerbandingan Brier Score:\")\n",
        "print(\"Tidak Dikalibrasi vs Dikalibrasi: {:.4f} vs {:.4f}\".format(brier_score_uncaled, brier_score_calibrated))"
      ]
    },
    {
      "cell_type": "code",
      "execution_count": null,
      "metadata": {
        "colab": {
          "base_uri": "https://localhost:8080/",
          "height": 423
        },
        "id": "y3SMJUVOjbu2",
        "outputId": "04fc1a81-0ed1-4aeb-fb5d-641071602617"
      },
      "outputs": [],
      "source": [
        "# Menyusun DataFrame untuk membandingkan nilai aktual, prediksi, dan probabilitas.\n",
        "comparison_df = pd.DataFrame({\n",
        "    'Actual': y_test,\n",
        "    'Prediction': preds_valid,\n",
        "    'Probability': probs_pos\n",
        "})\n",
        "\n",
        "comparison_df"
      ]
    },
    {
      "cell_type": "code",
      "execution_count": null,
      "metadata": {
        "colab": {
          "base_uri": "https://localhost:8080/",
          "height": 423
        },
        "id": "11KgaU-Njdj2",
        "outputId": "37111d11-3242-4718-b89d-9b7a95cf5bcd"
      },
      "outputs": [],
      "source": [
        "# Menyusun DataFrame untuk membandingkan nilai aktual, prediksi, dan probabilitas.\n",
        "comparison_df = pd.DataFrame({\n",
        "    'Actual': y_test,\n",
        "    'Prediction': preds_valid,\n",
        "    'Probability': calibrated_probs\n",
        "})\n",
        "\n",
        "comparison_df"
      ]
    }
  ],
  "metadata": {
    "colab": {
      "provenance": []
    },
    "kernelspec": {
      "display_name": "Python 3",
      "name": "python3"
    },
    "language_info": {
      "codemirror_mode": {
        "name": "ipython",
        "version": 3
      },
      "file_extension": ".py",
      "mimetype": "text/x-python",
      "name": "python",
      "nbconvert_exporter": "python",
      "pygments_lexer": "ipython3",
      "version": "3.8.10"
    }
  },
  "nbformat": 4,
  "nbformat_minor": 0
}
