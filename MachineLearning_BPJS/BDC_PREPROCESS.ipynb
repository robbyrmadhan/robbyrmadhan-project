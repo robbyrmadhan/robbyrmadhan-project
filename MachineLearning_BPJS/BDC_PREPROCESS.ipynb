{
 "cells": [
  {
   "cell_type": "code",
   "execution_count": null,
   "metadata": {
    "id": "PoiSgiEpb0Ph",
    "pycharm": {
     "name": "#%%\n"
    }
   },
   "outputs": [],
   "source": [
    "import pandas as pd\n",
    "import numpy as np\n",
    "import matplotlib.pyplot as plt\n",
    "import seaborn as sns\n",
    "from sklearn.decomposition import PCA\n",
    "from sklearn import preprocessing\n",
    "from pandas.tseries.offsets import Day\n",
    "from sklearn.preprocessing import LabelEncoder\n",
    "\n",
    "pd.set_option('display.max_columns', None)"
   ]
  },
  {
   "cell_type": "markdown",
   "metadata": {
    "id": "k0UtjEYsc8wT",
    "pycharm": {
     "name": "#%% md\n"
    },
    "tags": []
   },
   "source": [
    "## PREPROCESSING"
   ]
  },
  {
   "cell_type": "markdown",
   "metadata": {
    "id": "4SogN5yqdD0Q",
    "pycharm": {
     "name": "#%% md\n"
    }
   },
   "source": [
    "### *Read Data*"
   ]
  },
  {
   "cell_type": "code",
   "execution_count": null,
   "metadata": {
    "colab": {
     "base_uri": "https://localhost:8080/"
    },
    "id": "jIq8hk_BbNMV",
    "outputId": "55d81f8c-fe9e-450a-d8ff-8698b1454ff4",
    "pycharm": {
     "name": "#%%\n"
    }
   },
   "outputs": [
    {
     "name": "stdout",
     "output_type": "stream",
     "text": [
      "Mounted at /content/gdrive\n"
     ]
    }
   ],
   "source": [
    "from google.colab import drive\n",
    "\n",
    "drive.mount('/content/gdrive')\n",
    "baseurl = '/content/gdrive/MyDrive/'\n",
    "train_url = baseurl + 'train_fktp (1).csv'\n"
   ]
  },
  {
   "cell_type": "code",
   "execution_count": null,
   "metadata": {
    "id": "ILf1MD8d-AVw",
    "pycharm": {
     "name": "#%%\n"
    }
   },
   "outputs": [],
   "source": [
    "train_df = pd.read_csv(train_url, sep=',')\n",
    "\n",
    "#train_df = pd.read_csv(r\"C:\\Users\\Robby\\Downloads\\BDC\\train_fktp.csv\", sep=',')"
   ]
  },
  {
   "cell_type": "code",
   "execution_count": null,
   "metadata": {
    "colab": {
     "base_uri": "https://localhost:8080/",
     "height": 444
    },
    "id": "dd7-EJIjjwYh",
    "outputId": "11749410-ab57-4933-f11d-eec28ca122f1",
    "pycharm": {
     "name": "#%%\n"
    }
   },
   "outputs": [
    {
     "data": {
      "text/html": [
       "\n",
       "  <div id=\"df-7e2c50cf-1574-4723-b748-ed21e0e35a41\">\n",
       "    <div class=\"colab-df-container\">\n",
       "      <div>\n",
       "<style scoped>\n",
       "    .dataframe tbody tr th:only-of-type {\n",
       "        vertical-align: middle;\n",
       "    }\n",
       "\n",
       "    .dataframe tbody tr th {\n",
       "        vertical-align: top;\n",
       "    }\n",
       "\n",
       "    .dataframe thead th {\n",
       "        text-align: right;\n",
       "    }\n",
       "</style>\n",
       "<table border=\"1\" class=\"dataframe\">\n",
       "  <thead>\n",
       "    <tr style=\"text-align: right;\">\n",
       "      <th></th>\n",
       "      <th>PSTV01</th>\n",
       "      <th>PSTV02</th>\n",
       "      <th>PSTV15</th>\n",
       "      <th>FKP02</th>\n",
       "      <th>FKP03</th>\n",
       "      <th>FKP04</th>\n",
       "      <th>FKP05</th>\n",
       "      <th>FKP06</th>\n",
       "      <th>FKP07</th>\n",
       "      <th>FKP08</th>\n",
       "      <th>FKP09</th>\n",
       "      <th>FKP10</th>\n",
       "      <th>FKP11</th>\n",
       "      <th>FKP12</th>\n",
       "      <th>FKP14</th>\n",
       "      <th>FKP14A</th>\n",
       "      <th>FKP15</th>\n",
       "      <th>FKP15A</th>\n",
       "      <th>FKP16</th>\n",
       "      <th>FKP17</th>\n",
       "      <th>FKP18</th>\n",
       "      <th>FKP19</th>\n",
       "      <th>FKP20</th>\n",
       "      <th>FKP21</th>\n",
       "      <th>FKP22</th>\n",
       "      <th>FKP13Class</th>\n",
       "    </tr>\n",
       "  </thead>\n",
       "  <tbody>\n",
       "    <tr>\n",
       "      <th>0</th>\n",
       "      <td>157978748.0</td>\n",
       "      <td>50765420</td>\n",
       "      <td>20.064983</td>\n",
       "      <td>958073632</td>\n",
       "      <td>2019-08-01</td>\n",
       "      <td>2019-08-01</td>\n",
       "      <td>61</td>\n",
       "      <td>6108</td>\n",
       "      <td>3</td>\n",
       "      <td>1</td>\n",
       "      <td>4</td>\n",
       "      <td>1</td>\n",
       "      <td>12.0</td>\n",
       "      <td>2</td>\n",
       "      <td>9999</td>\n",
       "      <td>NaN</td>\n",
       "      <td>9999</td>\n",
       "      <td>9999</td>\n",
       "      <td>98</td>\n",
       "      <td>9998</td>\n",
       "      <td>98</td>\n",
       "      <td>98</td>\n",
       "      <td>98</td>\n",
       "      <td>98</td>\n",
       "      <td>2</td>\n",
       "      <td>Sehat</td>\n",
       "    </tr>\n",
       "    <tr>\n",
       "      <th>1</th>\n",
       "      <td>95085112.0</td>\n",
       "      <td>26931775</td>\n",
       "      <td>2.626307</td>\n",
       "      <td>449590620P000054</td>\n",
       "      <td>2020-06-17</td>\n",
       "      <td>2020-06-17</td>\n",
       "      <td>51</td>\n",
       "      <td>5171</td>\n",
       "      <td>9</td>\n",
       "      <td>3</td>\n",
       "      <td>2</td>\n",
       "      <td>1</td>\n",
       "      <td>1.0</td>\n",
       "      <td>4</td>\n",
       "      <td>773</td>\n",
       "      <td>K29</td>\n",
       "      <td>K297</td>\n",
       "      <td>Gastritis, unspecified</td>\n",
       "      <td>98</td>\n",
       "      <td>9998</td>\n",
       "      <td>98</td>\n",
       "      <td>98</td>\n",
       "      <td>98</td>\n",
       "      <td>98</td>\n",
       "      <td>1</td>\n",
       "      <td>Belum_Sehat</td>\n",
       "    </tr>\n",
       "    <tr>\n",
       "      <th>2</th>\n",
       "      <td>224470578.0</td>\n",
       "      <td>227368233</td>\n",
       "      <td>1.051830</td>\n",
       "      <td>467490619P000001</td>\n",
       "      <td>2019-06-01</td>\n",
       "      <td>2019-06-01</td>\n",
       "      <td>35</td>\n",
       "      <td>3516</td>\n",
       "      <td>9</td>\n",
       "      <td>2</td>\n",
       "      <td>1</td>\n",
       "      <td>1</td>\n",
       "      <td>3.0</td>\n",
       "      <td>4</td>\n",
       "      <td>1757</td>\n",
       "      <td>Z30</td>\n",
       "      <td>Z309</td>\n",
       "      <td>Contraceptive management, unspecified</td>\n",
       "      <td>98</td>\n",
       "      <td>9998</td>\n",
       "      <td>98</td>\n",
       "      <td>98</td>\n",
       "      <td>98</td>\n",
       "      <td>98</td>\n",
       "      <td>1</td>\n",
       "      <td>Belum_Sehat</td>\n",
       "    </tr>\n",
       "    <tr>\n",
       "      <th>3</th>\n",
       "      <td>63871289.0</td>\n",
       "      <td>62313678</td>\n",
       "      <td>364.741455</td>\n",
       "      <td>254321219Y002368</td>\n",
       "      <td>2019-12-21</td>\n",
       "      <td>2019-12-21</td>\n",
       "      <td>34</td>\n",
       "      <td>3402</td>\n",
       "      <td>3</td>\n",
       "      <td>1</td>\n",
       "      <td>4</td>\n",
       "      <td>1</td>\n",
       "      <td>1.0</td>\n",
       "      <td>5</td>\n",
       "      <td>621</td>\n",
       "      <td>I10</td>\n",
       "      <td>I10</td>\n",
       "      <td>Essential (primary) hypertension</td>\n",
       "      <td>98</td>\n",
       "      <td>9998</td>\n",
       "      <td>98</td>\n",
       "      <td>98</td>\n",
       "      <td>98</td>\n",
       "      <td>98</td>\n",
       "      <td>1</td>\n",
       "      <td>Belum_Sehat</td>\n",
       "    </tr>\n",
       "    <tr>\n",
       "      <th>4</th>\n",
       "      <td>29915626.0</td>\n",
       "      <td>113446188</td>\n",
       "      <td>1.050523</td>\n",
       "      <td>88681119P000020</td>\n",
       "      <td>2019-11-04</td>\n",
       "      <td>2019-11-04</td>\n",
       "      <td>35</td>\n",
       "      <td>3509</td>\n",
       "      <td>3</td>\n",
       "      <td>1</td>\n",
       "      <td>4</td>\n",
       "      <td>1</td>\n",
       "      <td>1.0</td>\n",
       "      <td>1</td>\n",
       "      <td>622</td>\n",
       "      <td>I11</td>\n",
       "      <td>I110</td>\n",
       "      <td>Hypertensive heart disease with (congestive) h...</td>\n",
       "      <td>98</td>\n",
       "      <td>9998</td>\n",
       "      <td>98</td>\n",
       "      <td>98</td>\n",
       "      <td>98</td>\n",
       "      <td>98</td>\n",
       "      <td>1</td>\n",
       "      <td>Belum_Sehat</td>\n",
       "    </tr>\n",
       "  </tbody>\n",
       "</table>\n",
       "</div>\n",
       "      <button class=\"colab-df-convert\" onclick=\"convertToInteractive('df-7e2c50cf-1574-4723-b748-ed21e0e35a41')\"\n",
       "              title=\"Convert this dataframe to an interactive table.\"\n",
       "              style=\"display:none;\">\n",
       "        \n",
       "  <svg xmlns=\"http://www.w3.org/2000/svg\" height=\"24px\"viewBox=\"0 0 24 24\"\n",
       "       width=\"24px\">\n",
       "    <path d=\"M0 0h24v24H0V0z\" fill=\"none\"/>\n",
       "    <path d=\"M18.56 5.44l.94 2.06.94-2.06 2.06-.94-2.06-.94-.94-2.06-.94 2.06-2.06.94zm-11 1L8.5 8.5l.94-2.06 2.06-.94-2.06-.94L8.5 2.5l-.94 2.06-2.06.94zm10 10l.94 2.06.94-2.06 2.06-.94-2.06-.94-.94-2.06-.94 2.06-2.06.94z\"/><path d=\"M17.41 7.96l-1.37-1.37c-.4-.4-.92-.59-1.43-.59-.52 0-1.04.2-1.43.59L10.3 9.45l-7.72 7.72c-.78.78-.78 2.05 0 2.83L4 21.41c.39.39.9.59 1.41.59.51 0 1.02-.2 1.41-.59l7.78-7.78 2.81-2.81c.8-.78.8-2.07 0-2.86zM5.41 20L4 18.59l7.72-7.72 1.47 1.35L5.41 20z\"/>\n",
       "  </svg>\n",
       "      </button>\n",
       "      \n",
       "  <style>\n",
       "    .colab-df-container {\n",
       "      display:flex;\n",
       "      flex-wrap:wrap;\n",
       "      gap: 12px;\n",
       "    }\n",
       "\n",
       "    .colab-df-convert {\n",
       "      background-color: #E8F0FE;\n",
       "      border: none;\n",
       "      border-radius: 50%;\n",
       "      cursor: pointer;\n",
       "      display: none;\n",
       "      fill: #1967D2;\n",
       "      height: 32px;\n",
       "      padding: 0 0 0 0;\n",
       "      width: 32px;\n",
       "    }\n",
       "\n",
       "    .colab-df-convert:hover {\n",
       "      background-color: #E2EBFA;\n",
       "      box-shadow: 0px 1px 2px rgba(60, 64, 67, 0.3), 0px 1px 3px 1px rgba(60, 64, 67, 0.15);\n",
       "      fill: #174EA6;\n",
       "    }\n",
       "\n",
       "    [theme=dark] .colab-df-convert {\n",
       "      background-color: #3B4455;\n",
       "      fill: #D2E3FC;\n",
       "    }\n",
       "\n",
       "    [theme=dark] .colab-df-convert:hover {\n",
       "      background-color: #434B5C;\n",
       "      box-shadow: 0px 1px 3px 1px rgba(0, 0, 0, 0.15);\n",
       "      filter: drop-shadow(0px 1px 2px rgba(0, 0, 0, 0.3));\n",
       "      fill: #FFFFFF;\n",
       "    }\n",
       "  </style>\n",
       "\n",
       "      <script>\n",
       "        const buttonEl =\n",
       "          document.querySelector('#df-7e2c50cf-1574-4723-b748-ed21e0e35a41 button.colab-df-convert');\n",
       "        buttonEl.style.display =\n",
       "          google.colab.kernel.accessAllowed ? 'block' : 'none';\n",
       "\n",
       "        async function convertToInteractive(key) {\n",
       "          const element = document.querySelector('#df-7e2c50cf-1574-4723-b748-ed21e0e35a41');\n",
       "          const dataTable =\n",
       "            await google.colab.kernel.invokeFunction('convertToInteractive',\n",
       "                                                     [key], {});\n",
       "          if (!dataTable) return;\n",
       "\n",
       "          const docLinkHtml = 'Like what you see? Visit the ' +\n",
       "            '<a target=\"_blank\" href=https://colab.research.google.com/notebooks/data_table.ipynb>data table notebook</a>'\n",
       "            + ' to learn more about interactive tables.';\n",
       "          element.innerHTML = '';\n",
       "          dataTable['output_type'] = 'display_data';\n",
       "          await google.colab.output.renderOutput(dataTable, element);\n",
       "          const docLink = document.createElement('div');\n",
       "          docLink.innerHTML = docLinkHtml;\n",
       "          element.appendChild(docLink);\n",
       "        }\n",
       "      </script>\n",
       "    </div>\n",
       "  </div>\n",
       "  "
      ],
      "text/plain": [
       "        PSTV01     PSTV02      PSTV15             FKP02       FKP03  \\\n",
       "0  157978748.0   50765420   20.064983         958073632  2019-08-01   \n",
       "1   95085112.0   26931775    2.626307  449590620P000054  2020-06-17   \n",
       "2  224470578.0  227368233    1.051830  467490619P000001  2019-06-01   \n",
       "3   63871289.0   62313678  364.741455  254321219Y002368  2019-12-21   \n",
       "4   29915626.0  113446188    1.050523   88681119P000020  2019-11-04   \n",
       "\n",
       "        FKP04  FKP05  FKP06  FKP07  FKP08  FKP09  FKP10  FKP11  FKP12  FKP14  \\\n",
       "0  2019-08-01     61   6108      3      1      4      1   12.0      2   9999   \n",
       "1  2020-06-17     51   5171      9      3      2      1    1.0      4    773   \n",
       "2  2019-06-01     35   3516      9      2      1      1    3.0      4   1757   \n",
       "3  2019-12-21     34   3402      3      1      4      1    1.0      5    621   \n",
       "4  2019-11-04     35   3509      3      1      4      1    1.0      1    622   \n",
       "\n",
       "  FKP14A FKP15                                             FKP15A  FKP16  \\\n",
       "0    NaN  9999                                               9999     98   \n",
       "1    K29  K297                             Gastritis, unspecified     98   \n",
       "2    Z30  Z309              Contraceptive management, unspecified     98   \n",
       "3    I10   I10                   Essential (primary) hypertension     98   \n",
       "4    I11  I110  Hypertensive heart disease with (congestive) h...     98   \n",
       "\n",
       "   FKP17  FKP18  FKP19  FKP20  FKP21  FKP22   FKP13Class  \n",
       "0   9998     98     98     98     98      2        Sehat  \n",
       "1   9998     98     98     98     98      1  Belum_Sehat  \n",
       "2   9998     98     98     98     98      1  Belum_Sehat  \n",
       "3   9998     98     98     98     98      1  Belum_Sehat  \n",
       "4   9998     98     98     98     98      1  Belum_Sehat  "
      ]
     },
     "execution_count": 7,
     "metadata": {},
     "output_type": "execute_result"
    }
   ],
   "source": [
    "train_df.head(5)"
   ]
  },
  {
   "cell_type": "code",
   "execution_count": null,
   "metadata": {
    "colab": {
     "base_uri": "https://localhost:8080/"
    },
    "id": "zzCrPqdqw-Vh",
    "outputId": "2c26fecb-1831-4b68-eec8-b63dde276506"
   },
   "outputs": [
    {
     "data": {
      "text/plain": [
       "PSTV01        float64\n",
       "PSTV02          int64\n",
       "PSTV15        float64\n",
       "FKP02          object\n",
       "FKP03          object\n",
       "FKP04          object\n",
       "FKP05           int64\n",
       "FKP06           int64\n",
       "FKP07           int64\n",
       "FKP08           int64\n",
       "FKP09           int64\n",
       "FKP10           int64\n",
       "FKP11         float64\n",
       "FKP12           int64\n",
       "FKP14           int64\n",
       "FKP14A         object\n",
       "FKP15          object\n",
       "FKP15A         object\n",
       "FKP16           int64\n",
       "FKP17           int64\n",
       "FKP18           int64\n",
       "FKP19           int64\n",
       "FKP20           int64\n",
       "FKP21           int64\n",
       "FKP22           int64\n",
       "FKP13Class     object\n",
       "dtype: object"
      ]
     },
     "execution_count": 6,
     "metadata": {},
     "output_type": "execute_result"
    }
   ],
   "source": [
    "train_df.dtypes"
   ]
  },
  {
   "cell_type": "code",
   "execution_count": null,
   "metadata": {
    "colab": {
     "base_uri": "https://localhost:8080/"
    },
    "id": "Y6HDZ9uec4Y9",
    "outputId": "ac90c826-6ed4-4a49-c955-b1e9ac0c3041",
    "pycharm": {
     "name": "#%%\n"
    }
   },
   "outputs": [
    {
     "data": {
      "text/plain": [
       "(4056898, 26)"
      ]
     },
     "execution_count": 5,
     "metadata": {},
     "output_type": "execute_result"
    }
   ],
   "source": [
    "train_df.shape"
   ]
  },
  {
   "cell_type": "code",
   "execution_count": null,
   "metadata": {
    "colab": {
     "base_uri": "https://localhost:8080/",
     "height": 162
    },
    "id": "dg_b2vNJu08N",
    "outputId": "341f5624-8c20-4a8d-f95a-fef913872ba2"
   },
   "outputs": [
    {
     "data": {
      "text/html": [
       "\n",
       "  <div id=\"df-2ff9938b-fe75-4cd6-a66c-ceb552521d54\">\n",
       "    <div class=\"colab-df-container\">\n",
       "      <div>\n",
       "<style scoped>\n",
       "    .dataframe tbody tr th:only-of-type {\n",
       "        vertical-align: middle;\n",
       "    }\n",
       "\n",
       "    .dataframe tbody tr th {\n",
       "        vertical-align: top;\n",
       "    }\n",
       "\n",
       "    .dataframe thead th {\n",
       "        text-align: right;\n",
       "    }\n",
       "</style>\n",
       "<table border=\"1\" class=\"dataframe\">\n",
       "  <thead>\n",
       "    <tr style=\"text-align: right;\">\n",
       "      <th></th>\n",
       "      <th>PSTV01</th>\n",
       "      <th>PSTV02</th>\n",
       "      <th>PSTV15</th>\n",
       "      <th>FKP02</th>\n",
       "      <th>FKP03</th>\n",
       "      <th>FKP04</th>\n",
       "      <th>FKP05</th>\n",
       "      <th>FKP06</th>\n",
       "      <th>FKP07</th>\n",
       "      <th>FKP08</th>\n",
       "      <th>FKP09</th>\n",
       "      <th>FKP10</th>\n",
       "      <th>FKP11</th>\n",
       "      <th>FKP12</th>\n",
       "      <th>FKP14</th>\n",
       "      <th>FKP14A</th>\n",
       "      <th>FKP15</th>\n",
       "      <th>FKP15A</th>\n",
       "      <th>FKP16</th>\n",
       "      <th>FKP17</th>\n",
       "      <th>FKP18</th>\n",
       "      <th>FKP19</th>\n",
       "      <th>FKP20</th>\n",
       "      <th>FKP21</th>\n",
       "      <th>FKP22</th>\n",
       "      <th>FKP13Class</th>\n",
       "    </tr>\n",
       "  </thead>\n",
       "  <tbody>\n",
       "    <tr>\n",
       "      <th>1</th>\n",
       "      <td>95085112.0</td>\n",
       "      <td>26931775</td>\n",
       "      <td>2.626307</td>\n",
       "      <td>449590620P000054</td>\n",
       "      <td>2020-06-17</td>\n",
       "      <td>2020-06-17</td>\n",
       "      <td>51</td>\n",
       "      <td>5171</td>\n",
       "      <td>9</td>\n",
       "      <td>3</td>\n",
       "      <td>2</td>\n",
       "      <td>1</td>\n",
       "      <td>1.0</td>\n",
       "      <td>4</td>\n",
       "      <td>773</td>\n",
       "      <td>K29</td>\n",
       "      <td>K297</td>\n",
       "      <td>Gastritis, unspecified</td>\n",
       "      <td>98</td>\n",
       "      <td>9998</td>\n",
       "      <td>98</td>\n",
       "      <td>98</td>\n",
       "      <td>98</td>\n",
       "      <td>98</td>\n",
       "      <td>1</td>\n",
       "      <td>Belum_Sehat</td>\n",
       "    </tr>\n",
       "  </tbody>\n",
       "</table>\n",
       "</div>\n",
       "      <button class=\"colab-df-convert\" onclick=\"convertToInteractive('df-2ff9938b-fe75-4cd6-a66c-ceb552521d54')\"\n",
       "              title=\"Convert this dataframe to an interactive table.\"\n",
       "              style=\"display:none;\">\n",
       "        \n",
       "  <svg xmlns=\"http://www.w3.org/2000/svg\" height=\"24px\"viewBox=\"0 0 24 24\"\n",
       "       width=\"24px\">\n",
       "    <path d=\"M0 0h24v24H0V0z\" fill=\"none\"/>\n",
       "    <path d=\"M18.56 5.44l.94 2.06.94-2.06 2.06-.94-2.06-.94-.94-2.06-.94 2.06-2.06.94zm-11 1L8.5 8.5l.94-2.06 2.06-.94-2.06-.94L8.5 2.5l-.94 2.06-2.06.94zm10 10l.94 2.06.94-2.06 2.06-.94-2.06-.94-.94-2.06-.94 2.06-2.06.94z\"/><path d=\"M17.41 7.96l-1.37-1.37c-.4-.4-.92-.59-1.43-.59-.52 0-1.04.2-1.43.59L10.3 9.45l-7.72 7.72c-.78.78-.78 2.05 0 2.83L4 21.41c.39.39.9.59 1.41.59.51 0 1.02-.2 1.41-.59l7.78-7.78 2.81-2.81c.8-.78.8-2.07 0-2.86zM5.41 20L4 18.59l7.72-7.72 1.47 1.35L5.41 20z\"/>\n",
       "  </svg>\n",
       "      </button>\n",
       "      \n",
       "  <style>\n",
       "    .colab-df-container {\n",
       "      display:flex;\n",
       "      flex-wrap:wrap;\n",
       "      gap: 12px;\n",
       "    }\n",
       "\n",
       "    .colab-df-convert {\n",
       "      background-color: #E8F0FE;\n",
       "      border: none;\n",
       "      border-radius: 50%;\n",
       "      cursor: pointer;\n",
       "      display: none;\n",
       "      fill: #1967D2;\n",
       "      height: 32px;\n",
       "      padding: 0 0 0 0;\n",
       "      width: 32px;\n",
       "    }\n",
       "\n",
       "    .colab-df-convert:hover {\n",
       "      background-color: #E2EBFA;\n",
       "      box-shadow: 0px 1px 2px rgba(60, 64, 67, 0.3), 0px 1px 3px 1px rgba(60, 64, 67, 0.15);\n",
       "      fill: #174EA6;\n",
       "    }\n",
       "\n",
       "    [theme=dark] .colab-df-convert {\n",
       "      background-color: #3B4455;\n",
       "      fill: #D2E3FC;\n",
       "    }\n",
       "\n",
       "    [theme=dark] .colab-df-convert:hover {\n",
       "      background-color: #434B5C;\n",
       "      box-shadow: 0px 1px 3px 1px rgba(0, 0, 0, 0.15);\n",
       "      filter: drop-shadow(0px 1px 2px rgba(0, 0, 0, 0.3));\n",
       "      fill: #FFFFFF;\n",
       "    }\n",
       "  </style>\n",
       "\n",
       "      <script>\n",
       "        const buttonEl =\n",
       "          document.querySelector('#df-2ff9938b-fe75-4cd6-a66c-ceb552521d54 button.colab-df-convert');\n",
       "        buttonEl.style.display =\n",
       "          google.colab.kernel.accessAllowed ? 'block' : 'none';\n",
       "\n",
       "        async function convertToInteractive(key) {\n",
       "          const element = document.querySelector('#df-2ff9938b-fe75-4cd6-a66c-ceb552521d54');\n",
       "          const dataTable =\n",
       "            await google.colab.kernel.invokeFunction('convertToInteractive',\n",
       "                                                     [key], {});\n",
       "          if (!dataTable) return;\n",
       "\n",
       "          const docLinkHtml = 'Like what you see? Visit the ' +\n",
       "            '<a target=\"_blank\" href=https://colab.research.google.com/notebooks/data_table.ipynb>data table notebook</a>'\n",
       "            + ' to learn more about interactive tables.';\n",
       "          element.innerHTML = '';\n",
       "          dataTable['output_type'] = 'display_data';\n",
       "          await google.colab.output.renderOutput(dataTable, element);\n",
       "          const docLink = document.createElement('div');\n",
       "          docLink.innerHTML = docLinkHtml;\n",
       "          element.appendChild(docLink);\n",
       "        }\n",
       "      </script>\n",
       "    </div>\n",
       "  </div>\n",
       "  "
      ],
      "text/plain": [
       "       PSTV01    PSTV02    PSTV15             FKP02       FKP03       FKP04  \\\n",
       "1  95085112.0  26931775  2.626307  449590620P000054  2020-06-17  2020-06-17   \n",
       "\n",
       "   FKP05  FKP06  FKP07  FKP08  FKP09  FKP10  FKP11  FKP12  FKP14 FKP14A FKP15  \\\n",
       "1     51   5171      9      3      2      1    1.0      4    773    K29  K297   \n",
       "\n",
       "                   FKP15A  FKP16  FKP17  FKP18  FKP19  FKP20  FKP21  FKP22  \\\n",
       "1  Gastritis, unspecified     98   9998     98     98     98     98      1   \n",
       "\n",
       "    FKP13Class  \n",
       "1  Belum_Sehat  "
      ]
     },
     "execution_count": 4,
     "metadata": {},
     "output_type": "execute_result"
    }
   ],
   "source": [
    "#mengambil semua baris pada 'train_df' yang mengandung nilai '449590620P000054' pada setidaknya satu kolom.\n",
    "train_df[train_df.eq('449590620P000054').any(1)]"
   ]
  },
  {
   "cell_type": "markdown",
   "metadata": {
    "id": "lUcUeJhXZeoW",
    "pycharm": {
     "name": "#%% md\n"
    },
    "tags": []
   },
   "source": [
    "### *Check Unique & Missing*"
   ]
  },
  {
   "cell_type": "code",
   "execution_count": null,
   "metadata": {
    "colab": {
     "base_uri": "https://localhost:8080/"
    },
    "id": "DcV_5f1rZj7r",
    "outputId": "fc41b101-d133-42f9-c91b-7934e0014274",
    "pycharm": {
     "name": "#%%\n"
    }
   },
   "outputs": [
    {
     "data": {
      "text/plain": [
       "[100846584.0    248\n",
       " 60566306.0     235\n",
       " 37301192.0     210\n",
       " 48600054.0     206\n",
       " 73374830.0     196\n",
       "               ... \n",
       " 190005805.0      1\n",
       " 8365752.0        1\n",
       " 12585271.0       1\n",
       " 236919998.0      1\n",
       " 24766757.0       1\n",
       " Name: PSTV01, Length: 832023, dtype: int64, 64538089     515\n",
       " 18145538     450\n",
       " 94097905     434\n",
       " 37301192     416\n",
       " 47460939     414\n",
       "             ... \n",
       " 154212952      1\n",
       " 284949120      1\n",
       " 222409154      1\n",
       " 104975497      1\n",
       " 44813505       1\n",
       " Name: PSTV02, Length: 438280, dtype: int64, 1.050523      60615\n",
       " 1.260627       9537\n",
       " 1.155575       9434\n",
       " 1.470732       7970\n",
       " 1.575784       7930\n",
       "               ...  \n",
       " 343.404755        1\n",
       " 209.167953        1\n",
       " 41.534210         1\n",
       " 175.735001        1\n",
       " 132.904984        1\n",
       " Name: PSTV15, Length: 50390, dtype: int64, 958073632           1\n",
       " 259320919P000811    1\n",
       " 804269476           1\n",
       " 387880120P000493    1\n",
       " 349651019P002103    1\n",
       "                    ..\n",
       " 30060219P000030     1\n",
       " 1326480344          1\n",
       " 1121180537          1\n",
       " 319090320P002037    1\n",
       " 1188955927          1\n",
       " Name: FKP02, Length: 4056898, dtype: int64, 2020-02-10    10175\n",
       " 2020-03-09    10114\n",
       " 2020-03-16    10019\n",
       " 2020-03-02     9995\n",
       " 2020-01-13     9970\n",
       "               ...  \n",
       " 2020-04-19      751\n",
       " 2020-05-25      743\n",
       " 2020-05-31      678\n",
       " 2020-07-31      616\n",
       " 2020-05-24      403\n",
       " Name: FKP03, Length: 731, dtype: int64, 2020-02-10    10180\n",
       " 2020-03-09    10092\n",
       " 2020-03-16    10027\n",
       " 2020-01-13     9994\n",
       " 2020-03-02     9983\n",
       "               ...  \n",
       " 2021-01-01       15\n",
       " 2021-01-02       11\n",
       " 2021-01-03        5\n",
       " 2021-01-04        3\n",
       " 2021-01-09        1\n",
       " Name: FKP04, Length: 736, dtype: int64, 33    651697\n",
       " 35    531037\n",
       " 32    496203\n",
       " 12    254116\n",
       " 31    216692\n",
       " 73    158970\n",
       " 16    157231\n",
       " 36    152594\n",
       " 51    126124\n",
       " 14    112094\n",
       " 18    111111\n",
       " 13     99902\n",
       " 11     91300\n",
       " 63     78041\n",
       " 34     77980\n",
       " 74     70823\n",
       " 17     70015\n",
       " 64     69552\n",
       " 52     55057\n",
       " 71     54605\n",
       " 61     53026\n",
       " 72     50245\n",
       " 15     49409\n",
       " 53     49380\n",
       " 21     35828\n",
       " 62     35367\n",
       " 76     26364\n",
       " 19     24615\n",
       " 81     23914\n",
       " 75     19801\n",
       " 82     18039\n",
       " 94     17139\n",
       " 65     10495\n",
       " 91      8132\n",
       " Name: FKP05, dtype: int64, 3172    61790\n",
       " 3374    61038\n",
       " 3578    54004\n",
       " 3201    50559\n",
       " 3603    48522\n",
       "         ...  \n",
       " 9435        5\n",
       " 9431        4\n",
       " 9429        4\n",
       " 9436        1\n",
       " 9410        1\n",
       " Name: FKP06, Length: 509, dtype: int64, 3    2097869\n",
       " 9    1707187\n",
       " 4      67415\n",
       " 5      64002\n",
       " 8      55988\n",
       " 2      39472\n",
       " 6      13842\n",
       " 7      10679\n",
       " 1        444\n",
       " Name: FKP07, dtype: int64, 1    2132939\n",
       " 2    1186523\n",
       " 3     685206\n",
       " 4      29898\n",
       " 5      15262\n",
       " 7       7070\n",
       " Name: FKP08, dtype: int64, 3     1250208\n",
       " 1      991855\n",
       " 4      882731\n",
       " 2      685206\n",
       " 5      193396\n",
       " 6       29898\n",
       " 8       15262\n",
       " 10       7070\n",
       " 7        1272\n",
       " Name: FKP09, dtype: int64, 1    3907253\n",
       " 3     112408\n",
       " 2      37237\n",
       " Name: FKP10, dtype: int64, 1.0     2367660\n",
       " 13.0     860554\n",
       " 12.0     499703\n",
       " 2.0      114222\n",
       " 3.0      105703\n",
       " 4.0       26816\n",
       " 7.0       26037\n",
       " 28.0      20089\n",
       " 5.0       18121\n",
       " 6.0        6379\n",
       " 14.0       5429\n",
       " 18.0       1612\n",
       " 17.0       1465\n",
       " 15.0        826\n",
       " 20.0        716\n",
       " 8.0         456\n",
       " 19.0        414\n",
       " 9.0         207\n",
       " 10.0        150\n",
       " 21.0        146\n",
       " 27.0        118\n",
       " 24.0         28\n",
       " 22.0         17\n",
       " 25.0         14\n",
       " 23.0         13\n",
       " 26.0          2\n",
       " Name: FKP11, dtype: int64, 5    1470371\n",
       " 2    1258555\n",
       " 4     738373\n",
       " 3     372145\n",
       " 1     217454\n",
       " Name: FKP12, dtype: int64, 9999    1380241\n",
       " 694      238562\n",
       " 621      165252\n",
       " 688      157014\n",
       " 774      106718\n",
       "          ...   \n",
       " 1260          1\n",
       " 1178          1\n",
       " 415           1\n",
       " 1915          1\n",
       " 1696          1\n",
       " Name: FKP14, Length: 1837, dtype: int64, J06    238562\n",
       " I10    165252\n",
       " J00    157014\n",
       " K30    106718\n",
       " M79    106498\n",
       "         ...  \n",
       " P93         1\n",
       " F12         1\n",
       " X40         1\n",
       " A67         1\n",
       " Y31         1\n",
       " Name: FKP14A, Length: 1836, dtype: int64, 9999     1380241\n",
       " J069      195186\n",
       " I10       165252\n",
       " J00       157014\n",
       " K30       106718\n",
       "           ...   \n",
       " M8021          1\n",
       " P91            1\n",
       " H063           1\n",
       " M6263          1\n",
       " R859           1\n",
       " Name: FKP15, Length: 9665, dtype: int64, 9999                                                                                                       1380241\n",
       " Acute upper respiratory infection, unspecified                                                              195186\n",
       " Essential (primary) hypertension                                                                            165252\n",
       " Acute nasopharyngitis [common cold]                                                                         157014\n",
       " Dyspepsia                                                                                                   106718\n",
       "                                                                                                             ...   \n",
       " Sequelae of other fractures of lower limb                                                                        1\n",
       " Neuropathic spondylopathy, multiple sites                                                                        1\n",
       " Patulous Eustachian tube                                                                                         1\n",
       " Rh isoimmunization of fetus and newborn                                                                          1\n",
       " Abnormal findings in specimens from digestive organs and abdominal cavity, unspecified abnormal finding          1\n",
       " Name: FKP15A, Length: 9660, dtype: int64, 98    3677528\n",
       " 33      63092\n",
       " 32      55143\n",
       " 35      49310\n",
       " 12      16724\n",
       " 31      14838\n",
       " 51      14772\n",
       " 73      13892\n",
       " 36      13580\n",
       " 16      12346\n",
       " 13      11348\n",
       " 14      11206\n",
       " 34      10919\n",
       " 18       9766\n",
       " 64       9007\n",
       " 63       8222\n",
       " 11       7605\n",
       " 61       5467\n",
       " 71       5242\n",
       " 52       5089\n",
       " 15       4819\n",
       " 17       4568\n",
       " 21       4563\n",
       " 74       4227\n",
       " 53       4021\n",
       " 62       3727\n",
       " 72       3514\n",
       " 19       2495\n",
       " 94       2142\n",
       " 81       1542\n",
       " 76       1516\n",
       " 82       1295\n",
       " 65       1272\n",
       " 75       1095\n",
       " 91       1006\n",
       " Name: FKP16, dtype: int64, 9998    3677528\n",
       " 3578       6974\n",
       " 3374       6764\n",
       " 1471       5786\n",
       " 3273       5363\n",
       "          ...   \n",
       " 9415          7\n",
       " 9413          6\n",
       " 1301          3\n",
       " 8108          3\n",
       " 5320          2\n",
       " Name: FKP17, Length: 482, dtype: int64, 98    3677528\n",
       " 9      208800\n",
       " 3      117312\n",
       " 2       16614\n",
       " 5       13834\n",
       " 4        8464\n",
       " 8        7550\n",
       " 7        2329\n",
       " 1        2244\n",
       " 6        2223\n",
       " Name: FKP18, dtype: int64, 98    3677528\n",
       " 1      368251\n",
       " 2       11119\n",
       " Name: FKP19, dtype: int64, 98    3677528\n",
       " 34     131971\n",
       " 28      88933\n",
       " 27      45995\n",
       " 35      36256\n",
       " 33      15157\n",
       " 38      11201\n",
       " 29       9253\n",
       " 14       8779\n",
       " 37       6997\n",
       " 39       6375\n",
       " 8        5261\n",
       " 13       4388\n",
       " 10       2145\n",
       " 36       1606\n",
       " 26       1149\n",
       " 5         932\n",
       " 6         863\n",
       " 15        730\n",
       " 9         556\n",
       " 31        511\n",
       " 99        204\n",
       " 17         60\n",
       " 11         32\n",
       " 32         15\n",
       " 12          1\n",
       " Name: FKP20, dtype: int64, 98    3677528\n",
       " 99     379370\n",
       " Name: FKP21, dtype: int64, 1    2676657\n",
       " 2    1380241\n",
       " Name: FKP22, dtype: int64, Belum_Sehat    2634511\n",
       " Sehat          1422387\n",
       " Name: FKP13Class, dtype: int64]"
      ]
     },
     "execution_count": 5,
     "metadata": {},
     "output_type": "execute_result"
    }
   ],
   "source": [
    "# menampilkan frekuensi data di masing - masing kolom\n",
    "p1 = []\n",
    "for col in train_df.columns:\n",
    "  p1.append( train_df[col].value_counts() )\n",
    "\n",
    "p1"
   ]
  },
  {
   "cell_type": "code",
   "execution_count": null,
   "metadata": {
    "colab": {
     "base_uri": "https://localhost:8080/"
    },
    "id": "TkRwsDO4kZKR",
    "outputId": "70d18705-12b3-4f56-9c85-4fe6e36216be",
    "pycharm": {
     "name": "#%%\n"
    }
   },
   "outputs": [
    {
     "data": {
      "text/plain": [
       "PSTV01              0\n",
       "PSTV02              0\n",
       "PSTV15              0\n",
       "FKP02               0\n",
       "FKP03               0\n",
       "FKP04               0\n",
       "FKP05               0\n",
       "FKP06               0\n",
       "FKP07               0\n",
       "FKP08               0\n",
       "FKP09               0\n",
       "FKP10               0\n",
       "FKP11               1\n",
       "FKP12               0\n",
       "FKP14               0\n",
       "FKP14A        1380241\n",
       "FKP15               0\n",
       "FKP15A              0\n",
       "FKP16               0\n",
       "FKP17               0\n",
       "FKP18               0\n",
       "FKP19               0\n",
       "FKP20               0\n",
       "FKP21               0\n",
       "FKP22               0\n",
       "FKP13Class          0\n",
       "dtype: int64"
      ]
     },
     "execution_count": 4,
     "metadata": {},
     "output_type": "execute_result"
    }
   ],
   "source": [
    "# check NaN\n",
    "# terdapat 1 NaN di FKP11 & 1.380.241 FKP14A\n",
    "train_df.isnull().sum()"
   ]
  },
  {
   "cell_type": "code",
   "execution_count": null,
   "metadata": {
    "colab": {
     "base_uri": "https://localhost:8080/",
     "height": 162
    },
    "id": "eVwcayThkjPw",
    "outputId": "e0aa794f-fbde-4603-f253-cda05aaa8b2b",
    "pycharm": {
     "name": "#%%\n"
    }
   },
   "outputs": [
    {
     "data": {
      "text/html": [
       "\n",
       "  <div id=\"df-d355cabe-ce98-4f63-b344-27e4b3032881\">\n",
       "    <div class=\"colab-df-container\">\n",
       "      <div>\n",
       "<style scoped>\n",
       "    .dataframe tbody tr th:only-of-type {\n",
       "        vertical-align: middle;\n",
       "    }\n",
       "\n",
       "    .dataframe tbody tr th {\n",
       "        vertical-align: top;\n",
       "    }\n",
       "\n",
       "    .dataframe thead th {\n",
       "        text-align: right;\n",
       "    }\n",
       "</style>\n",
       "<table border=\"1\" class=\"dataframe\">\n",
       "  <thead>\n",
       "    <tr style=\"text-align: right;\">\n",
       "      <th></th>\n",
       "      <th>PSTV01</th>\n",
       "      <th>PSTV02</th>\n",
       "      <th>PSTV15</th>\n",
       "      <th>FKP02</th>\n",
       "      <th>FKP03</th>\n",
       "      <th>FKP04</th>\n",
       "      <th>FKP05</th>\n",
       "      <th>FKP06</th>\n",
       "      <th>FKP07</th>\n",
       "      <th>FKP08</th>\n",
       "      <th>FKP09</th>\n",
       "      <th>FKP10</th>\n",
       "      <th>FKP11</th>\n",
       "      <th>FKP12</th>\n",
       "      <th>FKP14</th>\n",
       "      <th>FKP14A</th>\n",
       "      <th>FKP15</th>\n",
       "      <th>FKP15A</th>\n",
       "      <th>FKP16</th>\n",
       "      <th>FKP17</th>\n",
       "      <th>FKP18</th>\n",
       "      <th>FKP19</th>\n",
       "      <th>FKP20</th>\n",
       "      <th>FKP21</th>\n",
       "      <th>FKP22</th>\n",
       "      <th>FKP13Class</th>\n",
       "    </tr>\n",
       "  </thead>\n",
       "  <tbody>\n",
       "    <tr>\n",
       "      <th>1048800</th>\n",
       "      <td>53499334.0</td>\n",
       "      <td>177329885</td>\n",
       "      <td>184.99704</td>\n",
       "      <td>1237961348</td>\n",
       "      <td>2020-05-20</td>\n",
       "      <td>2020-05-20</td>\n",
       "      <td>35</td>\n",
       "      <td>3509</td>\n",
       "      <td>3</td>\n",
       "      <td>1</td>\n",
       "      <td>4</td>\n",
       "      <td>1</td>\n",
       "      <td>NaN</td>\n",
       "      <td>3</td>\n",
       "      <td>9999</td>\n",
       "      <td>NaN</td>\n",
       "      <td>9999</td>\n",
       "      <td>9999</td>\n",
       "      <td>98</td>\n",
       "      <td>9998</td>\n",
       "      <td>98</td>\n",
       "      <td>98</td>\n",
       "      <td>98</td>\n",
       "      <td>98</td>\n",
       "      <td>2</td>\n",
       "      <td>Sehat</td>\n",
       "    </tr>\n",
       "  </tbody>\n",
       "</table>\n",
       "</div>\n",
       "      <button class=\"colab-df-convert\" onclick=\"convertToInteractive('df-d355cabe-ce98-4f63-b344-27e4b3032881')\"\n",
       "              title=\"Convert this dataframe to an interactive table.\"\n",
       "              style=\"display:none;\">\n",
       "        \n",
       "  <svg xmlns=\"http://www.w3.org/2000/svg\" height=\"24px\"viewBox=\"0 0 24 24\"\n",
       "       width=\"24px\">\n",
       "    <path d=\"M0 0h24v24H0V0z\" fill=\"none\"/>\n",
       "    <path d=\"M18.56 5.44l.94 2.06.94-2.06 2.06-.94-2.06-.94-.94-2.06-.94 2.06-2.06.94zm-11 1L8.5 8.5l.94-2.06 2.06-.94-2.06-.94L8.5 2.5l-.94 2.06-2.06.94zm10 10l.94 2.06.94-2.06 2.06-.94-2.06-.94-.94-2.06-.94 2.06-2.06.94z\"/><path d=\"M17.41 7.96l-1.37-1.37c-.4-.4-.92-.59-1.43-.59-.52 0-1.04.2-1.43.59L10.3 9.45l-7.72 7.72c-.78.78-.78 2.05 0 2.83L4 21.41c.39.39.9.59 1.41.59.51 0 1.02-.2 1.41-.59l7.78-7.78 2.81-2.81c.8-.78.8-2.07 0-2.86zM5.41 20L4 18.59l7.72-7.72 1.47 1.35L5.41 20z\"/>\n",
       "  </svg>\n",
       "      </button>\n",
       "      \n",
       "  <style>\n",
       "    .colab-df-container {\n",
       "      display:flex;\n",
       "      flex-wrap:wrap;\n",
       "      gap: 12px;\n",
       "    }\n",
       "\n",
       "    .colab-df-convert {\n",
       "      background-color: #E8F0FE;\n",
       "      border: none;\n",
       "      border-radius: 50%;\n",
       "      cursor: pointer;\n",
       "      display: none;\n",
       "      fill: #1967D2;\n",
       "      height: 32px;\n",
       "      padding: 0 0 0 0;\n",
       "      width: 32px;\n",
       "    }\n",
       "\n",
       "    .colab-df-convert:hover {\n",
       "      background-color: #E2EBFA;\n",
       "      box-shadow: 0px 1px 2px rgba(60, 64, 67, 0.3), 0px 1px 3px 1px rgba(60, 64, 67, 0.15);\n",
       "      fill: #174EA6;\n",
       "    }\n",
       "\n",
       "    [theme=dark] .colab-df-convert {\n",
       "      background-color: #3B4455;\n",
       "      fill: #D2E3FC;\n",
       "    }\n",
       "\n",
       "    [theme=dark] .colab-df-convert:hover {\n",
       "      background-color: #434B5C;\n",
       "      box-shadow: 0px 1px 3px 1px rgba(0, 0, 0, 0.15);\n",
       "      filter: drop-shadow(0px 1px 2px rgba(0, 0, 0, 0.3));\n",
       "      fill: #FFFFFF;\n",
       "    }\n",
       "  </style>\n",
       "\n",
       "      <script>\n",
       "        const buttonEl =\n",
       "          document.querySelector('#df-d355cabe-ce98-4f63-b344-27e4b3032881 button.colab-df-convert');\n",
       "        buttonEl.style.display =\n",
       "          google.colab.kernel.accessAllowed ? 'block' : 'none';\n",
       "\n",
       "        async function convertToInteractive(key) {\n",
       "          const element = document.querySelector('#df-d355cabe-ce98-4f63-b344-27e4b3032881');\n",
       "          const dataTable =\n",
       "            await google.colab.kernel.invokeFunction('convertToInteractive',\n",
       "                                                     [key], {});\n",
       "          if (!dataTable) return;\n",
       "\n",
       "          const docLinkHtml = 'Like what you see? Visit the ' +\n",
       "            '<a target=\"_blank\" href=https://colab.research.google.com/notebooks/data_table.ipynb>data table notebook</a>'\n",
       "            + ' to learn more about interactive tables.';\n",
       "          element.innerHTML = '';\n",
       "          dataTable['output_type'] = 'display_data';\n",
       "          await google.colab.output.renderOutput(dataTable, element);\n",
       "          const docLink = document.createElement('div');\n",
       "          docLink.innerHTML = docLinkHtml;\n",
       "          element.appendChild(docLink);\n",
       "        }\n",
       "      </script>\n",
       "    </div>\n",
       "  </div>\n",
       "  "
      ],
      "text/plain": [
       "             PSTV01     PSTV02     PSTV15       FKP02       FKP03       FKP04  \\\n",
       "1048800  53499334.0  177329885  184.99704  1237961348  2020-05-20  2020-05-20   \n",
       "\n",
       "         FKP05  FKP06  FKP07  FKP08  FKP09  FKP10  FKP11  FKP12  FKP14 FKP14A  \\\n",
       "1048800     35   3509      3      1      4      1    NaN      3   9999    NaN   \n",
       "\n",
       "        FKP15 FKP15A  FKP16  FKP17  FKP18  FKP19  FKP20  FKP21  FKP22  \\\n",
       "1048800  9999   9999     98   9998     98     98     98     98      2   \n",
       "\n",
       "        FKP13Class  \n",
       "1048800      Sehat  "
      ]
     },
     "execution_count": 8,
     "metadata": {},
     "output_type": "execute_result"
    }
   ],
   "source": [
    "# terdapat 1 NaN di FKP11\n",
    "train_df.loc[train_df.FKP11.isna()]"
   ]
  },
  {
   "cell_type": "markdown",
   "metadata": {
    "id": "-xd9j0QVXLXP",
    "jp-MarkdownHeadingCollapsed": true,
    "pycharm": {
     "name": "#%% md\n"
    },
    "tags": []
   },
   "source": [
    "### *Solving Missing Value*"
   ]
  },
  {
   "cell_type": "code",
   "execution_count": null,
   "metadata": {
    "id": "HoGfFzqrj12F",
    "pycharm": {
     "name": "#%%\n"
    }
   },
   "outputs": [],
   "source": [
    "# Filling NaN using 999\n",
    "train_df = train_df.fillna(9999)"
   ]
  },
  {
   "cell_type": "code",
   "execution_count": null,
   "metadata": {
    "id": "VWlc2BqfyeLm"
   },
   "outputs": [],
   "source": [
    "#train_df = train_df.fillna(0)"
   ]
  },
  {
   "cell_type": "code",
   "execution_count": null,
   "metadata": {
    "id": "dAA-rpF6GnFL",
    "pycharm": {
     "name": "#%%\n"
    }
   },
   "outputs": [],
   "source": [
    "train_df.head()"
   ]
  },
  {
   "cell_type": "code",
   "execution_count": null,
   "metadata": {
    "id": "xlvnqWQLJu8w",
    "pycharm": {
     "name": "#%%\n"
    }
   },
   "outputs": [],
   "source": [
    "# check NaN Value again, there is nothing NaN again in dataframe\n",
    "train_df.isnull().sum()"
   ]
  },
  {
   "cell_type": "markdown",
   "metadata": {
    "id": "jScUIxyN3fzZ",
    "pycharm": {
     "name": "#%% md\n"
    },
    "tags": []
   },
   "source": [
    "### *Create Duration Column Based on FKP03 & FKP04*"
   ]
  },
  {
   "cell_type": "code",
   "execution_count": null,
   "metadata": {
    "id": "76NugMH16kqj",
    "pycharm": {
     "name": "#%%\n"
    }
   },
   "outputs": [],
   "source": [
    "#Fungsi untuk mengubah data ke format datetime\n",
    "#def to_dt(train_df, FKP03, FKP04):\n",
    "  #  return pd.to_datetime(train_df['FKP03, FKP04'], infer_datetime_format = True)"
   ]
  },
  {
   "cell_type": "code",
   "execution_count": null,
   "metadata": {
    "id": "CTFmodhjAl_r",
    "pycharm": {
     "name": "#%%\n"
    }
   },
   "outputs": [],
   "source": [
    "# change dtypes to datetimes\n",
    "train_df['FKP03']=pd.to_datetime(train_df.FKP03)\n",
    "train_df['FKP04']=pd.to_datetime(train_df.FKP04)"
   ]
  },
  {
   "cell_type": "code",
   "execution_count": null,
   "metadata": {
    "id": "TFQ5aDG0CK09",
    "pycharm": {
     "name": "#%%\n"
    }
   },
   "outputs": [],
   "source": [
    "# create duration variable\n",
    "train_df['DURASI'] = (train_df['FKP04'].sub(train_df['FKP03']).mod(365*Day()).dt.days) +1"
   ]
  },
  {
   "cell_type": "code",
   "execution_count": null,
   "metadata": {
    "colab": {
     "base_uri": "https://localhost:8080/",
     "height": 211
    },
    "id": "8hOOedV4Gywe",
    "outputId": "a1237b8d-8d29-4d2e-99fd-53dfe52600a0",
    "pycharm": {
     "name": "#%%\n"
    }
   },
   "outputs": [
    {
     "data": {
      "text/html": [
       "\n",
       "  <div id=\"df-78e7815d-2c23-4b7f-9962-475ccf0a85ed\">\n",
       "    <div class=\"colab-df-container\">\n",
       "      <div>\n",
       "<style scoped>\n",
       "    .dataframe tbody tr th:only-of-type {\n",
       "        vertical-align: middle;\n",
       "    }\n",
       "\n",
       "    .dataframe tbody tr th {\n",
       "        vertical-align: top;\n",
       "    }\n",
       "\n",
       "    .dataframe thead th {\n",
       "        text-align: right;\n",
       "    }\n",
       "</style>\n",
       "<table border=\"1\" class=\"dataframe\">\n",
       "  <thead>\n",
       "    <tr style=\"text-align: right;\">\n",
       "      <th></th>\n",
       "      <th>PSTV01</th>\n",
       "      <th>PSTV02</th>\n",
       "      <th>PSTV15</th>\n",
       "      <th>FKP02</th>\n",
       "      <th>FKP03</th>\n",
       "      <th>FKP04</th>\n",
       "      <th>FKP05</th>\n",
       "      <th>FKP06</th>\n",
       "      <th>FKP07</th>\n",
       "      <th>FKP08</th>\n",
       "      <th>FKP09</th>\n",
       "      <th>FKP10</th>\n",
       "      <th>FKP11</th>\n",
       "      <th>FKP12</th>\n",
       "      <th>FKP14</th>\n",
       "      <th>FKP14A</th>\n",
       "      <th>FKP15</th>\n",
       "      <th>FKP15A</th>\n",
       "      <th>FKP16</th>\n",
       "      <th>FKP17</th>\n",
       "      <th>FKP18</th>\n",
       "      <th>FKP19</th>\n",
       "      <th>FKP20</th>\n",
       "      <th>FKP21</th>\n",
       "      <th>FKP22</th>\n",
       "      <th>FKP13Class</th>\n",
       "      <th>DURASI</th>\n",
       "    </tr>\n",
       "  </thead>\n",
       "  <tbody>\n",
       "    <tr>\n",
       "      <th>0</th>\n",
       "      <td>157978748.0</td>\n",
       "      <td>50765420</td>\n",
       "      <td>20.064983</td>\n",
       "      <td>958073632</td>\n",
       "      <td>2019-08-01</td>\n",
       "      <td>2019-08-01</td>\n",
       "      <td>61</td>\n",
       "      <td>6108</td>\n",
       "      <td>3</td>\n",
       "      <td>1</td>\n",
       "      <td>4</td>\n",
       "      <td>1</td>\n",
       "      <td>12.0</td>\n",
       "      <td>2</td>\n",
       "      <td>9999</td>\n",
       "      <td>9999</td>\n",
       "      <td>9999</td>\n",
       "      <td>9999</td>\n",
       "      <td>98</td>\n",
       "      <td>9998</td>\n",
       "      <td>98</td>\n",
       "      <td>98</td>\n",
       "      <td>98</td>\n",
       "      <td>98</td>\n",
       "      <td>2</td>\n",
       "      <td>Sehat</td>\n",
       "      <td>1</td>\n",
       "    </tr>\n",
       "    <tr>\n",
       "      <th>1</th>\n",
       "      <td>95085112.0</td>\n",
       "      <td>26931775</td>\n",
       "      <td>2.626307</td>\n",
       "      <td>449590620P000054</td>\n",
       "      <td>2020-06-17</td>\n",
       "      <td>2020-06-17</td>\n",
       "      <td>51</td>\n",
       "      <td>5171</td>\n",
       "      <td>9</td>\n",
       "      <td>3</td>\n",
       "      <td>2</td>\n",
       "      <td>1</td>\n",
       "      <td>1.0</td>\n",
       "      <td>4</td>\n",
       "      <td>773</td>\n",
       "      <td>K29</td>\n",
       "      <td>K297</td>\n",
       "      <td>Gastritis, unspecified</td>\n",
       "      <td>98</td>\n",
       "      <td>9998</td>\n",
       "      <td>98</td>\n",
       "      <td>98</td>\n",
       "      <td>98</td>\n",
       "      <td>98</td>\n",
       "      <td>1</td>\n",
       "      <td>Belum_Sehat</td>\n",
       "      <td>1</td>\n",
       "    </tr>\n",
       "  </tbody>\n",
       "</table>\n",
       "</div>\n",
       "      <button class=\"colab-df-convert\" onclick=\"convertToInteractive('df-78e7815d-2c23-4b7f-9962-475ccf0a85ed')\"\n",
       "              title=\"Convert this dataframe to an interactive table.\"\n",
       "              style=\"display:none;\">\n",
       "        \n",
       "  <svg xmlns=\"http://www.w3.org/2000/svg\" height=\"24px\"viewBox=\"0 0 24 24\"\n",
       "       width=\"24px\">\n",
       "    <path d=\"M0 0h24v24H0V0z\" fill=\"none\"/>\n",
       "    <path d=\"M18.56 5.44l.94 2.06.94-2.06 2.06-.94-2.06-.94-.94-2.06-.94 2.06-2.06.94zm-11 1L8.5 8.5l.94-2.06 2.06-.94-2.06-.94L8.5 2.5l-.94 2.06-2.06.94zm10 10l.94 2.06.94-2.06 2.06-.94-2.06-.94-.94-2.06-.94 2.06-2.06.94z\"/><path d=\"M17.41 7.96l-1.37-1.37c-.4-.4-.92-.59-1.43-.59-.52 0-1.04.2-1.43.59L10.3 9.45l-7.72 7.72c-.78.78-.78 2.05 0 2.83L4 21.41c.39.39.9.59 1.41.59.51 0 1.02-.2 1.41-.59l7.78-7.78 2.81-2.81c.8-.78.8-2.07 0-2.86zM5.41 20L4 18.59l7.72-7.72 1.47 1.35L5.41 20z\"/>\n",
       "  </svg>\n",
       "      </button>\n",
       "      \n",
       "  <style>\n",
       "    .colab-df-container {\n",
       "      display:flex;\n",
       "      flex-wrap:wrap;\n",
       "      gap: 12px;\n",
       "    }\n",
       "\n",
       "    .colab-df-convert {\n",
       "      background-color: #E8F0FE;\n",
       "      border: none;\n",
       "      border-radius: 50%;\n",
       "      cursor: pointer;\n",
       "      display: none;\n",
       "      fill: #1967D2;\n",
       "      height: 32px;\n",
       "      padding: 0 0 0 0;\n",
       "      width: 32px;\n",
       "    }\n",
       "\n",
       "    .colab-df-convert:hover {\n",
       "      background-color: #E2EBFA;\n",
       "      box-shadow: 0px 1px 2px rgba(60, 64, 67, 0.3), 0px 1px 3px 1px rgba(60, 64, 67, 0.15);\n",
       "      fill: #174EA6;\n",
       "    }\n",
       "\n",
       "    [theme=dark] .colab-df-convert {\n",
       "      background-color: #3B4455;\n",
       "      fill: #D2E3FC;\n",
       "    }\n",
       "\n",
       "    [theme=dark] .colab-df-convert:hover {\n",
       "      background-color: #434B5C;\n",
       "      box-shadow: 0px 1px 3px 1px rgba(0, 0, 0, 0.15);\n",
       "      filter: drop-shadow(0px 1px 2px rgba(0, 0, 0, 0.3));\n",
       "      fill: #FFFFFF;\n",
       "    }\n",
       "  </style>\n",
       "\n",
       "      <script>\n",
       "        const buttonEl =\n",
       "          document.querySelector('#df-78e7815d-2c23-4b7f-9962-475ccf0a85ed button.colab-df-convert');\n",
       "        buttonEl.style.display =\n",
       "          google.colab.kernel.accessAllowed ? 'block' : 'none';\n",
       "\n",
       "        async function convertToInteractive(key) {\n",
       "          const element = document.querySelector('#df-78e7815d-2c23-4b7f-9962-475ccf0a85ed');\n",
       "          const dataTable =\n",
       "            await google.colab.kernel.invokeFunction('convertToInteractive',\n",
       "                                                     [key], {});\n",
       "          if (!dataTable) return;\n",
       "\n",
       "          const docLinkHtml = 'Like what you see? Visit the ' +\n",
       "            '<a target=\"_blank\" href=https://colab.research.google.com/notebooks/data_table.ipynb>data table notebook</a>'\n",
       "            + ' to learn more about interactive tables.';\n",
       "          element.innerHTML = '';\n",
       "          dataTable['output_type'] = 'display_data';\n",
       "          await google.colab.output.renderOutput(dataTable, element);\n",
       "          const docLink = document.createElement('div');\n",
       "          docLink.innerHTML = docLinkHtml;\n",
       "          element.appendChild(docLink);\n",
       "        }\n",
       "      </script>\n",
       "    </div>\n",
       "  </div>\n",
       "  "
      ],
      "text/plain": [
       "        PSTV01    PSTV02     PSTV15             FKP02      FKP03      FKP04  \\\n",
       "0  157978748.0  50765420  20.064983         958073632 2019-08-01 2019-08-01   \n",
       "1   95085112.0  26931775   2.626307  449590620P000054 2020-06-17 2020-06-17   \n",
       "\n",
       "   FKP05  FKP06  FKP07  FKP08  FKP09  FKP10  FKP11  FKP12  FKP14 FKP14A FKP15  \\\n",
       "0     61   6108      3      1      4      1   12.0      2   9999   9999  9999   \n",
       "1     51   5171      9      3      2      1    1.0      4    773    K29  K297   \n",
       "\n",
       "                   FKP15A  FKP16  FKP17  FKP18  FKP19  FKP20  FKP21  FKP22  \\\n",
       "0                    9999     98   9998     98     98     98     98      2   \n",
       "1  Gastritis, unspecified     98   9998     98     98     98     98      1   \n",
       "\n",
       "    FKP13Class  DURASI  \n",
       "0        Sehat       1  \n",
       "1  Belum_Sehat       1  "
      ]
     },
     "execution_count": 18,
     "metadata": {},
     "output_type": "execute_result"
    }
   ],
   "source": [
    "train_df.head(2)"
   ]
  },
  {
   "cell_type": "code",
   "execution_count": null,
   "metadata": {
    "id": "ZcO8q6-TQeZp",
    "pycharm": {
     "name": "#%%\n"
    }
   },
   "outputs": [],
   "source": [
    "# rearrange a bit\n",
    "\n",
    "# train_df.columns.values\n",
    "cols = ['PSTV01', 'PSTV02', 'DURASI','PSTV15', 'FKP02', 'FKP03', 'FKP04', 'FKP05',\n",
    "       'FKP06', 'FKP07', 'FKP08', 'FKP09', 'FKP10', 'FKP11', 'FKP12',\n",
    "       'FKP14', 'FKP14A', 'FKP15', 'FKP15A', 'FKP16', 'FKP17', 'FKP18',\n",
    "       'FKP19', 'FKP20', 'FKP21', 'FKP22', 'FKP13Class']\n",
    "\n",
    "train_df = train_df[cols]"
   ]
  },
  {
   "cell_type": "markdown",
   "metadata": {
    "id": "D5Tusc-5ZNs0",
    "pycharm": {
     "name": "#%% md\n"
    }
   },
   "source": [
    "### *Drop Variable*"
   ]
  },
  {
   "cell_type": "code",
   "execution_count": null,
   "metadata": {
    "id": "_Pfr4yaiZSE-",
    "pycharm": {
     "name": "#%%\n"
    }
   },
   "outputs": [],
   "source": [
    "# drop column\n",
    "fkp02 = train_df[['FKP02']]\n",
    "train_df = train_df.drop(['PSTV01', 'PSTV02', 'FKP02', 'FKP03', 'FKP04', 'FKP07', 'FKP15A'], axis=1)"
   ]
  },
  {
   "cell_type": "markdown",
   "metadata": {
    "id": "ZlaI0sNl9uqi",
    "pycharm": {
     "name": "#%% md\n"
    }
   },
   "source": [
    "### *Split Features into numerical and Categorical*"
   ]
  },
  {
   "cell_type": "code",
   "execution_count": null,
   "metadata": {
    "collapsed": false,
    "id": "I9RC03PB9uqj",
    "jupyter": {
     "outputs_hidden": false
    },
    "pycharm": {
     "name": "#%%\n"
    }
   },
   "outputs": [],
   "source": [
    "num = train_df.select_dtypes(include = 'number')"
   ]
  },
  {
   "cell_type": "code",
   "execution_count": null,
   "metadata": {
    "collapsed": false,
    "id": "UhKGyDIr9uqk",
    "jupyter": {
     "outputs_hidden": false
    },
    "pycharm": {
     "name": "#%%\n"
    }
   },
   "outputs": [],
   "source": [
    "char = train_df.select_dtypes(include = 'object')"
   ]
  },
  {
   "cell_type": "markdown",
   "metadata": {
    "id": "M73agyby9uqk",
    "pycharm": {
     "name": "#%% md\n"
    },
    "tags": []
   },
   "source": [
    "### *Handling Outliers*"
   ]
  },
  {
   "cell_type": "code",
   "execution_count": null,
   "metadata": {
    "collapsed": false,
    "id": "eaZ3vgtu9uqk",
    "jupyter": {
     "outputs_hidden": false
    },
    "pycharm": {
     "name": "#%%\n"
    }
   },
   "outputs": [],
   "source": [
    "num.describe( percentiles= [0.01, 0.05, 0.10, 0.25, 0.50, 0.75, 0.85, 0.9, 0.99])"
   ]
  },
  {
   "cell_type": "code",
   "execution_count": null,
   "metadata": {
    "collapsed": false,
    "id": "F0eAhZVP9uql",
    "jupyter": {
     "outputs_hidden": false
    },
    "pycharm": {
     "name": "#%%\n"
    }
   },
   "outputs": [],
   "source": [
    "# capping & flooring method\n",
    "def outlier_cap(x):\n",
    "    x=x.clip(lower=x.quantile(0.01))\n",
    "    x=x.clip(upper=x.quantile(0.99))\n",
    "    return(x)"
   ]
  },
  {
   "cell_type": "code",
   "execution_count": null,
   "metadata": {
    "collapsed": false,
    "id": "-BOcHYpo9uql",
    "jupyter": {
     "outputs_hidden": false
    },
    "pycharm": {
     "name": "#%%\n"
    }
   },
   "outputs": [],
   "source": [
    "# solving outliers\n",
    "num = num.apply( lambda x : outlier_cap(x) )"
   ]
  },
  {
   "cell_type": "code",
   "execution_count": null,
   "metadata": {
    "collapsed": false,
    "id": "ZebFDx2p9uqm",
    "jupyter": {
     "outputs_hidden": false
    },
    "pycharm": {
     "name": "#%%\n"
    }
   },
   "outputs": [],
   "source": [
    "# check outliers again\n",
    "num.describe(percentiles=[0.01,0.05,0.10,0.25,0.50,0.75,0.85,0.9,0.99])"
   ]
  },
  {
   "cell_type": "code",
   "execution_count": null,
   "metadata": {
    "id": "C-fANk9D9uqm",
    "pycharm": {
     "name": "#%%\n"
    }
   },
   "outputs": [],
   "source": [
    "num.head(2)"
   ]
  },
  {
   "cell_type": "markdown",
   "metadata": {
    "id": "lOjBmaVU6-Ep",
    "jp-MarkdownHeadingCollapsed": true,
    "pycharm": {
     "name": "#%% md\n"
    },
    "tags": []
   },
   "source": [
    "### *Encoding Categorical Variable*"
   ]
  },
  {
   "cell_type": "code",
   "execution_count": null,
   "metadata": {
    "colab": {
     "base_uri": "https://localhost:8080/"
    },
    "id": "lWEvWQuQEMeG",
    "outputId": "053d672f-90d4-4e96-c849-8903785558a0",
    "pycharm": {
     "name": "#%%\n"
    }
   },
   "outputs": [
    {
     "data": {
      "text/plain": [
       "FKP14A        object\n",
       "FKP15         object\n",
       "FKP13Class    object\n",
       "dtype: object"
      ]
     },
     "execution_count": 22,
     "metadata": {},
     "output_type": "execute_result"
    }
   ],
   "source": [
    "char.dtypes"
   ]
  },
  {
   "cell_type": "code",
   "execution_count": null,
   "metadata": {
    "colab": {
     "base_uri": "https://localhost:8080/"
    },
    "id": "cAh4UOu7Fxvl",
    "outputId": "4fd56649-b4c9-49ef-d480-59cc1d688ea4",
    "pycharm": {
     "name": "#%%\n"
    }
   },
   "outputs": [
    {
     "name": "stderr",
     "output_type": "stream",
     "text": [
      "/usr/local/lib/python3.7/dist-packages/ipykernel_launcher.py:7: SettingWithCopyWarning: \n",
      "A value is trying to be set on a copy of a slice from a DataFrame.\n",
      "Try using .loc[row_indexer,col_indexer] = value instead\n",
      "\n",
      "See the caveats in the documentation: https://pandas.pydata.org/pandas-docs/stable/user_guide/indexing.html#returning-a-view-versus-a-copy\n",
      "  import sys\n"
     ]
    }
   ],
   "source": [
    "# using label encoder at object variable ( fkp14 & fkp15a)\n",
    "from sklearn.preprocessing import LabelEncoder\n",
    "\n",
    "le = LabelEncoder()\n",
    "col_list = char.select_dtypes(include = \"object\").columns\n",
    "for colsn in col_list:\n",
    "    char[colsn] = le.fit_transform(char[colsn].astype(str))"
   ]
  },
  {
   "cell_type": "code",
   "execution_count": null,
   "metadata": {
    "id": "6J_sqkaTGHGr",
    "pycharm": {
     "name": "#%%\n"
    }
   },
   "outputs": [],
   "source": [
    "char.head()"
   ]
  },
  {
   "cell_type": "markdown",
   "metadata": {
    "id": "qpYLM66LIAmD",
    "pycharm": {
     "name": "#%% md\n"
    }
   },
   "source": [
    "### *Create Master Set for Model Development*"
   ]
  },
  {
   "cell_type": "code",
   "execution_count": null,
   "metadata": {
    "collapsed": false,
    "id": "P2J76m3qIAmF",
    "jupyter": {
     "outputs_hidden": false
    },
    "pycharm": {
     "name": "#%%\n"
    }
   },
   "outputs": [],
   "source": [
    "# combine num & char\n",
    "train_df_final = pd.concat([num,char],axis=1, join='inner')"
   ]
  },
  {
   "cell_type": "code",
   "execution_count": null,
   "metadata": {
    "colab": {
     "base_uri": "https://localhost:8080/",
     "height": 112
    },
    "collapsed": false,
    "id": "0G0XY610IAmF",
    "jupyter": {
     "outputs_hidden": false
    },
    "outputId": "823cf708-8e9c-41eb-83d7-a57fd575f3d3",
    "pycharm": {
     "name": "#%%\n"
    }
   },
   "outputs": [
    {
     "data": {
      "text/html": [
       "\n",
       "  <div id=\"df-cccdd6b1-0d8f-4897-b6a7-7f79a9e13563\">\n",
       "    <div class=\"colab-df-container\">\n",
       "      <div>\n",
       "<style scoped>\n",
       "    .dataframe tbody tr th:only-of-type {\n",
       "        vertical-align: middle;\n",
       "    }\n",
       "\n",
       "    .dataframe tbody tr th {\n",
       "        vertical-align: top;\n",
       "    }\n",
       "\n",
       "    .dataframe thead th {\n",
       "        text-align: right;\n",
       "    }\n",
       "</style>\n",
       "<table border=\"1\" class=\"dataframe\">\n",
       "  <thead>\n",
       "    <tr style=\"text-align: right;\">\n",
       "      <th></th>\n",
       "      <th>DURASI</th>\n",
       "      <th>PSTV15</th>\n",
       "      <th>FKP05</th>\n",
       "      <th>FKP06</th>\n",
       "      <th>FKP08</th>\n",
       "      <th>FKP09</th>\n",
       "      <th>FKP10</th>\n",
       "      <th>FKP11</th>\n",
       "      <th>FKP12</th>\n",
       "      <th>FKP14</th>\n",
       "      <th>FKP16</th>\n",
       "      <th>FKP17</th>\n",
       "      <th>FKP18</th>\n",
       "      <th>FKP19</th>\n",
       "      <th>FKP20</th>\n",
       "      <th>FKP21</th>\n",
       "      <th>FKP22</th>\n",
       "      <th>FKP14A</th>\n",
       "      <th>FKP15</th>\n",
       "      <th>FKP13Class</th>\n",
       "    </tr>\n",
       "  </thead>\n",
       "  <tbody>\n",
       "    <tr>\n",
       "      <th>0</th>\n",
       "      <td>1.0</td>\n",
       "      <td>20.064983</td>\n",
       "      <td>61.0</td>\n",
       "      <td>6108.0</td>\n",
       "      <td>1.0</td>\n",
       "      <td>4.0</td>\n",
       "      <td>1</td>\n",
       "      <td>12.0</td>\n",
       "      <td>2</td>\n",
       "      <td>9999.0</td>\n",
       "      <td>98.0</td>\n",
       "      <td>9998.0</td>\n",
       "      <td>98.0</td>\n",
       "      <td>98</td>\n",
       "      <td>98.0</td>\n",
       "      <td>98</td>\n",
       "      <td>2</td>\n",
       "      <td>0</td>\n",
       "      <td>0</td>\n",
       "      <td>1</td>\n",
       "    </tr>\n",
       "    <tr>\n",
       "      <th>1</th>\n",
       "      <td>1.0</td>\n",
       "      <td>2.626307</td>\n",
       "      <td>51.0</td>\n",
       "      <td>5171.0</td>\n",
       "      <td>3.0</td>\n",
       "      <td>2.0</td>\n",
       "      <td>1</td>\n",
       "      <td>1.0</td>\n",
       "      <td>4</td>\n",
       "      <td>773.0</td>\n",
       "      <td>98.0</td>\n",
       "      <td>9998.0</td>\n",
       "      <td>98.0</td>\n",
       "      <td>98</td>\n",
       "      <td>98.0</td>\n",
       "      <td>98</td>\n",
       "      <td>1</td>\n",
       "      <td>781</td>\n",
       "      <td>3609</td>\n",
       "      <td>0</td>\n",
       "    </tr>\n",
       "  </tbody>\n",
       "</table>\n",
       "</div>\n",
       "      <button class=\"colab-df-convert\" onclick=\"convertToInteractive('df-cccdd6b1-0d8f-4897-b6a7-7f79a9e13563')\"\n",
       "              title=\"Convert this dataframe to an interactive table.\"\n",
       "              style=\"display:none;\">\n",
       "        \n",
       "  <svg xmlns=\"http://www.w3.org/2000/svg\" height=\"24px\"viewBox=\"0 0 24 24\"\n",
       "       width=\"24px\">\n",
       "    <path d=\"M0 0h24v24H0V0z\" fill=\"none\"/>\n",
       "    <path d=\"M18.56 5.44l.94 2.06.94-2.06 2.06-.94-2.06-.94-.94-2.06-.94 2.06-2.06.94zm-11 1L8.5 8.5l.94-2.06 2.06-.94-2.06-.94L8.5 2.5l-.94 2.06-2.06.94zm10 10l.94 2.06.94-2.06 2.06-.94-2.06-.94-.94-2.06-.94 2.06-2.06.94z\"/><path d=\"M17.41 7.96l-1.37-1.37c-.4-.4-.92-.59-1.43-.59-.52 0-1.04.2-1.43.59L10.3 9.45l-7.72 7.72c-.78.78-.78 2.05 0 2.83L4 21.41c.39.39.9.59 1.41.59.51 0 1.02-.2 1.41-.59l7.78-7.78 2.81-2.81c.8-.78.8-2.07 0-2.86zM5.41 20L4 18.59l7.72-7.72 1.47 1.35L5.41 20z\"/>\n",
       "  </svg>\n",
       "      </button>\n",
       "      \n",
       "  <style>\n",
       "    .colab-df-container {\n",
       "      display:flex;\n",
       "      flex-wrap:wrap;\n",
       "      gap: 12px;\n",
       "    }\n",
       "\n",
       "    .colab-df-convert {\n",
       "      background-color: #E8F0FE;\n",
       "      border: none;\n",
       "      border-radius: 50%;\n",
       "      cursor: pointer;\n",
       "      display: none;\n",
       "      fill: #1967D2;\n",
       "      height: 32px;\n",
       "      padding: 0 0 0 0;\n",
       "      width: 32px;\n",
       "    }\n",
       "\n",
       "    .colab-df-convert:hover {\n",
       "      background-color: #E2EBFA;\n",
       "      box-shadow: 0px 1px 2px rgba(60, 64, 67, 0.3), 0px 1px 3px 1px rgba(60, 64, 67, 0.15);\n",
       "      fill: #174EA6;\n",
       "    }\n",
       "\n",
       "    [theme=dark] .colab-df-convert {\n",
       "      background-color: #3B4455;\n",
       "      fill: #D2E3FC;\n",
       "    }\n",
       "\n",
       "    [theme=dark] .colab-df-convert:hover {\n",
       "      background-color: #434B5C;\n",
       "      box-shadow: 0px 1px 3px 1px rgba(0, 0, 0, 0.15);\n",
       "      filter: drop-shadow(0px 1px 2px rgba(0, 0, 0, 0.3));\n",
       "      fill: #FFFFFF;\n",
       "    }\n",
       "  </style>\n",
       "\n",
       "      <script>\n",
       "        const buttonEl =\n",
       "          document.querySelector('#df-cccdd6b1-0d8f-4897-b6a7-7f79a9e13563 button.colab-df-convert');\n",
       "        buttonEl.style.display =\n",
       "          google.colab.kernel.accessAllowed ? 'block' : 'none';\n",
       "\n",
       "        async function convertToInteractive(key) {\n",
       "          const element = document.querySelector('#df-cccdd6b1-0d8f-4897-b6a7-7f79a9e13563');\n",
       "          const dataTable =\n",
       "            await google.colab.kernel.invokeFunction('convertToInteractive',\n",
       "                                                     [key], {});\n",
       "          if (!dataTable) return;\n",
       "\n",
       "          const docLinkHtml = 'Like what you see? Visit the ' +\n",
       "            '<a target=\"_blank\" href=https://colab.research.google.com/notebooks/data_table.ipynb>data table notebook</a>'\n",
       "            + ' to learn more about interactive tables.';\n",
       "          element.innerHTML = '';\n",
       "          dataTable['output_type'] = 'display_data';\n",
       "          await google.colab.output.renderOutput(dataTable, element);\n",
       "          const docLink = document.createElement('div');\n",
       "          docLink.innerHTML = docLinkHtml;\n",
       "          element.appendChild(docLink);\n",
       "        }\n",
       "      </script>\n",
       "    </div>\n",
       "  </div>\n",
       "  "
      ],
      "text/plain": [
       "   DURASI     PSTV15  FKP05   FKP06  FKP08  FKP09  FKP10  FKP11  FKP12  \\\n",
       "0     1.0  20.064983   61.0  6108.0    1.0    4.0      1   12.0      2   \n",
       "1     1.0   2.626307   51.0  5171.0    3.0    2.0      1    1.0      4   \n",
       "\n",
       "    FKP14  FKP16   FKP17  FKP18  FKP19  FKP20  FKP21  FKP22  FKP14A  FKP15  \\\n",
       "0  9999.0   98.0  9998.0   98.0     98   98.0     98      2       0      0   \n",
       "1   773.0   98.0  9998.0   98.0     98   98.0     98      1     781   3609   \n",
       "\n",
       "   FKP13Class  \n",
       "0           1  \n",
       "1           0  "
      ]
     },
     "execution_count": 27,
     "metadata": {},
     "output_type": "execute_result"
    }
   ],
   "source": [
    "train_df_final.head(2)"
   ]
  },
  {
   "cell_type": "markdown",
   "metadata": {
    "id": "SE7DkGDeHc5b",
    "pycharm": {
     "name": "#%% md\n"
    }
   },
   "source": [
    "### *Define Target & Independent Feature*"
   ]
  },
  {
   "cell_type": "code",
   "execution_count": null,
   "metadata": {
    "id": "_Z8IVM5IKPbo",
    "pycharm": {
     "name": "#%%\n"
    }
   },
   "outputs": [],
   "source": [
    "# defining target & independent feature\n",
    "\n",
    "Y = train_df_final[['FKP13Class']]\n",
    "X = train_df_final.drop(['FKP13Class'], axis=1)"
   ]
  },
  {
   "cell_type": "code",
   "execution_count": null,
   "metadata": {
    "id": "RcBWDSnH9uqp",
    "pycharm": {
     "name": "#%%\n"
    }
   },
   "outputs": [],
   "source": [
    "Y.mean()"
   ]
  },
  {
   "cell_type": "markdown",
   "metadata": {
    "id": "KX9X7WtE9uqt",
    "pycharm": {
     "name": "#%% md\n"
    }
   },
   "source": [
    "### *Feature Scalling*"
   ]
  },
  {
   "cell_type": "code",
   "execution_count": null,
   "metadata": {
    "id": "BMSiOAxC9uqu",
    "pycharm": {
     "name": "#%%\n"
    }
   },
   "outputs": [],
   "source": [
    "# standarization\n",
    "\n",
    "from sklearn.preprocessing import StandardScaler\n",
    "\n",
    "std = StandardScaler()\n",
    "std.fit(X)\n",
    "X_std = std.transform(X)"
   ]
  },
  {
   "cell_type": "markdown",
   "metadata": {
    "id": "iLFvl6RP9uqu",
    "pycharm": {
     "name": "#%% md\n"
    }
   },
   "source": [
    "### *PCA*"
   ]
  },
  {
   "cell_type": "code",
   "execution_count": null,
   "metadata": {
    "id": "wtYlYgumKvC2",
    "pycharm": {
     "name": "#%%\n"
    }
   },
   "outputs": [],
   "source": [
    "# Building Principal Components\n",
    "from sklearn.decomposition import PCA\n",
    "\n",
    "pca = PCA(n_components = 19)\n",
    "pca.fit(X_std)\n",
    "PC = pca.transform(X_std)"
   ]
  },
  {
   "cell_type": "code",
   "execution_count": null,
   "metadata": {
    "colab": {
     "base_uri": "https://localhost:8080/"
    },
    "collapsed": false,
    "id": "vlJiqQmQ9uqu",
    "jupyter": {
     "outputs_hidden": false
    },
    "outputId": "f36ad86c-502c-4af5-cf27-9e69f1adf553",
    "pycharm": {
     "name": "#%%\n"
    }
   },
   "outputs": [
    {
     "data": {
      "text/plain": [
       "array([0.3646913 , 0.58907187, 0.70197393, 0.78762609, 0.84425058,\n",
       "       0.89127262, 0.92907555, 0.96372043, 0.99244281, 0.99826387,\n",
       "       0.99952498, 0.99982183, 0.99996109, 0.99998985, 0.99999636,\n",
       "       0.99999929, 0.99999992, 1.        , 1.        ])"
      ]
     },
     "execution_count": 31,
     "metadata": {},
     "output_type": "execute_result"
    }
   ],
   "source": [
    "# cummulative variance explained ratio\n",
    "cum_var_exp = pca.explained_variance_ratio_\n",
    "np.cumsum(cum_var_exp)"
   ]
  },
  {
   "cell_type": "code",
   "execution_count": null,
   "metadata": {
    "collapsed": false,
    "id": "tgV8MLL49uqu",
    "jupyter": {
     "outputs_hidden": false
    },
    "pycharm": {
     "name": "#%%\n"
    }
   },
   "outputs": [],
   "source": [
    "# create df based on PCA\n",
    "\n",
    "PC_df = pd.DataFrame( data = PC,\n",
    "                      columns = ['PC1','PC2','PC3','PC4','PC5','PC6','PC7','PC8','PC9','PC10',\n",
    "                                 'PC11', 'PC12', 'PC13', 'PC14', 'PC15', 'PC16', 'PC17', 'PC18', 'PC19'])"
   ]
  },
  {
   "cell_type": "code",
   "execution_count": null,
   "metadata": {
    "collapsed": false,
    "id": "a4SSOemN9uqv",
    "jupyter": {
     "outputs_hidden": false
    },
    "pycharm": {
     "name": "#%%\n"
    }
   },
   "outputs": [],
   "source": [
    "# Combine PCA df with target variable\n",
    "X_PCA_Target = pd.concat( [PC_df, Y], axis=1)"
   ]
  },
  {
   "cell_type": "code",
   "execution_count": null,
   "metadata": {
    "colab": {
     "base_uri": "https://localhost:8080/",
     "height": 428
    },
    "collapsed": false,
    "id": "ymAMCnbI9uqv",
    "jupyter": {
     "outputs_hidden": false
    },
    "outputId": "38fe6e99-3bf8-407a-a9b8-4f06b8370aa1",
    "pycharm": {
     "name": "#%%\n"
    }
   },
   "outputs": [
    {
     "data": {
      "text/plain": [
       "Text(0.5, 0, 'PC2')"
      ]
     },
     "execution_count": 34,
     "metadata": {},
     "output_type": "execute_result"
    },
    {
     "data": {
      "image/png": "[encoded data removed]",
      "text/plain": [
       "<Figure size 720x504 with 1 Axes>"
      ]
     },
     "metadata": {
      "needs_background": "light"
     },
     "output_type": "display_data"
    }
   ],
   "source": [
    "from mpl_toolkits.mplot3d import Axes3D\n",
    "fig = plt.figure(figsize=(10,7))\n",
    "\n",
    "# choose projection 3d for creating a 3d graph\n",
    "axis = fig.add_subplot(111, projection='3d')\n",
    "\n",
    "# x[:,0]is pc1,x[:,1] is pc2 while x[:,2] is pc3\n",
    "axis.scatter(PC[:,0],PC[:,1],PC[:,2], c=X_PCA_Target['FKP13Class'],cmap='plasma')\n",
    "axis.set_xlabel(\"PC1\", fontsize=10)\n",
    "axis.set_ylabel(\"PC2\", fontsize=10)"
   ]
  },
  {
   "cell_type": "code",
   "execution_count": null,
   "metadata": {
    "colab": {
     "base_uri": "https://localhost:8080/",
     "height": 409
    },
    "collapsed": false,
    "id": "QpWCBRha9uqv",
    "jupyter": {
     "outputs_hidden": false
    },
    "outputId": "2f774ee3-1f96-4b17-91d9-25f46d471fdb",
    "pycharm": {
     "name": "#%%\n"
    }
   },
   "outputs": [
    {
     "data": {
      "image/png": "[encoded data removed]",
      "text/plain": [
       "<Figure size 432x432 with 1 Axes>"
      ]
     },
     "metadata": {
      "needs_background": "light"
     },
     "output_type": "display_data"
    }
   ],
   "source": [
    "fig = plt.figure(figsize = (6,6))\n",
    "ax = fig.add_subplot(1,1,1)\n",
    "ax.set_xlabel('PC2')\n",
    "ax.set_ylabel('PC3')\n",
    "\n",
    "ax.set_title('Plot of PC2 vs PC3', fontsize = 20)\n",
    "\n",
    "targets = [1, 0] # 1 = sehat & 0 = belum_sehat\n",
    "\n",
    "colors = ['r', 'g']\n",
    "\n",
    "for target, color in zip(targets,colors):\n",
    "    indicesToKeep = X_PCA_Target['FKP13Class'] == target\n",
    "    ax.scatter(X_PCA_Target.loc[indicesToKeep, 'PC2']\n",
    "               , X_PCA_Target.loc[indicesToKeep, 'PC3']\n",
    "               , c = color\n",
    "               , s = 50)\n",
    "\n",
    "ax.legend(targets)\n",
    "ax.grid()"
   ]
  },
  {
   "cell_type": "markdown",
   "metadata": {
    "id": "E2L84q1Y9uqo",
    "pycharm": {
     "name": "#%% md\n"
    }
   },
   "source": [
    "## BUILD MACHINE LEARNING"
   ]
  },
  {
   "cell_type": "markdown",
   "metadata": {
    "id": "6orv0HuZLDta",
    "pycharm": {
     "name": "#%% md\n"
    }
   },
   "source": [
    "### *Train Test Split*"
   ]
  },
  {
   "cell_type": "code",
   "execution_count": null,
   "metadata": {
    "id": "vw4GnBUFK-da",
    "pycharm": {
     "name": "#%%\n"
    }
   },
   "outputs": [],
   "source": [
    "from sklearn.model_selection import train_test_split\n",
    "X_train, X_test, y_train, y_test = train_test_split(PC, Y, test_size=0.3, random_state=42)"
   ]
  },
  {
   "cell_type": "code",
   "execution_count": null,
   "metadata": {
    "colab": {
     "base_uri": "https://localhost:8080/"
    },
    "collapsed": false,
    "id": "rP4GNPIE9uqq",
    "jupyter": {
     "outputs_hidden": false
    },
    "outputId": "43e27420-1824-460f-c3ab-37808703ec37",
    "pycharm": {
     "name": "#%%\n"
    }
   },
   "outputs": [
    {
     "name": "stdout",
     "output_type": "stream",
     "text": [
      "Shape of training data (2839828, 19)\n",
      "Shape of test data (1217070, 19)\n",
      " \n",
      "Event Rate in Trainig Data FKP13Class    0.35061\n",
      "dtype: float64\n",
      "EventRate in Test Data FKP13Class    0.350608\n",
      "dtype: float64\n"
     ]
    }
   ],
   "source": [
    "print('Shape of training data', X_train.shape)\n",
    "print('Shape of test data', X_test.shape)\n",
    "\n",
    "print(\" \")\n",
    "\n",
    "print('Event Rate in Trainig Data', y_train.mean())\n",
    "print('EventRate in Test Data', y_test.mean())"
   ]
  },
  {
   "cell_type": "markdown",
   "metadata": {
    "id": "9kdH2GXc9uqq",
    "pycharm": {
     "name": "#%% md\n"
    }
   },
   "source": [
    "### *Decision Tree*"
   ]
  },
  {
   "cell_type": "code",
   "execution_count": null,
   "metadata": {
    "colab": {
     "base_uri": "https://localhost:8080/"
    },
    "collapsed": false,
    "id": "yquD0M9X9uqq",
    "jupyter": {
     "outputs_hidden": false
    },
    "outputId": "425e3fa7-3aa0-4fb7-c2e2-f38ca6024421",
    "pycharm": {
     "name": "#%%\n"
    }
   },
   "outputs": [
    {
     "data": {
      "text/plain": [
       "DecisionTreeClassifier(max_depth=4, random_state=42)"
      ]
     },
     "execution_count": 26,
     "metadata": {},
     "output_type": "execute_result"
    }
   ],
   "source": [
    "# random_state = 42, we use the same number as like train test split\n",
    "# max_depth 4 = because we want the tree doesnt become deep\n",
    "\n",
    "from sklearn.tree import DecisionTreeClassifier\n",
    "\n",
    "\n",
    "dtree=DecisionTreeClassifier(criterion='gini',max_depth=4,random_state=42)\n",
    "dtree.fit(X_train,y_train)"
   ]
  },
  {
   "cell_type": "code",
   "execution_count": null,
   "metadata": {
    "id": "v3Quu8mK9uqr",
    "pycharm": {
     "name": "#%%\n"
    }
   },
   "outputs": [],
   "source": [
    "from sklearn import tree\n",
    "import pydotplus"
   ]
  },
  {
   "cell_type": "code",
   "execution_count": null,
   "metadata": {
    "id": "8sodW2s49uqr",
    "pycharm": {
     "name": "#%%\n"
    }
   },
   "outputs": [],
   "source": [
    "# filled = True, We do want values in the nodes to be filled out\n",
    "# rounded =True, We want the edges of the nodes or the terminal loads to be rounded and not sharp\n",
    "\n",
    "import matplotlib.pyplot as plt\n",
    "plt.figure(figsize=(60,10))\n",
    "#_ = tree.plot_tree(regr, feature_names=X_all.columns, filled=True)\n",
    "tree.plot_tree(dtree,filled=True,rounded=True,feature_names=train_df_final.columns,fontsize=15)\n",
    "plt.show"
   ]
  },
  {
   "cell_type": "markdown",
   "metadata": {
    "id": "4az9oFKZ9uqr",
    "pycharm": {
     "name": "#%% md\n"
    }
   },
   "source": [
    "### *Extracting Feature Importance based on decision tree*"
   ]
  },
  {
   "cell_type": "code",
   "execution_count": null,
   "metadata": {
    "collapsed": false,
    "id": "TrdmmqSs9uqr",
    "jupyter": {
     "outputs_hidden": false
    },
    "pycharm": {
     "name": "#%%\n"
    }
   },
   "outputs": [],
   "source": [
    "import pandas as pd\n",
    "feature_importances=pd.DataFrame(dtree.feature_importances_,\n",
    "                                 index=X_train.columns,\n",
    "                                 columns=['importance']).sort_values('importance',ascending=False)\n",
    "feature_importances"
   ]
  },
  {
   "cell_type": "code",
   "execution_count": null,
   "metadata": {
    "collapsed": false,
    "id": "JXE_oray9uqr",
    "jupyter": {
     "outputs_hidden": false
    },
    "pycharm": {
     "name": "#%%\n"
    }
   },
   "outputs": [],
   "source": [
    "ax=sns.barplot(x='importance',y=feature_importances.iloc[0:10].index,data=feature_importances.iloc[0:10])"
   ]
  },
  {
   "cell_type": "markdown",
   "metadata": {
    "id": "UmgRA-9y9uqs",
    "pycharm": {
     "name": "#%% md\n"
    }
   },
   "source": [
    "## MODEL EVALUATION"
   ]
  },
  {
   "cell_type": "code",
   "execution_count": null,
   "metadata": {
    "collapsed": false,
    "id": "d4IbRaSh9uqs",
    "jupyter": {
     "outputs_hidden": false
    },
    "pycharm": {
     "name": "#%%\n"
    }
   },
   "outputs": [],
   "source": [
    "y_pred_dtree=dtree.predict(X_test)"
   ]
  },
  {
   "cell_type": "code",
   "execution_count": null,
   "metadata": {
    "collapsed": false,
    "id": "6Ofiww6l9uqs",
    "jupyter": {
     "outputs_hidden": false
    },
    "pycharm": {
     "name": "#%%\n"
    }
   },
   "outputs": [],
   "source": [
    "from sklearn import metrics\n",
    "from sklearn.metrics import confusion_matrix"
   ]
  },
  {
   "cell_type": "code",
   "execution_count": null,
   "metadata": {
    "colab": {
     "base_uri": "https://localhost:8080/"
    },
    "collapsed": false,
    "id": "Mtx8HjNC9uqs",
    "jupyter": {
     "outputs_hidden": false
    },
    "outputId": "d75f9024-faa7-4d08-e1a5-cf3961dcc486",
    "pycharm": {
     "name": "#%%\n"
    }
   },
   "outputs": [
    {
     "name": "stdout",
     "output_type": "stream",
     "text": [
      "Accuracy: 0.9976944629314666\n",
      "Precision 0.9996840941399463\n",
      "Recall 0.9937382093434728\n",
      "f1_score 0.9967022841911782\n"
     ]
    }
   ],
   "source": [
    "# calculated using respective function\n",
    "\n",
    "print(\"Accuracy:\",metrics.accuracy_score(y_test, y_pred_dtree))\n",
    "print(\"Precision\",metrics.precision_score(y_test,y_pred_dtree))\n",
    "print(\"Recall\",metrics.recall_score(y_test,y_pred_dtree))\n",
    "print(\"f1_score\",metrics.f1_score(y_test,y_pred_dtree))"
   ]
  },
  {
   "cell_type": "code",
   "execution_count": null,
   "metadata": {
    "colab": {
     "base_uri": "https://localhost:8080/",
     "height": 353
    },
    "collapsed": false,
    "id": "AodMoTvo9uqs",
    "jupyter": {
     "outputs_hidden": false
    },
    "outputId": "6d351f5b-a000-4c7f-d206-ef0481b82a91",
    "pycharm": {
     "name": "#%%\n"
    }
   },
   "outputs": [
    {
     "name": "stderr",
     "output_type": "stream",
     "text": [
      "C:\\Users\\Robby\\anaconda3\\lib\\site-packages\\sklearn\\utils\\deprecation.py:87: FutureWarning: Function plot_confusion_matrix is deprecated; Function `plot_confusion_matrix` is deprecated in 1.0 and will be removed in 1.2. Use one of the class methods: ConfusionMatrixDisplay.from_predictions or ConfusionMatrixDisplay.from_estimator.\n",
      "  warnings.warn(msg, category=FutureWarning)\n"
     ]
    },
    {
     "data": {
      "text/plain": [
       "<sklearn.metrics._plot.confusion_matrix.ConfusionMatrixDisplay at 0x2099211c250>"
      ]
     },
     "execution_count": 39,
     "metadata": {},
     "output_type": "execute_result"
    },
    {
     "data": {
      "image/png": "[encoded data removed]",
      "text/plain": [
       "<Figure size 432x288 with 2 Axes>"
      ]
     },
     "metadata": {},
     "output_type": "display_data"
    }
   ],
   "source": [
    "metrics.plot_confusion_matrix(dtree,X_test,y_test)"
   ]
  },
  {
   "cell_type": "markdown",
   "metadata": {
    "id": "P2xjWcyP9uqt",
    "pycharm": {
     "name": "#%% md\n"
    }
   },
   "source": [
    "##### The Result Telling Us:\n",
    " * we have 790.223 + 424.042 = 1.214.216 correct predictions\n",
    " * we have 2673 + 132 = 2.805 incorrect predictions"
   ]
  },
  {
   "cell_type": "markdown",
   "metadata": {
    "id": "8B4mlnIs9uqt",
    "pycharm": {
     "name": "#%% md\n"
    }
   },
   "source": [
    "## MODEL EVALUATION - PART 2"
   ]
  },
  {
   "cell_type": "code",
   "execution_count": null,
   "metadata": {
    "collapsed": false,
    "id": "-2IX3vUR9uqt",
    "jupyter": {
     "outputs_hidden": false
    },
    "pycharm": {
     "name": "#%%\n"
    }
   },
   "outputs": [],
   "source": [
    "# menghitung prediksi based on probability\n",
    "\n",
    "y_pred_prob = dtree.predict_proba(PC)[:, 1]\n",
    "train_df_final['pred_prob']=pd.DataFrame(y_pred_prob)\n",
    "train_df_final['FKP02'] = pd.DataFrame(fkp02)"
   ]
  },
  {
   "cell_type": "code",
   "execution_count": null,
   "metadata": {
    "colab": {
     "base_uri": "https://localhost:8080/",
     "height": 176
    },
    "collapsed": false,
    "id": "l0J--iFP9uqt",
    "jupyter": {
     "outputs_hidden": false
    },
    "outputId": "aa31bcca-6e3a-45fe-a544-c15410376b61",
    "pycharm": {
     "name": "#%%\n"
    }
   },
   "outputs": [
    {
     "data": {
      "text/html": [
       "<div>\n",
       "<style scoped>\n",
       "    .dataframe tbody tr th:only-of-type {\n",
       "        vertical-align: middle;\n",
       "    }\n",
       "\n",
       "    .dataframe tbody tr th {\n",
       "        vertical-align: top;\n",
       "    }\n",
       "\n",
       "    .dataframe thead th {\n",
       "        text-align: right;\n",
       "    }\n",
       "</style>\n",
       "<table border=\"1\" class=\"dataframe\">\n",
       "  <thead>\n",
       "    <tr style=\"text-align: right;\">\n",
       "      <th></th>\n",
       "      <th>DURASI</th>\n",
       "      <th>PSTV15</th>\n",
       "      <th>FKP05</th>\n",
       "      <th>FKP06</th>\n",
       "      <th>FKP08</th>\n",
       "      <th>FKP09</th>\n",
       "      <th>FKP10</th>\n",
       "      <th>FKP11</th>\n",
       "      <th>FKP12</th>\n",
       "      <th>FKP14</th>\n",
       "      <th>FKP16</th>\n",
       "      <th>FKP17</th>\n",
       "      <th>FKP18</th>\n",
       "      <th>FKP19</th>\n",
       "      <th>FKP20</th>\n",
       "      <th>FKP21</th>\n",
       "      <th>FKP22</th>\n",
       "      <th>FKP14A</th>\n",
       "      <th>FKP15</th>\n",
       "      <th>FKP13Class</th>\n",
       "      <th>pred_prob</th>\n",
       "      <th>FKP02</th>\n",
       "    </tr>\n",
       "  </thead>\n",
       "  <tbody>\n",
       "    <tr>\n",
       "      <th>0</th>\n",
       "      <td>1.0</td>\n",
       "      <td>20.064983</td>\n",
       "      <td>61.0</td>\n",
       "      <td>6108.0</td>\n",
       "      <td>1.0</td>\n",
       "      <td>4.0</td>\n",
       "      <td>1</td>\n",
       "      <td>12.0</td>\n",
       "      <td>2</td>\n",
       "      <td>9999.0</td>\n",
       "      <td>98.0</td>\n",
       "      <td>9998.0</td>\n",
       "      <td>98.0</td>\n",
       "      <td>98</td>\n",
       "      <td>98.0</td>\n",
       "      <td>98</td>\n",
       "      <td>2</td>\n",
       "      <td>0</td>\n",
       "      <td>0</td>\n",
       "      <td>1</td>\n",
       "      <td>1.0</td>\n",
       "      <td>958073632</td>\n",
       "    </tr>\n",
       "    <tr>\n",
       "      <th>1</th>\n",
       "      <td>1.0</td>\n",
       "      <td>2.626307</td>\n",
       "      <td>51.0</td>\n",
       "      <td>5171.0</td>\n",
       "      <td>3.0</td>\n",
       "      <td>2.0</td>\n",
       "      <td>1</td>\n",
       "      <td>1.0</td>\n",
       "      <td>4</td>\n",
       "      <td>773.0</td>\n",
       "      <td>98.0</td>\n",
       "      <td>9998.0</td>\n",
       "      <td>98.0</td>\n",
       "      <td>98</td>\n",
       "      <td>98.0</td>\n",
       "      <td>98</td>\n",
       "      <td>1</td>\n",
       "      <td>781</td>\n",
       "      <td>3609</td>\n",
       "      <td>0</td>\n",
       "      <td>0.0</td>\n",
       "      <td>449590620P000054</td>\n",
       "    </tr>\n",
       "  </tbody>\n",
       "</table>\n",
       "</div>"
      ],
      "text/plain": [
       "   DURASI     PSTV15  FKP05   FKP06  FKP08  FKP09  FKP10  FKP11  FKP12  \\\n",
       "0     1.0  20.064983   61.0  6108.0    1.0    4.0      1   12.0      2   \n",
       "1     1.0   2.626307   51.0  5171.0    3.0    2.0      1    1.0      4   \n",
       "\n",
       "    FKP14  FKP16   FKP17  FKP18  FKP19  FKP20  FKP21  FKP22  FKP14A  FKP15  \\\n",
       "0  9999.0   98.0  9998.0   98.0     98   98.0     98      2       0      0   \n",
       "1   773.0   98.0  9998.0   98.0     98   98.0     98      1     781   3609   \n",
       "\n",
       "   FKP13Class  pred_prob             FKP02  \n",
       "0           1        1.0         958073632  \n",
       "1           0        0.0  449590620P000054  "
      ]
     },
     "execution_count": 42,
     "metadata": {},
     "output_type": "execute_result"
    }
   ],
   "source": [
    "train_df_final.head(2)"
   ]
  },
  {
   "cell_type": "code",
   "execution_count": null,
   "metadata": {
    "collapsed": false,
    "id": "-ZPw1NAF9uqt",
    "jupyter": {
     "outputs_hidden": false
    },
    "pycharm": {
     "name": "#%%\n"
    }
   },
   "outputs": [],
   "source": [
    "# binning to 10 rank, based on pred prob value\n",
    "# +1 memastikan bahwa untuk setiap peringkat, jumlah pengamatan ( observation ) di setiap rank itu sama\n",
    "# method='first' to have python assign a unique rank to all your records. If there is a duplicate value (i.e. a tie in the rank), this method will choose the first record it comes to and rank in that order.\n",
    "\n",
    "train_df_final['P_Rank_dtree']=pd.qcut(train_df_final['pred_prob'].rank(method='first').values,10,duplicates='drop').codes+1\n",
    "train_df_final[['pred_prob','P_Rank_dtree']]"
   ]
  },
  {
   "cell_type": "markdown",
   "metadata": {
    "id": "9qD1inqJ9uqw",
    "pycharm": {
     "name": "#%% md\n"
    }
   },
   "source": [
    "### *Feature Selection*"
   ]
  },
  {
   "cell_type": "code",
   "execution_count": null,
   "metadata": {
    "collapsed": false,
    "id": "kKfVJHag9uqw",
    "jupyter": {
     "outputs_hidden": false
    },
    "pycharm": {
     "name": "#%%\n"
    }
   },
   "outputs": [],
   "source": [
    "# remove feature with 0 variance -> kolom durasi hilang\n",
    "\n",
    "from sklearn.feature_selection import VarianceThreshold\n",
    "\n",
    "varselector= VarianceThreshold()\n",
    "varselector.fit_transform(num)\n",
    "# Get columns to keep and create new dataframe with those only\n",
    "cols = varselector.get_support(indices=True)\n",
    "num_1 = num.iloc[:,cols]\n",
    "num_1.iloc[0]"
   ]
  },
  {
   "cell_type": "markdown",
   "metadata": {
    "id": "3uba87UZ9uqw",
    "pycharm": {
     "name": "#%% md\n"
    }
   },
   "source": [
    "#### feature discreatization"
   ]
  },
  {
   "cell_type": "code",
   "execution_count": null,
   "metadata": {
    "collapsed": false,
    "id": "OX0nns_Z9uqx",
    "jupyter": {
     "outputs_hidden": false
    },
    "pycharm": {
     "name": "#%%\n"
    }
   },
   "outputs": [],
   "source": [
    "# feature discreatization\n",
    "# quantile = Each bin has the same number of values, split based on percentiles\n",
    "\n",
    "from sklearn.preprocessing import KBinsDiscretizer\n",
    "\n",
    "discrete=KBinsDiscretizer(n_bins=10,encode='ordinal', strategy='quantile')\n",
    "num_binned=pd.DataFrame(discrete.fit_transform(num_1),index=num_1.index, columns=num_1.columns).add_suffix('_Rank')"
   ]
  },
  {
   "cell_type": "code",
   "execution_count": null,
   "metadata": {
    "collapsed": false,
    "id": "XMuYvO7f9uqx",
    "jupyter": {
     "outputs_hidden": false
    },
    "pycharm": {
     "name": "#%%\n"
    }
   },
   "outputs": [],
   "source": [
    "X_bin_combined=pd.concat([Y,num_binned],axis=1,join='inner')\n",
    "\n",
    "from numpy import mean\n",
    "for col in (num_binned.columns):\n",
    "    plt.figure()\n",
    "    sns.barplot(x=col, y=\"FKP13Class\",data=X_bin_combined, estimator=mean )\n",
    "plt.show()"
   ]
  },
  {
   "cell_type": "code",
   "execution_count": null,
   "metadata": {
    "collapsed": false,
    "id": "KBTMR_Gx9uqx",
    "jupyter": {
     "outputs_hidden": false
    },
    "pycharm": {
     "name": "#%%\n"
    }
   },
   "outputs": [],
   "source": [
    "from sklearn.feature_selection import SelectKBest, chi2\n",
    "\n",
    "selector = SelectKBest(chi2,k=10)\n",
    "selector.fit_transform(num, Y)\n",
    "# Get columns to keep and create new dataframe with those only\n",
    "cols = selector.get_support(indices=True)\n",
    "select_features_df_num = num_1.iloc[:,cols]\n",
    "select_features_df_num.head(2)"
   ]
  },
  {
   "cell_type": "markdown",
   "metadata": {
    "id": "8vSJY_Kquxtl",
    "pycharm": {
     "name": "#%% md\n"
    }
   },
   "source": [
    "# DATA TEST"
   ]
  },
  {
   "cell_type": "code",
   "execution_count": null,
   "metadata": {
    "id": "-Zt_y2BYuzzA",
    "pycharm": {
     "name": "#%%\n"
    }
   },
   "outputs": [],
   "source": [
    "#from google.colab import drive\n",
    "\n",
    "#drive.mount('/content/gdrive')\n",
    "#baseurl = '/content/gdrive/MyDrive/'\n",
    "#test_url = baseurl + 'test_fktp.csv'"
   ]
  },
  {
   "cell_type": "code",
   "execution_count": null,
   "metadata": {
    "colab": {
     "base_uri": "https://localhost:8080/"
    },
    "id": "1FrZxwjTxDbu",
    "outputId": "1fd2fe65-ea4e-491d-c0d8-2cce2a9377ad",
    "pycharm": {
     "name": "#%%\n"
    }
   },
   "outputs": [
    {
     "name": "stderr",
     "output_type": "stream",
     "text": [
      "C:\\Users\\Robby\\AppData\\Local\\Temp\\ipykernel_17616\\2871469415.py:2: DtypeWarning: Columns (3,15,16,17) have mixed types. Specify dtype option on import or set low_memory=False.\n",
      "  test_df = pd.read_csv(r\"C:\\Users\\Robby\\Downloads\\BDC\\test_fktp.csv\", sep=',')\n"
     ]
    }
   ],
   "source": [
    "#test_df = pd.read_csv(test_url, sep=',')\n",
    "test_df = pd.read_csv(r\"C:\\Users\\Robby\\Downloads\\BDC\\test_fktp.csv\", sep=',')"
   ]
  },
  {
   "cell_type": "code",
   "execution_count": null,
   "metadata": {
    "id": "1adrYieCjwY1",
    "outputId": "37c416a7-7d6e-4470-81e2-058c8228598d",
    "pycharm": {
     "name": "#%%\n"
    }
   },
   "outputs": [
    {
     "data": {
      "text/html": [
       "<div>\n",
       "<style scoped>\n",
       "    .dataframe tbody tr th:only-of-type {\n",
       "        vertical-align: middle;\n",
       "    }\n",
       "\n",
       "    .dataframe tbody tr th {\n",
       "        vertical-align: top;\n",
       "    }\n",
       "\n",
       "    .dataframe thead th {\n",
       "        text-align: right;\n",
       "    }\n",
       "</style>\n",
       "<table border=\"1\" class=\"dataframe\">\n",
       "  <thead>\n",
       "    <tr style=\"text-align: right;\">\n",
       "      <th></th>\n",
       "      <th>PSTV01</th>\n",
       "      <th>PSTV02</th>\n",
       "      <th>PSTV15</th>\n",
       "      <th>FKP02</th>\n",
       "      <th>FKP03</th>\n",
       "      <th>FKP04</th>\n",
       "      <th>FKP05</th>\n",
       "      <th>FKP06</th>\n",
       "      <th>FKP07</th>\n",
       "      <th>FKP08</th>\n",
       "      <th>FKP09</th>\n",
       "      <th>FKP10</th>\n",
       "      <th>FKP11</th>\n",
       "      <th>FKP12</th>\n",
       "      <th>FKP14</th>\n",
       "      <th>FKP14A</th>\n",
       "      <th>FKP15</th>\n",
       "      <th>FKP15A</th>\n",
       "      <th>FKP16</th>\n",
       "      <th>FKP17</th>\n",
       "      <th>FKP18</th>\n",
       "      <th>FKP19</th>\n",
       "      <th>FKP20</th>\n",
       "      <th>FKP21</th>\n",
       "      <th>FKP22</th>\n",
       "      <th>FKP13Class</th>\n",
       "    </tr>\n",
       "  </thead>\n",
       "  <tbody>\n",
       "    <tr>\n",
       "      <th>0</th>\n",
       "      <td>187883292.0</td>\n",
       "      <td>98048784</td>\n",
       "      <td>240.884842</td>\n",
       "      <td>954386050</td>\n",
       "      <td>2019-08-21</td>\n",
       "      <td>2019-08-21</td>\n",
       "      <td>31</td>\n",
       "      <td>3172</td>\n",
       "      <td>9</td>\n",
       "      <td>2</td>\n",
       "      <td>1</td>\n",
       "      <td>1</td>\n",
       "      <td>13</td>\n",
       "      <td>5</td>\n",
       "      <td>9999</td>\n",
       "      <td>NaN</td>\n",
       "      <td>9999</td>\n",
       "      <td>9999</td>\n",
       "      <td>98</td>\n",
       "      <td>9998</td>\n",
       "      <td>98</td>\n",
       "      <td>98</td>\n",
       "      <td>98</td>\n",
       "      <td>98</td>\n",
       "      <td>2</td>\n",
       "      <td>NaN</td>\n",
       "    </tr>\n",
       "    <tr>\n",
       "      <th>1</th>\n",
       "      <td>123307139.0</td>\n",
       "      <td>20969999</td>\n",
       "      <td>47.378571</td>\n",
       "      <td>774246805</td>\n",
       "      <td>2019-02-12</td>\n",
       "      <td>2019-02-12</td>\n",
       "      <td>17</td>\n",
       "      <td>1705</td>\n",
       "      <td>3</td>\n",
       "      <td>1</td>\n",
       "      <td>3</td>\n",
       "      <td>1</td>\n",
       "      <td>12</td>\n",
       "      <td>2</td>\n",
       "      <td>9999</td>\n",
       "      <td>NaN</td>\n",
       "      <td>9999</td>\n",
       "      <td>9999</td>\n",
       "      <td>98</td>\n",
       "      <td>9998</td>\n",
       "      <td>98</td>\n",
       "      <td>98</td>\n",
       "      <td>98</td>\n",
       "      <td>98</td>\n",
       "      <td>2</td>\n",
       "      <td>NaN</td>\n",
       "    </tr>\n",
       "  </tbody>\n",
       "</table>\n",
       "</div>"
      ],
      "text/plain": [
       "        PSTV01    PSTV02      PSTV15      FKP02       FKP03       FKP04  \\\n",
       "0  187883292.0  98048784  240.884842  954386050  2019-08-21  2019-08-21   \n",
       "1  123307139.0  20969999   47.378571  774246805  2019-02-12  2019-02-12   \n",
       "\n",
       "   FKP05  FKP06  FKP07  FKP08  FKP09  FKP10  FKP11  FKP12  FKP14 FKP14A FKP15  \\\n",
       "0     31   3172      9      2      1      1     13      5   9999    NaN  9999   \n",
       "1     17   1705      3      1      3      1     12      2   9999    NaN  9999   \n",
       "\n",
       "  FKP15A  FKP16  FKP17  FKP18  FKP19  FKP20  FKP21  FKP22  FKP13Class  \n",
       "0   9999     98   9998     98     98     98     98      2         NaN  \n",
       "1   9999     98   9998     98     98     98     98      2         NaN  "
      ]
     },
     "execution_count": 7,
     "metadata": {},
     "output_type": "execute_result"
    }
   ],
   "source": [
    "test_df.head(2)"
   ]
  },
  {
   "cell_type": "code",
   "execution_count": null,
   "metadata": {
    "colab": {
     "base_uri": "https://localhost:8080/"
    },
    "id": "gdZjyreQLpdx",
    "outputId": "732fd2b8-2342-45d9-f95a-66f3dfb3c777",
    "pycharm": {
     "name": "#%%\n"
    }
   },
   "outputs": [
    {
     "data": {
      "text/plain": [
       "(1014225, 26)"
      ]
     },
     "execution_count": 43,
     "metadata": {},
     "output_type": "execute_result"
    }
   ],
   "source": [
    "test_df.shape"
   ]
  },
  {
   "cell_type": "code",
   "execution_count": null,
   "metadata": {
    "id": "-iyngEXZxBVK",
    "pycharm": {
     "name": "#%%\n"
    }
   },
   "outputs": [],
   "source": [
    "# training kernel svm\n",
    "#from sklearn.svm import SVC\n",
    "\n",
    "#classifier = SVC(kernel = 'rbf', random_state = 0)\n",
    "#classifier.fit(X_train, y_train)"
   ]
  },
  {
   "cell_type": "markdown",
   "metadata": {
    "id": "D1kples0vVV9",
    "pycharm": {
     "name": "#%% md\n"
    }
   },
   "source": [
    "### *Drop and Save FKP13Class*"
   ]
  },
  {
   "cell_type": "code",
   "execution_count": null,
   "metadata": {
    "colab": {
     "base_uri": "https://localhost:8080/"
    },
    "id": "QUM-N3j7xF-d",
    "outputId": "7f3114a4-a82d-4ad8-eeac-c8cf62c05e83",
    "pycharm": {
     "name": "#%%\n"
    }
   },
   "outputs": [
    {
     "data": {
      "text/plain": [
       "(1014225,)"
      ]
     },
     "execution_count": 44,
     "metadata": {},
     "output_type": "execute_result"
    }
   ],
   "source": [
    "fkp13 = test_df['FKP13Class']\n",
    "fkp13.shape"
   ]
  },
  {
   "cell_type": "code",
   "execution_count": null,
   "metadata": {
    "id": "wqoTGxqExI3e",
    "pycharm": {
     "name": "#%%\n"
    }
   },
   "outputs": [],
   "source": [
    "test_df = test_df.drop (['FKP13Class'], axis=1)"
   ]
  },
  {
   "cell_type": "markdown",
   "metadata": {
    "id": "obhiIT2d6CZG",
    "pycharm": {
     "name": "#%% md\n"
    }
   },
   "source": [
    "### *Filling NaN using 9999*"
   ]
  },
  {
   "cell_type": "code",
   "execution_count": null,
   "metadata": {
    "id": "1VtyXP8A53Cn",
    "pycharm": {
     "name": "#%%\n"
    }
   },
   "outputs": [],
   "source": [
    "# Filling NaN using 999\n",
    "test_df = test_df.fillna(9999)"
   ]
  },
  {
   "cell_type": "markdown",
   "metadata": {
    "id": "xJYcTk1YvowA",
    "pycharm": {
     "name": "#%% md\n"
    }
   },
   "source": [
    "### *Create Duration Column Based on FKP03 & FKP04*"
   ]
  },
  {
   "cell_type": "code",
   "execution_count": null,
   "metadata": {
    "id": "8oMHjJfsvkp0",
    "pycharm": {
     "name": "#%%\n"
    }
   },
   "outputs": [],
   "source": [
    "# change dtypes to datetimes\n",
    "test_df['FKP03']=pd.to_datetime(test_df.FKP03)\n",
    "test_df['FKP04']=pd.to_datetime(test_df.FKP04)"
   ]
  },
  {
   "cell_type": "code",
   "execution_count": null,
   "metadata": {
    "id": "d-anfqHzvr3W",
    "pycharm": {
     "name": "#%%\n"
    }
   },
   "outputs": [],
   "source": [
    "# create duration variable\n",
    "test_df['DURASI'] = (test_df['FKP04'].sub(test_df['FKP03']).mod(365*Day()).dt.days) +1"
   ]
  },
  {
   "cell_type": "code",
   "execution_count": null,
   "metadata": {
    "id": "Ponc6o_yvt_N",
    "pycharm": {
     "name": "#%%\n"
    }
   },
   "outputs": [],
   "source": [
    "# rearrange a bit\n",
    "\n",
    "# train_df.columns.values\n",
    "cols = ['PSTV01', 'PSTV02', 'DURASI','PSTV15', 'FKP02', 'FKP03', 'FKP04', 'FKP05',\n",
    "       'FKP06', 'FKP07', 'FKP08', 'FKP09', 'FKP10', 'FKP11', 'FKP12',\n",
    "       'FKP14', 'FKP14A', 'FKP15', 'FKP15A', 'FKP16', 'FKP17', 'FKP18',\n",
    "       'FKP19', 'FKP20', 'FKP21', 'FKP22']\n",
    "\n",
    "test_df = test_df[cols]"
   ]
  },
  {
   "cell_type": "markdown",
   "metadata": {
    "id": "jAu7LeNfvxyN",
    "pycharm": {
     "name": "#%% md\n"
    }
   },
   "source": [
    "### *Drop Variabel*"
   ]
  },
  {
   "cell_type": "code",
   "execution_count": null,
   "metadata": {
    "id": "r4qP_oGrvxaE",
    "pycharm": {
     "name": "#%%\n"
    }
   },
   "outputs": [],
   "source": [
    "# drop column\n",
    "\n",
    "fkp02 = test_df['FKP02']\n",
    "\n",
    "test_df = test_df.drop(['PSTV01', 'PSTV02', 'FKP02', 'FKP03', 'FKP04', 'FKP07', 'FKP15A'], axis=1)"
   ]
  },
  {
   "cell_type": "code",
   "execution_count": null,
   "metadata": {
    "colab": {
     "base_uri": "https://localhost:8080/"
    },
    "id": "8USqQ4HRv2lv",
    "outputId": "7b6ca06e-951f-46c9-a816-14f9942445c2",
    "pycharm": {
     "name": "#%%\n"
    }
   },
   "outputs": [
    {
     "data": {
      "text/plain": [
       "(1014225, 20)"
      ]
     },
     "execution_count": 56,
     "metadata": {},
     "output_type": "execute_result"
    }
   ],
   "source": [
    "test_df.shape"
   ]
  },
  {
   "cell_type": "markdown",
   "metadata": {
    "id": "A7CoMhFxv4i9",
    "pycharm": {
     "name": "#%% md\n"
    }
   },
   "source": [
    "### *Add FKP13Class again*"
   ]
  },
  {
   "cell_type": "code",
   "execution_count": null,
   "metadata": {
    "id": "9RzB0SEjv9hh",
    "pycharm": {
     "name": "#%%\n"
    }
   },
   "outputs": [],
   "source": [
    "test_df = pd.concat([test_df,fkp13],axis=1, join='inner')"
   ]
  },
  {
   "cell_type": "code",
   "execution_count": null,
   "metadata": {
    "colab": {
     "base_uri": "https://localhost:8080/",
     "height": 112
    },
    "id": "8FZVcXFcv-Lv",
    "outputId": "0f6a90d9-cb10-4283-fcde-c28d6be9a80d",
    "pycharm": {
     "name": "#%%\n"
    }
   },
   "outputs": [
    {
     "data": {
      "text/html": [
       "<div>\n",
       "<style scoped>\n",
       "    .dataframe tbody tr th:only-of-type {\n",
       "        vertical-align: middle;\n",
       "    }\n",
       "\n",
       "    .dataframe tbody tr th {\n",
       "        vertical-align: top;\n",
       "    }\n",
       "\n",
       "    .dataframe thead th {\n",
       "        text-align: right;\n",
       "    }\n",
       "</style>\n",
       "<table border=\"1\" class=\"dataframe\">\n",
       "  <thead>\n",
       "    <tr style=\"text-align: right;\">\n",
       "      <th></th>\n",
       "      <th>DURASI</th>\n",
       "      <th>PSTV15</th>\n",
       "      <th>FKP05</th>\n",
       "      <th>FKP06</th>\n",
       "      <th>FKP08</th>\n",
       "      <th>FKP09</th>\n",
       "      <th>FKP10</th>\n",
       "      <th>FKP11</th>\n",
       "      <th>FKP12</th>\n",
       "      <th>FKP14</th>\n",
       "      <th>FKP14A</th>\n",
       "      <th>FKP15</th>\n",
       "      <th>FKP16</th>\n",
       "      <th>FKP17</th>\n",
       "      <th>FKP18</th>\n",
       "      <th>FKP19</th>\n",
       "      <th>FKP20</th>\n",
       "      <th>FKP21</th>\n",
       "      <th>FKP22</th>\n",
       "      <th>FKP13Class</th>\n",
       "    </tr>\n",
       "  </thead>\n",
       "  <tbody>\n",
       "    <tr>\n",
       "      <th>0</th>\n",
       "      <td>1</td>\n",
       "      <td>240.884842</td>\n",
       "      <td>31</td>\n",
       "      <td>3172</td>\n",
       "      <td>2</td>\n",
       "      <td>1</td>\n",
       "      <td>1</td>\n",
       "      <td>13</td>\n",
       "      <td>5</td>\n",
       "      <td>9999</td>\n",
       "      <td>9999</td>\n",
       "      <td>9999</td>\n",
       "      <td>98</td>\n",
       "      <td>9998</td>\n",
       "      <td>98</td>\n",
       "      <td>98</td>\n",
       "      <td>98</td>\n",
       "      <td>98</td>\n",
       "      <td>2</td>\n",
       "      <td>NaN</td>\n",
       "    </tr>\n",
       "    <tr>\n",
       "      <th>1</th>\n",
       "      <td>1</td>\n",
       "      <td>47.378571</td>\n",
       "      <td>17</td>\n",
       "      <td>1705</td>\n",
       "      <td>1</td>\n",
       "      <td>3</td>\n",
       "      <td>1</td>\n",
       "      <td>12</td>\n",
       "      <td>2</td>\n",
       "      <td>9999</td>\n",
       "      <td>9999</td>\n",
       "      <td>9999</td>\n",
       "      <td>98</td>\n",
       "      <td>9998</td>\n",
       "      <td>98</td>\n",
       "      <td>98</td>\n",
       "      <td>98</td>\n",
       "      <td>98</td>\n",
       "      <td>2</td>\n",
       "      <td>NaN</td>\n",
       "    </tr>\n",
       "  </tbody>\n",
       "</table>\n",
       "</div>"
      ],
      "text/plain": [
       "   DURASI      PSTV15  FKP05  FKP06  FKP08  FKP09  FKP10  FKP11  FKP12  FKP14  \\\n",
       "0       1  240.884842     31   3172      2      1      1     13      5   9999   \n",
       "1       1   47.378571     17   1705      1      3      1     12      2   9999   \n",
       "\n",
       "  FKP14A FKP15  FKP16  FKP17  FKP18  FKP19  FKP20  FKP21  FKP22  FKP13Class  \n",
       "0   9999  9999     98   9998     98     98     98     98      2         NaN  \n",
       "1   9999  9999     98   9998     98     98     98     98      2         NaN  "
      ]
     },
     "execution_count": 52,
     "metadata": {},
     "output_type": "execute_result"
    }
   ],
   "source": [
    "test_df.head(2)"
   ]
  },
  {
   "cell_type": "markdown",
   "metadata": {
    "id": "xixJtmZLwCef",
    "pycharm": {
     "name": "#%% md\n"
    }
   },
   "source": [
    "# *Split Features into numerical and Categorical*"
   ]
  },
  {
   "cell_type": "code",
   "execution_count": null,
   "metadata": {
    "id": "B4_8Ul-txOah",
    "pycharm": {
     "name": "#%%\n"
    }
   },
   "outputs": [],
   "source": [
    "num2 = test_df.select_dtypes(include = 'number')\n",
    "char2 = test_df.select_dtypes(include = 'object')"
   ]
  },
  {
   "cell_type": "code",
   "execution_count": null,
   "metadata": {
    "colab": {
     "base_uri": "https://localhost:8080/",
     "height": 112
    },
    "id": "Gki6P3QlMz8Q",
    "outputId": "0f8ae948-14b2-402e-b3c9-a7645d5e34de",
    "pycharm": {
     "name": "#%%\n"
    }
   },
   "outputs": [
    {
     "data": {
      "text/html": [
       "<div>\n",
       "<style scoped>\n",
       "    .dataframe tbody tr th:only-of-type {\n",
       "        vertical-align: middle;\n",
       "    }\n",
       "\n",
       "    .dataframe tbody tr th {\n",
       "        vertical-align: top;\n",
       "    }\n",
       "\n",
       "    .dataframe thead th {\n",
       "        text-align: right;\n",
       "    }\n",
       "</style>\n",
       "<table border=\"1\" class=\"dataframe\">\n",
       "  <thead>\n",
       "    <tr style=\"text-align: right;\">\n",
       "      <th></th>\n",
       "      <th>DURASI</th>\n",
       "      <th>PSTV15</th>\n",
       "      <th>FKP05</th>\n",
       "      <th>FKP06</th>\n",
       "      <th>FKP08</th>\n",
       "      <th>FKP09</th>\n",
       "      <th>FKP10</th>\n",
       "      <th>FKP11</th>\n",
       "      <th>FKP12</th>\n",
       "      <th>FKP14</th>\n",
       "      <th>FKP16</th>\n",
       "      <th>FKP17</th>\n",
       "      <th>FKP18</th>\n",
       "      <th>FKP19</th>\n",
       "      <th>FKP20</th>\n",
       "      <th>FKP21</th>\n",
       "      <th>FKP22</th>\n",
       "      <th>FKP13Class</th>\n",
       "    </tr>\n",
       "  </thead>\n",
       "  <tbody>\n",
       "    <tr>\n",
       "      <th>0</th>\n",
       "      <td>1</td>\n",
       "      <td>240.884842</td>\n",
       "      <td>31</td>\n",
       "      <td>3172</td>\n",
       "      <td>2</td>\n",
       "      <td>1</td>\n",
       "      <td>1</td>\n",
       "      <td>13</td>\n",
       "      <td>5</td>\n",
       "      <td>9999</td>\n",
       "      <td>98</td>\n",
       "      <td>9998</td>\n",
       "      <td>98</td>\n",
       "      <td>98</td>\n",
       "      <td>98</td>\n",
       "      <td>98</td>\n",
       "      <td>2</td>\n",
       "      <td>NaN</td>\n",
       "    </tr>\n",
       "    <tr>\n",
       "      <th>1</th>\n",
       "      <td>1</td>\n",
       "      <td>47.378571</td>\n",
       "      <td>17</td>\n",
       "      <td>1705</td>\n",
       "      <td>1</td>\n",
       "      <td>3</td>\n",
       "      <td>1</td>\n",
       "      <td>12</td>\n",
       "      <td>2</td>\n",
       "      <td>9999</td>\n",
       "      <td>98</td>\n",
       "      <td>9998</td>\n",
       "      <td>98</td>\n",
       "      <td>98</td>\n",
       "      <td>98</td>\n",
       "      <td>98</td>\n",
       "      <td>2</td>\n",
       "      <td>NaN</td>\n",
       "    </tr>\n",
       "  </tbody>\n",
       "</table>\n",
       "</div>"
      ],
      "text/plain": [
       "   DURASI      PSTV15  FKP05  FKP06  FKP08  FKP09  FKP10  FKP11  FKP12  FKP14  \\\n",
       "0       1  240.884842     31   3172      2      1      1     13      5   9999   \n",
       "1       1   47.378571     17   1705      1      3      1     12      2   9999   \n",
       "\n",
       "   FKP16  FKP17  FKP18  FKP19  FKP20  FKP21  FKP22  FKP13Class  \n",
       "0     98   9998     98     98     98     98      2         NaN  \n",
       "1     98   9998     98     98     98     98      2         NaN  "
      ]
     },
     "execution_count": 54,
     "metadata": {},
     "output_type": "execute_result"
    }
   ],
   "source": [
    "num2.head(2)"
   ]
  },
  {
   "cell_type": "code",
   "execution_count": null,
   "metadata": {
    "colab": {
     "base_uri": "https://localhost:8080/",
     "height": 112
    },
    "id": "fRKlkHQU6ZF6",
    "outputId": "8abe079e-6e3f-4875-d944-f6273deb8f17",
    "pycharm": {
     "name": "#%%\n"
    }
   },
   "outputs": [
    {
     "data": {
      "text/html": [
       "<div>\n",
       "<style scoped>\n",
       "    .dataframe tbody tr th:only-of-type {\n",
       "        vertical-align: middle;\n",
       "    }\n",
       "\n",
       "    .dataframe tbody tr th {\n",
       "        vertical-align: top;\n",
       "    }\n",
       "\n",
       "    .dataframe thead th {\n",
       "        text-align: right;\n",
       "    }\n",
       "</style>\n",
       "<table border=\"1\" class=\"dataframe\">\n",
       "  <thead>\n",
       "    <tr style=\"text-align: right;\">\n",
       "      <th></th>\n",
       "      <th>FKP14A</th>\n",
       "      <th>FKP15</th>\n",
       "    </tr>\n",
       "  </thead>\n",
       "  <tbody>\n",
       "    <tr>\n",
       "      <th>0</th>\n",
       "      <td>9999</td>\n",
       "      <td>9999</td>\n",
       "    </tr>\n",
       "    <tr>\n",
       "      <th>1</th>\n",
       "      <td>9999</td>\n",
       "      <td>9999</td>\n",
       "    </tr>\n",
       "  </tbody>\n",
       "</table>\n",
       "</div>"
      ],
      "text/plain": [
       "  FKP14A FKP15\n",
       "0   9999  9999\n",
       "1   9999  9999"
      ]
     },
     "execution_count": 55,
     "metadata": {},
     "output_type": "execute_result"
    }
   ],
   "source": [
    "char2.head(2)"
   ]
  },
  {
   "cell_type": "markdown",
   "metadata": {
    "id": "ohSSTBS8wMkY",
    "pycharm": {
     "name": "#%% md\n"
    }
   },
   "source": [
    "# *Handling Outliers*"
   ]
  },
  {
   "cell_type": "code",
   "execution_count": null,
   "metadata": {
    "id": "KrYJljBmwItN",
    "pycharm": {
     "name": "#%%\n"
    }
   },
   "outputs": [],
   "source": [
    "num.describe( percentiles= [0.01, 0.05, 0.10, 0.25, 0.50, 0.75, 0.85, 0.9, 0.99])"
   ]
  },
  {
   "cell_type": "code",
   "execution_count": null,
   "metadata": {
    "id": "prdPTBQ1wP1K",
    "pycharm": {
     "name": "#%%\n"
    }
   },
   "outputs": [],
   "source": [
    "# capping & flooring method\n",
    "def outlier_cap(x):\n",
    "    x=x.clip(lower=x.quantile(0.01))\n",
    "    x=x.clip(upper=x.quantile(0.99))\n",
    "    return(x)"
   ]
  },
  {
   "cell_type": "code",
   "execution_count": null,
   "metadata": {
    "id": "0vrjEw3xwRhV",
    "pycharm": {
     "name": "#%%\n"
    }
   },
   "outputs": [],
   "source": [
    "# solving outliers\n",
    "num2 = num2.apply( lambda x : outlier_cap(x) )"
   ]
  },
  {
   "cell_type": "code",
   "execution_count": null,
   "metadata": {
    "id": "k-yskIK2wS6-",
    "pycharm": {
     "name": "#%%\n"
    }
   },
   "outputs": [],
   "source": [
    "# check outliers again\n",
    "num2.describe(percentiles=[0.01,0.05,0.10,0.25,0.50,0.75,0.85,0.9,0.99])"
   ]
  },
  {
   "cell_type": "markdown",
   "metadata": {
    "id": "uoq8RGkRwYx7",
    "pycharm": {
     "name": "#%% md\n"
    }
   },
   "source": [
    "### *Encoding Categorical Variable*"
   ]
  },
  {
   "cell_type": "code",
   "execution_count": null,
   "metadata": {
    "id": "N1X3v3I4wcz0",
    "pycharm": {
     "name": "#%%\n"
    }
   },
   "outputs": [],
   "source": [
    "# using label encoder at object variable ( fkp14 & fkp15a)\n",
    "from sklearn.preprocessing import LabelEncoder\n",
    "\n",
    "le = LabelEncoder()\n",
    "col_list = char2.select_dtypes(include = \"object\").columns\n",
    "for colsn in col_list:\n",
    "    char2[colsn] = le.fit_transform(char2[colsn].astype(str))"
   ]
  },
  {
   "cell_type": "code",
   "execution_count": null,
   "metadata": {
    "id": "Sqpzo7ll41x9",
    "pycharm": {
     "name": "#%%\n"
    }
   },
   "outputs": [],
   "source": [
    "char2.dtypes"
   ]
  },
  {
   "cell_type": "markdown",
   "metadata": {
    "id": "QQLy1t-NwfYn",
    "pycharm": {
     "name": "#%% md\n"
    }
   },
   "source": [
    "# Create Master Set for Model Development"
   ]
  },
  {
   "cell_type": "code",
   "execution_count": null,
   "metadata": {
    "id": "G8sxVkZkwhec",
    "pycharm": {
     "name": "#%%\n"
    }
   },
   "outputs": [],
   "source": [
    "# combine num & char\n",
    "test_df_final = pd.concat([num2,char2],axis=1, join='inner')"
   ]
  },
  {
   "cell_type": "code",
   "execution_count": null,
   "metadata": {
    "colab": {
     "base_uri": "https://localhost:8080/",
     "height": 112
    },
    "id": "M84BsM7BNAIz",
    "outputId": "e8d0ba76-eefc-4cff-d733-e7d9bb469bc4",
    "pycharm": {
     "name": "#%%\n"
    }
   },
   "outputs": [
    {
     "data": {
      "text/html": [
       "<div>\n",
       "<style scoped>\n",
       "    .dataframe tbody tr th:only-of-type {\n",
       "        vertical-align: middle;\n",
       "    }\n",
       "\n",
       "    .dataframe tbody tr th {\n",
       "        vertical-align: top;\n",
       "    }\n",
       "\n",
       "    .dataframe thead th {\n",
       "        text-align: right;\n",
       "    }\n",
       "</style>\n",
       "<table border=\"1\" class=\"dataframe\">\n",
       "  <thead>\n",
       "    <tr style=\"text-align: right;\">\n",
       "      <th></th>\n",
       "      <th>DURASI</th>\n",
       "      <th>PSTV15</th>\n",
       "      <th>FKP05</th>\n",
       "      <th>FKP06</th>\n",
       "      <th>FKP08</th>\n",
       "      <th>FKP09</th>\n",
       "      <th>FKP10</th>\n",
       "      <th>FKP11</th>\n",
       "      <th>FKP12</th>\n",
       "      <th>FKP14</th>\n",
       "      <th>FKP16</th>\n",
       "      <th>FKP17</th>\n",
       "      <th>FKP18</th>\n",
       "      <th>FKP19</th>\n",
       "      <th>FKP20</th>\n",
       "      <th>FKP21</th>\n",
       "      <th>FKP22</th>\n",
       "      <th>FKP13Class</th>\n",
       "      <th>FKP14A</th>\n",
       "      <th>FKP15</th>\n",
       "    </tr>\n",
       "  </thead>\n",
       "  <tbody>\n",
       "    <tr>\n",
       "      <th>0</th>\n",
       "      <td>1.0</td>\n",
       "      <td>240.884842</td>\n",
       "      <td>31.0</td>\n",
       "      <td>3172.0</td>\n",
       "      <td>2.0</td>\n",
       "      <td>1.0</td>\n",
       "      <td>1</td>\n",
       "      <td>13.0</td>\n",
       "      <td>5</td>\n",
       "      <td>9999.0</td>\n",
       "      <td>98.0</td>\n",
       "      <td>9998.0</td>\n",
       "      <td>98.0</td>\n",
       "      <td>98</td>\n",
       "      <td>98.0</td>\n",
       "      <td>98</td>\n",
       "      <td>2</td>\n",
       "      <td>NaN</td>\n",
       "      <td>0</td>\n",
       "      <td>0</td>\n",
       "    </tr>\n",
       "    <tr>\n",
       "      <th>1</th>\n",
       "      <td>1.0</td>\n",
       "      <td>47.378571</td>\n",
       "      <td>17.0</td>\n",
       "      <td>1705.0</td>\n",
       "      <td>1.0</td>\n",
       "      <td>3.0</td>\n",
       "      <td>1</td>\n",
       "      <td>12.0</td>\n",
       "      <td>2</td>\n",
       "      <td>9999.0</td>\n",
       "      <td>98.0</td>\n",
       "      <td>9998.0</td>\n",
       "      <td>98.0</td>\n",
       "      <td>98</td>\n",
       "      <td>98.0</td>\n",
       "      <td>98</td>\n",
       "      <td>2</td>\n",
       "      <td>NaN</td>\n",
       "      <td>0</td>\n",
       "      <td>0</td>\n",
       "    </tr>\n",
       "  </tbody>\n",
       "</table>\n",
       "</div>"
      ],
      "text/plain": [
       "   DURASI      PSTV15  FKP05   FKP06  FKP08  FKP09  FKP10  FKP11  FKP12  \\\n",
       "0     1.0  240.884842   31.0  3172.0    2.0    1.0      1   13.0      5   \n",
       "1     1.0   47.378571   17.0  1705.0    1.0    3.0      1   12.0      2   \n",
       "\n",
       "    FKP14  FKP16   FKP17  FKP18  FKP19  FKP20  FKP21  FKP22  FKP13Class  \\\n",
       "0  9999.0   98.0  9998.0   98.0     98   98.0     98      2         NaN   \n",
       "1  9999.0   98.0  9998.0   98.0     98   98.0     98      2         NaN   \n",
       "\n",
       "   FKP14A  FKP15  \n",
       "0       0      0  \n",
       "1       0      0  "
      ]
     },
     "execution_count": 61,
     "metadata": {},
     "output_type": "execute_result"
    }
   ],
   "source": [
    "test_df_final.head(2)"
   ]
  },
  {
   "cell_type": "markdown",
   "metadata": {
    "id": "UkSrwsehwnhV",
    "pycharm": {
     "name": "#%% md\n"
    }
   },
   "source": [
    "### *Define Target & Independent Feature*"
   ]
  },
  {
   "cell_type": "code",
   "execution_count": null,
   "metadata": {
    "id": "4fjGB4_GwsK0",
    "pycharm": {
     "name": "#%%\n"
    }
   },
   "outputs": [],
   "source": [
    "# defining target & independent feature\n",
    "\n",
    "Y2 = test_df_final[['FKP13Class']]\n",
    "X2 = test_df_final.drop( ['FKP13Class'], axis = 1)"
   ]
  },
  {
   "cell_type": "markdown",
   "metadata": {
    "id": "NrZ2Mh7GNaZH",
    "pycharm": {
     "name": "#%% md\n"
    }
   },
   "source": [
    "### *Feature Scalling*"
   ]
  },
  {
   "cell_type": "code",
   "execution_count": null,
   "metadata": {
    "id": "REN2J4JU9kbU",
    "pycharm": {
     "name": "#%%\n"
    }
   },
   "outputs": [],
   "source": [
    "# standarization\n",
    "\n",
    "from sklearn.preprocessing import StandardScaler\n",
    "\n",
    "std = StandardScaler()\n",
    "std.fit(X2)\n",
    "X2_std = std.transform(X2)"
   ]
  },
  {
   "cell_type": "code",
   "execution_count": null,
   "metadata": {
    "colab": {
     "base_uri": "https://localhost:8080/"
    },
    "id": "AZeL5qOdOjKz",
    "outputId": "8c5e6f9b-bd5f-4e90-b7b3-28bf7d333373",
    "pycharm": {
     "name": "#%%\n"
    }
   },
   "outputs": [
    {
     "data": {
      "text/plain": [
       "(1014225, 19)"
      ]
     },
     "execution_count": 64,
     "metadata": {},
     "output_type": "execute_result"
    }
   ],
   "source": [
    "X2_std.shape"
   ]
  },
  {
   "cell_type": "code",
   "execution_count": null,
   "metadata": {
    "colab": {
     "base_uri": "https://localhost:8080/",
     "height": 112
    },
    "id": "Wwo2FJ2_RA3S",
    "outputId": "c36105b8-9336-4f80-cd12-25b191926728",
    "pycharm": {
     "name": "#%%\n"
    }
   },
   "outputs": [
    {
     "data": {
      "text/html": [
       "<div>\n",
       "<style scoped>\n",
       "    .dataframe tbody tr th:only-of-type {\n",
       "        vertical-align: middle;\n",
       "    }\n",
       "\n",
       "    .dataframe tbody tr th {\n",
       "        vertical-align: top;\n",
       "    }\n",
       "\n",
       "    .dataframe thead th {\n",
       "        text-align: right;\n",
       "    }\n",
       "</style>\n",
       "<table border=\"1\" class=\"dataframe\">\n",
       "  <thead>\n",
       "    <tr style=\"text-align: right;\">\n",
       "      <th></th>\n",
       "      <th>FKP13Class</th>\n",
       "    </tr>\n",
       "  </thead>\n",
       "  <tbody>\n",
       "    <tr>\n",
       "      <th>0</th>\n",
       "      <td>NaN</td>\n",
       "    </tr>\n",
       "    <tr>\n",
       "      <th>1</th>\n",
       "      <td>NaN</td>\n",
       "    </tr>\n",
       "  </tbody>\n",
       "</table>\n",
       "</div>"
      ],
      "text/plain": [
       "   FKP13Class\n",
       "0         NaN\n",
       "1         NaN"
      ]
     },
     "execution_count": 65,
     "metadata": {},
     "output_type": "execute_result"
    }
   ],
   "source": [
    "Y2.head(2)"
   ]
  },
  {
   "cell_type": "code",
   "execution_count": null,
   "metadata": {
    "id": "nMp0MAHcygGE",
    "pycharm": {
     "name": "#%%\n"
    }
   },
   "outputs": [],
   "source": [
    "#dtree=DecisionTreeClassifier(criterion='gini',max_depth=4,random_state=42)\n",
    "#dtree.fit(X_train,y_train)"
   ]
  },
  {
   "cell_type": "markdown",
   "metadata": {
    "id": "xcxZ7GoNNjOr",
    "pycharm": {
     "name": "#%% md\n"
    }
   },
   "source": [
    "### *PCA*"
   ]
  },
  {
   "cell_type": "code",
   "execution_count": null,
   "metadata": {
    "id": "jqTwu5aPNpvs",
    "pycharm": {
     "name": "#%%\n"
    }
   },
   "outputs": [],
   "source": [
    "# Building Principal Components\n",
    "from sklearn.decomposition import PCA\n",
    "\n",
    "pca2 = PCA(n_components = 19)\n",
    "pca2.fit(X2_std)\n",
    "PC2 = pca2.transform(X2_std)"
   ]
  },
  {
   "cell_type": "code",
   "execution_count": null,
   "metadata": {
    "colab": {
     "base_uri": "https://localhost:8080/"
    },
    "collapsed": false,
    "id": "VxwLo1T5-VH3",
    "jupyter": {
     "outputs_hidden": false
    },
    "outputId": "08bbb9f0-2644-4468-b39f-eae1ec6d7654",
    "pycharm": {
     "name": "#%%\n"
    }
   },
   "outputs": [
    {
     "data": {
      "text/plain": [
       "array([0.3646913 , 0.58907187, 0.70197393, 0.78762609, 0.84425058,\n",
       "       0.89127262, 0.92907555, 0.96372043, 0.99244281, 0.99826387,\n",
       "       0.99952498, 0.99982183, 0.99996109, 0.99998985, 0.99999636,\n",
       "       0.99999929, 0.99999992, 1.        , 1.        ])"
      ]
     },
     "execution_count": 67,
     "metadata": {},
     "output_type": "execute_result"
    }
   ],
   "source": [
    "# cummulative variance explained ratio\n",
    "cum_var_exp2= pca.explained_variance_ratio_\n",
    "np.cumsum(cum_var_exp2)"
   ]
  },
  {
   "cell_type": "code",
   "execution_count": null,
   "metadata": {
    "collapsed": false,
    "id": "96QvU6CO-VH4",
    "jupyter": {
     "outputs_hidden": false
    },
    "pycharm": {
     "name": "#%%\n"
    }
   },
   "outputs": [],
   "source": [
    "# create df based on PCA\n",
    "\n",
    "PC_df2 = pd.DataFrame( data = PC2,\n",
    "                      columns = ['PC1','PC2','PC3','PC4','PC5','PC6','PC7','PC8','PC9','PC10',\n",
    "                                 'PC11', 'PC12', 'PC13', 'PC14', 'PC15', 'PC16', 'PC17', 'PC18', 'PC19'])"
   ]
  },
  {
   "cell_type": "code",
   "execution_count": null,
   "metadata": {
    "collapsed": false,
    "id": "ggAUwchv-VH4",
    "jupyter": {
     "outputs_hidden": false
    },
    "pycharm": {
     "name": "#%%\n"
    }
   },
   "outputs": [],
   "source": [
    "# Combine PCA df with target variable\n",
    "X_PCA_Target2 = pd.concat( [PC_df2, Y2], axis=1)"
   ]
  },
  {
   "cell_type": "code",
   "execution_count": null,
   "metadata": {
    "id": "2PfLYhcs-UzP",
    "pycharm": {
     "name": "#%%\n"
    }
   },
   "outputs": [],
   "source": [
    "from mpl_toolkits.mplot3d import Axes3D\n",
    "fig = plt.figure(figsize=(10,7))\n",
    "\n",
    "# choose projection 3d for creating a 3d graph\n",
    "axis = fig.add_subplot(111, projection='3d')\n",
    "\n",
    "# x[:,0]is pc1,x[:,1] is pc2 while x[:,2] is pc3\n",
    "axis.scatter(PC[:,0],PC[:,1],PC[:,2], c=X_PCA_Target['FKP13Class'],cmap='plasma')\n",
    "axis.set_xlabel(\"PC1\", fontsize=10)\n",
    "axis.set_ylabel(\"PC2\", fontsize=10)"
   ]
  },
  {
   "cell_type": "markdown",
   "metadata": {
    "id": "nsc97gwR_MBI",
    "pycharm": {
     "name": "#%% md\n"
    }
   },
   "source": [
    "## TEST MODEL"
   ]
  },
  {
   "cell_type": "markdown",
   "metadata": {
    "id": "MxrOTekX_MBJ",
    "pycharm": {
     "name": "#%% md\n"
    }
   },
   "source": [
    "### *Testing*"
   ]
  },
  {
   "cell_type": "code",
   "execution_count": null,
   "metadata": {
    "colab": {
     "base_uri": "https://localhost:8080/",
     "height": 165
    },
    "collapsed": false,
    "id": "GXoa2dSM_MBK",
    "jupyter": {
     "outputs_hidden": false
    },
    "outputId": "be0622db-7dd4-412b-c089-e46c05a6c183",
    "pycharm": {
     "name": "#%%\n"
    }
   },
   "outputs": [
    {
     "ename": "NameError",
     "evalue": "ignored",
     "output_type": "error",
     "traceback": [
      "\u001b[0;31m---------------------------------------------------------------------------\u001b[0m",
      "\u001b[0;31mNameError\u001b[0m                                 Traceback (most recent call last)",
      "\u001b[0;32m<ipython-input-38-f406acd5577b>\u001b[0m in \u001b[0;36m<module>\u001b[0;34m\u001b[0m\n\u001b[0;32m----> 1\u001b[0;31m \u001b[0my_pred_dtree2\u001b[0m\u001b[0;34m=\u001b[0m\u001b[0mdtree\u001b[0m\u001b[0;34m.\u001b[0m\u001b[0mpredict\u001b[0m\u001b[0;34m(\u001b[0m\u001b[0mX2\u001b[0m\u001b[0;34m)\u001b[0m\u001b[0;34m\u001b[0m\u001b[0;34m\u001b[0m\u001b[0m\n\u001b[0m",
      "\u001b[0;31mNameError\u001b[0m: name 'dtree' is not defined"
     ]
    }
   ],
   "source": [
    "y_pred_dtree2=dtree.predict(X2)"
   ]
  },
  {
   "cell_type": "code",
   "execution_count": null,
   "metadata": {
    "id": "BpGKOUcGTGzA",
    "pycharm": {
     "name": "#%%\n"
    }
   },
   "outputs": [],
   "source": [
    "test_df_final['FKP13Class'] = pd.DataFrame(y_pred_dtree2)\n",
    "test_df_final['FKP02'] = pd.DataFrame(fkp02)"
   ]
  },
  {
   "cell_type": "code",
   "execution_count": null,
   "metadata": {
    "colab": {
     "base_uri": "https://localhost:8080/",
     "height": 176
    },
    "id": "Sq8SY1zeUT4d",
    "outputId": "cd3bcd03-e014-4d28-ce62-9c9f387cc0de",
    "pycharm": {
     "name": "#%%\n"
    }
   },
   "outputs": [
    {
     "data": {
      "text/html": [
       "<div>\n",
       "<style scoped>\n",
       "    .dataframe tbody tr th:only-of-type {\n",
       "        vertical-align: middle;\n",
       "    }\n",
       "\n",
       "    .dataframe tbody tr th {\n",
       "        vertical-align: top;\n",
       "    }\n",
       "\n",
       "    .dataframe thead th {\n",
       "        text-align: right;\n",
       "    }\n",
       "</style>\n",
       "<table border=\"1\" class=\"dataframe\">\n",
       "  <thead>\n",
       "    <tr style=\"text-align: right;\">\n",
       "      <th></th>\n",
       "      <th>FKP02</th>\n",
       "      <th>FKP13Class</th>\n",
       "    </tr>\n",
       "  </thead>\n",
       "  <tbody>\n",
       "    <tr>\n",
       "      <th>0</th>\n",
       "      <td>954386050</td>\n",
       "      <td>1</td>\n",
       "    </tr>\n",
       "    <tr>\n",
       "      <th>1</th>\n",
       "      <td>774246805</td>\n",
       "      <td>1</td>\n",
       "    </tr>\n",
       "    <tr>\n",
       "      <th>2</th>\n",
       "      <td>1202010273</td>\n",
       "      <td>1</td>\n",
       "    </tr>\n",
       "    <tr>\n",
       "      <th>3</th>\n",
       "      <td>1286640248</td>\n",
       "      <td>1</td>\n",
       "    </tr>\n",
       "    <tr>\n",
       "      <th>4</th>\n",
       "      <td>1285179242</td>\n",
       "      <td>1</td>\n",
       "    </tr>\n",
       "    <tr>\n",
       "      <th>...</th>\n",
       "      <td>...</td>\n",
       "      <td>...</td>\n",
       "    </tr>\n",
       "    <tr>\n",
       "      <th>1014220</th>\n",
       "      <td>248870919P000406</td>\n",
       "      <td>1</td>\n",
       "    </tr>\n",
       "    <tr>\n",
       "      <th>1014221</th>\n",
       "      <td>116000620P000034</td>\n",
       "      <td>1</td>\n",
       "    </tr>\n",
       "    <tr>\n",
       "      <th>1014222</th>\n",
       "      <td>160421019P000631</td>\n",
       "      <td>1</td>\n",
       "    </tr>\n",
       "    <tr>\n",
       "      <th>1014223</th>\n",
       "      <td>332670919P000083</td>\n",
       "      <td>1</td>\n",
       "    </tr>\n",
       "    <tr>\n",
       "      <th>1014224</th>\n",
       "      <td>106050119Y000587</td>\n",
       "      <td>1</td>\n",
       "    </tr>\n",
       "  </tbody>\n",
       "</table>\n",
       "<p>1014225 rows × 2 columns</p>\n",
       "</div>"
      ],
      "text/plain": [
       "                    FKP02  FKP13Class\n",
       "0               954386050           1\n",
       "1               774246805           1\n",
       "2              1202010273           1\n",
       "3              1286640248           1\n",
       "4              1285179242           1\n",
       "...                   ...         ...\n",
       "1014220  248870919P000406           1\n",
       "1014221  116000620P000034           1\n",
       "1014222  160421019P000631           1\n",
       "1014223  332670919P000083           1\n",
       "1014224  106050119Y000587           1\n",
       "\n",
       "[1014225 rows x 2 columns]"
      ]
     },
     "execution_count": 76,
     "metadata": {},
     "output_type": "execute_result"
    }
   ],
   "source": [
    "test_df_final[['FKP02','FKP13Class']]"
   ]
  },
  {
   "cell_type": "code",
   "execution_count": null,
   "metadata": {
    "id": "OeId5V3CjwY9",
    "outputId": "72a79c70-345f-4589-8d26-2a362abb5fc5",
    "pycharm": {
     "name": "#%%\n"
    }
   },
   "outputs": [
    {
     "data": {
      "text/plain": [
       "1    1001067\n",
       "0      13158\n",
       "Name: FKP13Class, dtype: int64"
      ]
     },
     "execution_count": 77,
     "metadata": {},
     "output_type": "execute_result"
    }
   ],
   "source": [
    "test_df_final['FKP13Class'].value_counts()"
   ]
  },
  {
   "cell_type": "code",
   "execution_count": null,
   "metadata": {
    "id": "sE5okctvPWdk",
    "pycharm": {
     "name": "#%%\n"
    }
   },
   "outputs": [],
   "source": [
    "# calculated using respective function\n",
    "\n",
    "print(\"Accuracy:\",metrics.accuracy_score(Y2, y_pred_dtree2))\n",
    "print(\"Precision\",metrics.precision_score(Y2,y_pred_dtree2))\n",
    "print(\"Recall\",metrics.recall_score(Y2,y_pred_dtree2))\n",
    "print(\"f1_score\",metrics.f1_score(Y2,y_pred_dtree2))"
   ]
  },
  {
   "cell_type": "code",
   "execution_count": null,
   "metadata": {
    "id": "p9Uy-QDDP9Ek",
    "pycharm": {
     "name": "#%%\n"
    }
   },
   "outputs": [],
   "source": [
    "# menghitung prediksi based on probability\n",
    "\n",
    "y_pred_prob2 = dtree.predict_proba(PC2)[:, 1]\n",
    "test_df_final['pred_prob']=pd.DataFrame(y_pred_prob)"
   ]
  },
  {
   "cell_type": "code",
   "execution_count": null,
   "metadata": {
    "colab": {
     "base_uri": "https://localhost:8080/",
     "height": 176
    },
    "id": "x-7vZ1lPQKfH",
    "outputId": "692e271a-9f7d-4ca6-a45c-4dd552869b7d",
    "pycharm": {
     "name": "#%%\n"
    }
   },
   "outputs": [
    {
     "data": {
      "text/html": [
       "<div>\n",
       "<style scoped>\n",
       "    .dataframe tbody tr th:only-of-type {\n",
       "        vertical-align: middle;\n",
       "    }\n",
       "\n",
       "    .dataframe tbody tr th {\n",
       "        vertical-align: top;\n",
       "    }\n",
       "\n",
       "    .dataframe thead th {\n",
       "        text-align: right;\n",
       "    }\n",
       "</style>\n",
       "<table border=\"1\" class=\"dataframe\">\n",
       "  <thead>\n",
       "    <tr style=\"text-align: right;\">\n",
       "      <th></th>\n",
       "      <th>DURASI</th>\n",
       "      <th>PSTV15</th>\n",
       "      <th>FKP05</th>\n",
       "      <th>FKP06</th>\n",
       "      <th>FKP08</th>\n",
       "      <th>FKP09</th>\n",
       "      <th>FKP10</th>\n",
       "      <th>FKP11</th>\n",
       "      <th>FKP12</th>\n",
       "      <th>FKP14</th>\n",
       "      <th>FKP16</th>\n",
       "      <th>FKP17</th>\n",
       "      <th>FKP18</th>\n",
       "      <th>FKP19</th>\n",
       "      <th>FKP20</th>\n",
       "      <th>FKP21</th>\n",
       "      <th>FKP22</th>\n",
       "      <th>FKP13Class</th>\n",
       "      <th>FKP14A</th>\n",
       "      <th>FKP15</th>\n",
       "      <th>FKP02</th>\n",
       "      <th>pred_prob</th>\n",
       "    </tr>\n",
       "  </thead>\n",
       "  <tbody>\n",
       "    <tr>\n",
       "      <th>0</th>\n",
       "      <td>1.0</td>\n",
       "      <td>240.884842</td>\n",
       "      <td>31.0</td>\n",
       "      <td>3172.0</td>\n",
       "      <td>2.0</td>\n",
       "      <td>1.0</td>\n",
       "      <td>1</td>\n",
       "      <td>13.0</td>\n",
       "      <td>5</td>\n",
       "      <td>9999.0</td>\n",
       "      <td>98.0</td>\n",
       "      <td>9998.0</td>\n",
       "      <td>98.0</td>\n",
       "      <td>98</td>\n",
       "      <td>98.0</td>\n",
       "      <td>98</td>\n",
       "      <td>2</td>\n",
       "      <td>1</td>\n",
       "      <td>0</td>\n",
       "      <td>0</td>\n",
       "      <td>954386050</td>\n",
       "      <td>1.0</td>\n",
       "    </tr>\n",
       "    <tr>\n",
       "      <th>1</th>\n",
       "      <td>1.0</td>\n",
       "      <td>47.378571</td>\n",
       "      <td>17.0</td>\n",
       "      <td>1705.0</td>\n",
       "      <td>1.0</td>\n",
       "      <td>3.0</td>\n",
       "      <td>1</td>\n",
       "      <td>12.0</td>\n",
       "      <td>2</td>\n",
       "      <td>9999.0</td>\n",
       "      <td>98.0</td>\n",
       "      <td>9998.0</td>\n",
       "      <td>98.0</td>\n",
       "      <td>98</td>\n",
       "      <td>98.0</td>\n",
       "      <td>98</td>\n",
       "      <td>2</td>\n",
       "      <td>1</td>\n",
       "      <td>0</td>\n",
       "      <td>0</td>\n",
       "      <td>774246805</td>\n",
       "      <td>0.0</td>\n",
       "    </tr>\n",
       "  </tbody>\n",
       "</table>\n",
       "</div>"
      ],
      "text/plain": [
       "   DURASI      PSTV15  FKP05   FKP06  FKP08  FKP09  FKP10  FKP11  FKP12  \\\n",
       "0     1.0  240.884842   31.0  3172.0    2.0    1.0      1   13.0      5   \n",
       "1     1.0   47.378571   17.0  1705.0    1.0    3.0      1   12.0      2   \n",
       "\n",
       "    FKP14  FKP16   FKP17  FKP18  FKP19  FKP20  FKP21  FKP22  FKP13Class  \\\n",
       "0  9999.0   98.0  9998.0   98.0     98   98.0     98      2           1   \n",
       "1  9999.0   98.0  9998.0   98.0     98   98.0     98      2           1   \n",
       "\n",
       "   FKP14A  FKP15      FKP02  pred_prob  \n",
       "0       0      0  954386050        1.0  \n",
       "1       0      0  774246805        0.0  "
      ]
     },
     "execution_count": 79,
     "metadata": {},
     "output_type": "execute_result"
    }
   ],
   "source": [
    "test_df_final.head(2)"
   ]
  },
  {
   "cell_type": "code",
   "execution_count": null,
   "metadata": {
    "id": "wGMEQn2-RrzX",
    "pycharm": {
     "name": "#%%\n"
    }
   },
   "outputs": [],
   "source": [
    "test_df_final['pred_prob'].value_counts()"
   ]
  },
  {
   "cell_type": "markdown",
   "metadata": {
    "id": "NT4A3nEUk6mJ"
   },
   "source": [
    "### *K Fold*"
   ]
  },
  {
   "cell_type": "code",
   "execution_count": null,
   "metadata": {
    "colab": {
     "base_uri": "https://localhost:8080/"
    },
    "id": "Ju1e5L9lk_wd",
    "outputId": "0afd44f7-992f-40ca-b648-ae6be21dcd07"
   },
   "outputs": [
    {
     "name": "stdout",
     "output_type": "stream",
     "text": [
      "Accuracy: 99.77 %\n",
      "Standard Deviation: 0.01 %\n"
     ]
    }
   ],
   "source": [
    "from sklearn.model_selection import cross_val_score\n",
    "\n",
    "accuracies = cross_val_score(estimator = dtree, X = X_train, y = y_train, cv = 10)\n",
    "print(\"Accuracy: {:.2f} %\".format(accuracies.mean()*100))\n",
    "print(\"Standard Deviation: {:.2f} %\".format(accuracies.std()*100))"
   ]
  }
 ],
 "metadata": {
  "colab": {
   "provenance": []
  },
  "kernelspec": {
   "display_name": "Python 3 (ipykernel)",
   "language": "python",
   "name": "python3"
  },
  "language_info": {
   "codemirror_mode": {
    "name": "ipython",
    "version": 3
   },
   "file_extension": ".py",
   "mimetype": "text/x-python",
   "name": "python",
   "nbconvert_exporter": "python",
   "pygments_lexer": "ipython3",
   "version": "3.10.9"
  }
 },
 "nbformat": 4,
 "nbformat_minor": 4
}
