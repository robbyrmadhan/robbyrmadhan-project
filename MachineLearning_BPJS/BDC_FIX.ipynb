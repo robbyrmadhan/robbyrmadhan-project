{
 "cells": [
  {
   "cell_type": "code",
   "execution_count": null,
   "metadata": {
    "id": "ajbfp4Ell24h"
   },
   "outputs": [],
   "source": [
    "import pandas as pd\n",
    "import numpy as np\n",
    "import matplotlib.pyplot as plt\n",
    "import seaborn as sns\n",
    "import tensorflow as tf\n",
    "from sklearn.decomposition import PCA\n",
    "from sklearn import preprocessing\n",
    "from sklearn.ensemble import RandomForestClassifier\n",
    "from sklearn.metrics import accuracy_score\n",
    "from pandas.tseries.offsets import Day\n",
    "from sklearn.preprocessing import LabelEncoder\n",
    "from sklearn import metrics\n",
    "from sklearn.metrics import confusion_matrix\n",
    "from sklearn.model_selection import train_test_split\n",
    "from sklearn.preprocessing import MinMaxScaler, StandardScaler\n",
    "from keras.layers import Dense\n",
    "from keras.models import Sequential\n",
    "from sklearn.utils import class_weight\n",
    "from sklearn.metrics import classification_report, roc_auc_score\n",
    "from sklearn.metrics import classification_report, confusion_matrix, accuracy_score, f1_score, precision_score, recall_score\n",
    "from sklearn.model_selection import StratifiedKFold\n",
    "from imblearn.over_sampling import SMOTE\n",
    "from imblearn.under_sampling import RandomUnderSampler\n",
    "from imblearn.over_sampling import RandomOverSampler\n",
    "\n",
    "pd.set_option('display.max_columns', None)"
   ]
  },
  {
   "cell_type": "code",
   "execution_count": null,
   "metadata": {
    "colab": {
     "base_uri": "https://localhost:8080/"
    },
    "executionInfo": {
     "elapsed": 2557,
     "status": "ok",
     "timestamp": 1667131750536,
     "user": {
      "displayName": "Research Tirta",
      "userId": "06541149215222579869"
     },
     "user_tz": -420
    },
    "id": "R-uRMvUymIPQ",
    "outputId": "68cebbcf-e193-4ae5-e6d6-64081ed3949c"
   },
   "outputs": [
    {
     "name": "stdout",
     "output_type": "stream",
     "text": [
      "Drive already mounted at /content/gdrive; to attempt to forcibly remount, call drive.mount(\"/content/gdrive\", force_remount=True).\n"
     ]
    }
   ],
   "source": [
    "from google.colab import drive\n",
    "\n",
    "drive.mount('/content/gdrive')\n",
    "baseurl = '/content/gdrive/MyDrive/bdc/'\n",
    "\n",
    "final_train_url = baseurl + 'trainFinal_fktp.csv'\n",
    "final_test_url = baseurl + 'testFinal_fktp.csv'\n",
    "submsission_url = baseurl + 'submission.csv'"
   ]
  },
  {
   "cell_type": "code",
   "execution_count": null,
   "metadata": {
    "id": "Br0neNFAmRwh"
   },
   "outputs": [],
   "source": [
    "train_df_final = pd.read_csv(final_train_url, sep=',')\n",
    "test_df_final = pd.read_csv(final_test_url, sep=',')"
   ]
  },
  {
   "cell_type": "markdown",
   "metadata": {
    "id": "FOjGcOwJotKL"
   },
   "source": [
    "## DATA TRAIN"
   ]
  },
  {
   "cell_type": "code",
   "execution_count": null,
   "metadata": {
    "id": "GN2QYdLwo5K1"
   },
   "outputs": [],
   "source": [
    "# MEMISAHKAN ANTARA KOLOM FITUR DAN KOLOM TARGET\n",
    "# data train\n",
    "Y1 = train_df_final[['FKP13Class']]\n",
    "X1 = train_df_final.drop(['FKP13Class'], axis=1)\n",
    "\n",
    "# data test\n",
    "Y2 = test_df_final[['FKP13Class']]\n",
    "X2 = test_df_final.drop(['FKP13Class'], axis=1)"
   ]
  },
  {
   "cell_type": "code",
   "execution_count": null,
   "metadata": {
    "colab": {
     "base_uri": "https://localhost:8080/"
    },
    "executionInfo": {
     "elapsed": 14,
     "status": "ok",
     "timestamp": 1667131764989,
     "user": {
      "displayName": "Research Tirta",
      "userId": "06541149215222579869"
     },
     "user_tz": -420
    },
    "id": "FVCKvjjkD_FS",
    "outputId": "13b45613-1527-42bb-8519-258c17c4b061"
   },
   "outputs": [
    {
     "name": "stdout",
     "output_type": "stream",
     "text": [
      "(4056898, 23) (4056898, 1) (1014225, 23) (1014225, 1)\n"
     ]
    }
   ],
   "source": [
    "# X1 = kolom fitur di data train\n",
    "# X2 = kolom fitur di data test\n",
    " \n",
    "print(X1.shape, Y1.shape, X2.shape, Y2.shape)"
   ]
  },
  {
   "cell_type": "code",
   "execution_count": null,
   "metadata": {
    "id": "RBhKLOpWpKLu"
   },
   "outputs": [],
   "source": [
    "## UNDER SAMPLING PADA DATA TRAIN\n",
    "\n",
    "## APAKAH DI DATA TEST PERLU DILAKUKAN UNDER SAMPLING JUGA?\n",
    "\n",
    "# data train\n",
    "rus = RandomUnderSampler(\n",
    "    sampling_strategy='auto',  # samples only the majority class\n",
    "    random_state=0,  # for reproducibility\n",
    "    replacement=True # if it should resample with replacement\n",
    ")  \n",
    "\n",
    "X_resampled1, y_resampled1 = rus.fit_resample(X1, Y1)\n"
   ]
  },
  {
   "cell_type": "code",
   "execution_count": null,
   "metadata": {
    "colab": {
     "base_uri": "https://localhost:8080/"
    },
    "executionInfo": {
     "elapsed": 13,
     "status": "ok",
     "timestamp": 1667131770588,
     "user": {
      "displayName": "Research Tirta",
      "userId": "06541149215222579869"
     },
     "user_tz": -420
    },
    "id": "GyvWRrpNDh_I",
    "outputId": "6dbd116f-0847-48dc-99b1-dab71c36119f"
   },
   "outputs": [
    {
     "name": "stdout",
     "output_type": "stream",
     "text": [
      "(2844774, 23) (2844774, 1)\n"
     ]
    }
   ],
   "source": [
    "print(X_resampled1.shape, y_resampled1.shape)"
   ]
  },
  {
   "cell_type": "markdown",
   "metadata": {
    "id": "fZW_GlhDVWsn"
   },
   "source": [
    "keterangan:\n",
    " * kami mencoba melakuan split train test terlebih dahulu, sebelum di PCA kan. berdasarkan refrensi berikut\n",
    "\n",
    " https://www.geeksforgeeks.org/principal-component-analysis-with-python/"
   ]
  },
  {
   "cell_type": "code",
   "execution_count": null,
   "metadata": {
    "id": "VhER2vkZo_S2"
   },
   "outputs": [],
   "source": [
    "# Splitting the X and Y into the Training set and Testing set\n",
    "\n",
    "from sklearn.model_selection import train_test_split\n",
    "\n",
    "X_train, X_test, y_train, y_test = train_test_split(X_resampled1, y_resampled1, test_size = 0.2, random_state = 42)\n"
   ]
  },
  {
   "cell_type": "code",
   "execution_count": null,
   "metadata": {
    "id": "W4w-V5YpOKGJ"
   },
   "outputs": [],
   "source": [
    "\n",
    "from sklearn.preprocessing import StandardScaler\n",
    "sc = StandardScaler()\n",
    "\n",
    "X_train = sc.fit_transform(X_train)\n",
    "X_test = sc.transform(X_test)\n"
   ]
  },
  {
   "cell_type": "code",
   "execution_count": null,
   "metadata": {
    "id": "B92nkl14OP3V"
   },
   "outputs": [],
   "source": [
    "# Applying PCA function on training\n",
    "# and testing set of X component\n",
    "\n",
    "from sklearn.decomposition import PCA\n",
    "\n",
    "pca = PCA(n_components = 22)\n",
    "\n",
    "X_train = pca.fit_transform(X_train)\n",
    "X_test = pca.transform(X_test)"
   ]
  },
  {
   "cell_type": "code",
   "execution_count": null,
   "metadata": {
    "colab": {
     "base_uri": "https://localhost:8080/"
    },
    "executionInfo": {
     "elapsed": 6,
     "status": "ok",
     "timestamp": 1667131778104,
     "user": {
      "displayName": "Research Tirta",
      "userId": "06541149215222579869"
     },
     "user_tz": -420
    },
    "id": "IHNbYg4aOeCM",
    "outputId": "32c4d3ba-aa3c-43b3-ea52-56d9d31c4360"
   },
   "outputs": [
    {
     "name": "stdout",
     "output_type": "stream",
     "text": [
      "(2275819, 22) (568955, 22)\n"
     ]
    }
   ],
   "source": [
    "# SETELAH DILAKUKAN PCA, JUMLAH KOLOM SUDAH MENJADI 22 KOLOM\n",
    "\n",
    "print(X_train.shape, X_test.shape)"
   ]
  },
  {
   "cell_type": "code",
   "execution_count": null,
   "metadata": {
    "colab": {
     "base_uri": "https://localhost:8080/"
    },
    "executionInfo": {
     "elapsed": 440662,
     "status": "ok",
     "timestamp": 1667132218761,
     "user": {
      "displayName": "Research Tirta",
      "userId": "06541149215222579869"
     },
     "user_tz": -420
    },
    "id": "oWClSXHzpQaE",
    "outputId": "25b155da-0594-4469-caac-8f8f417a2a9f"
   },
   "outputs": [
    {
     "name": "stderr",
     "output_type": "stream",
     "text": [
      "/usr/local/lib/python3.7/dist-packages/ipykernel_launcher.py:2: DataConversionWarning: A column-vector y was passed when a 1d array was expected. Please change the shape of y to (n_samples,), for example using ravel().\n",
      "  \n"
     ]
    },
    {
     "name": "stdout",
     "output_type": "stream",
     "text": [
      "CPU times: user 27min 27s, sys: 1.78 s, total: 27min 28s\n",
      "Wall time: 7min 20s\n"
     ]
    },
    {
     "data": {
      "text/plain": [
       "RandomForestClassifier(n_jobs=-1, random_state=0)"
      ]
     },
     "execution_count": 104,
     "metadata": {},
     "output_type": "execute_result"
    }
   ],
   "source": [
    "# RANDOM FOREST\n",
    "%%time\n",
    "ran_forest = RandomForestClassifier(n_jobs=-1, random_state=0)\n",
    "ran_forest.fit(X_train, y_train)"
   ]
  },
  {
   "cell_type": "code",
   "execution_count": null,
   "metadata": {
    "id": "i-jVNUnEqHNZ"
   },
   "outputs": [],
   "source": [
    "y_pred_rf = ran_forest.predict(X_test)"
   ]
  },
  {
   "cell_type": "code",
   "execution_count": null,
   "metadata": {
    "colab": {
     "base_uri": "https://localhost:8080/"
    },
    "executionInfo": {
     "elapsed": 769,
     "status": "ok",
     "timestamp": 1667132221218,
     "user": {
      "displayName": "Research Tirta",
      "userId": "06541149215222579869"
     },
     "user_tz": -420
    },
    "id": "jc_0cImpqa8j",
    "outputId": "62f4dcee-c756-4f54-c193-b5e92dcfde97"
   },
   "outputs": [
    {
     "name": "stdout",
     "output_type": "stream",
     "text": [
      "Accuracy: 0.9973864365371602\n",
      "Precision 0.9981455986063893\n",
      "Recall 0.9966369639394163\n",
      "f1_score 0.9973907107900338\n"
     ]
    }
   ],
   "source": [
    "print(\"Accuracy:\",metrics.accuracy_score(y_test, y_pred_rf))\n",
    "print(\"Precision\",metrics.precision_score(y_test,y_pred_rf))\n",
    "print(\"Recall\",metrics.recall_score(y_test,y_pred_rf))\n",
    "print(\"f1_score\",metrics.f1_score(y_test,y_pred_rf))"
   ]
  },
  {
   "cell_type": "code",
   "execution_count": null,
   "metadata": {
    "colab": {
     "base_uri": "https://localhost:8080/",
     "height": 351
    },
    "executionInfo": {
     "elapsed": 2392,
     "status": "ok",
     "timestamp": 1667132223607,
     "user": {
      "displayName": "Research Tirta",
      "userId": "06541149215222579869"
     },
     "user_tz": -420
    },
    "id": "KykmNyqxFMT3",
    "outputId": "556503b8-6f0c-425e-8339-778cf5c536c3"
   },
   "outputs": [
    {
     "name": "stderr",
     "output_type": "stream",
     "text": [
      "/usr/local/lib/python3.7/dist-packages/sklearn/utils/deprecation.py:87: FutureWarning: Function plot_confusion_matrix is deprecated; Function `plot_confusion_matrix` is deprecated in 1.0 and will be removed in 1.2. Use one of the class methods: ConfusionMatrixDisplay.from_predictions or ConfusionMatrixDisplay.from_estimator.\n",
      "  warnings.warn(msg, category=FutureWarning)\n"
     ]
    },
    {
     "data": {
      "text/plain": [
       "<sklearn.metrics._plot.confusion_matrix.ConfusionMatrixDisplay at 0x7fce25b75550>"
      ]
     },
     "execution_count": 107,
     "metadata": {},
     "output_type": "execute_result"
    },
    {
     "data": {
      "image/png": "[encoded data removed]",
      "text/plain": [
       "<Figure size 432x288 with 2 Axes>"
      ]
     },
     "metadata": {
      "needs_background": "light"
     },
     "output_type": "display_data"
    }
   ],
   "source": [
    "from sklearn import metrics\n",
    "from sklearn.metrics import confusion_matrix\n",
    "\n",
    "metrics.plot_confusion_matrix(ran_forest, X_test, y_test)"
   ]
  },
  {
   "cell_type": "markdown",
   "metadata": {
    "id": "3TeGsOV5Tgk9"
   },
   "source": [
    "## DATA TEST"
   ]
  },
  {
   "cell_type": "markdown",
   "metadata": {
    "id": "NR2CLjmMzIg5"
   },
   "source": [
    "### Membandingkan kembali antara data train dan data test "
   ]
  },
  {
   "cell_type": "markdown",
   "metadata": {
    "id": "XNpceoyCSt0L"
   },
   "source": [
    "##### jumlah kolom dan baris"
   ]
  },
  {
   "cell_type": "code",
   "execution_count": null,
   "metadata": {
    "colab": {
     "base_uri": "https://localhost:8080/"
    },
    "executionInfo": {
     "elapsed": 12,
     "status": "ok",
     "timestamp": 1667132223608,
     "user": {
      "displayName": "Research Tirta",
      "userId": "06541149215222579869"
     },
     "user_tz": -420
    },
    "id": "q72YRG2ayJyx",
    "outputId": "dd776851-6075-4d24-ad90-04f50ff457d6"
   },
   "outputs": [
    {
     "name": "stdout",
     "output_type": "stream",
     "text": [
      "shape dari data train :  (4056898, 24)\n",
      "shape dari data test :  (1014225, 24)\n"
     ]
    }
   ],
   "source": [
    "print('shape dari data train : ', train_df_final.shape)\n",
    "print('shape dari data test : ', test_df_final.shape)"
   ]
  },
  {
   "cell_type": "markdown",
   "metadata": {
    "id": "rQIPlmxzSyXJ"
   },
   "source": [
    "##### preview data "
   ]
  },
  {
   "cell_type": "code",
   "execution_count": null,
   "metadata": {
    "colab": {
     "base_uri": "https://localhost:8080/",
     "height": 206
    },
    "executionInfo": {
     "elapsed": 11,
     "status": "ok",
     "timestamp": 1667132223609,
     "user": {
      "displayName": "Research Tirta",
      "userId": "06541149215222579869"
     },
     "user_tz": -420
    },
    "id": "oxfSUQHcSOKr",
    "outputId": "189a17f4-ce3b-4761-fe2d-78bcf9b3a4bf"
   },
   "outputs": [
    {
     "data": {
      "text/html": [
       "\n",
       "  <div id=\"df-70fe7983-26f1-42dc-96d3-a5b8a4a85429\">\n",
       "    <div class=\"colab-df-container\">\n",
       "      <div>\n",
       "<style scoped>\n",
       "    .dataframe tbody tr th:only-of-type {\n",
       "        vertical-align: middle;\n",
       "    }\n",
       "\n",
       "    .dataframe tbody tr th {\n",
       "        vertical-align: top;\n",
       "    }\n",
       "\n",
       "    .dataframe thead th {\n",
       "        text-align: right;\n",
       "    }\n",
       "</style>\n",
       "<table border=\"1\" class=\"dataframe\">\n",
       "  <thead>\n",
       "    <tr style=\"text-align: right;\">\n",
       "      <th></th>\n",
       "      <th>DURASI</th>\n",
       "      <th>PSTV01</th>\n",
       "      <th>PSTV02</th>\n",
       "      <th>PSTV15</th>\n",
       "      <th>FKP05</th>\n",
       "      <th>FKP06</th>\n",
       "      <th>FKP07</th>\n",
       "      <th>FKP08</th>\n",
       "      <th>FKP09</th>\n",
       "      <th>FKP10</th>\n",
       "      <th>FKP11</th>\n",
       "      <th>FKP12</th>\n",
       "      <th>FKP14</th>\n",
       "      <th>FKP14A</th>\n",
       "      <th>FKP15</th>\n",
       "      <th>FKP15A</th>\n",
       "      <th>FKP16</th>\n",
       "      <th>FKP17</th>\n",
       "      <th>FKP18</th>\n",
       "      <th>FKP19</th>\n",
       "      <th>FKP20</th>\n",
       "      <th>FKP21</th>\n",
       "      <th>FKP22</th>\n",
       "      <th>FKP13Class</th>\n",
       "    </tr>\n",
       "  </thead>\n",
       "  <tbody>\n",
       "    <tr>\n",
       "      <th>0</th>\n",
       "      <td>1</td>\n",
       "      <td>157978748</td>\n",
       "      <td>50765420</td>\n",
       "      <td>20.064983</td>\n",
       "      <td>61</td>\n",
       "      <td>6108</td>\n",
       "      <td>3</td>\n",
       "      <td>1</td>\n",
       "      <td>4</td>\n",
       "      <td>1</td>\n",
       "      <td>12</td>\n",
       "      <td>2</td>\n",
       "      <td>9999</td>\n",
       "      <td>0</td>\n",
       "      <td>0</td>\n",
       "      <td>0</td>\n",
       "      <td>98</td>\n",
       "      <td>9998</td>\n",
       "      <td>98</td>\n",
       "      <td>98</td>\n",
       "      <td>98</td>\n",
       "      <td>98</td>\n",
       "      <td>2</td>\n",
       "      <td>1</td>\n",
       "    </tr>\n",
       "    <tr>\n",
       "      <th>1</th>\n",
       "      <td>1</td>\n",
       "      <td>95085112</td>\n",
       "      <td>26931775</td>\n",
       "      <td>2.626307</td>\n",
       "      <td>51</td>\n",
       "      <td>5171</td>\n",
       "      <td>9</td>\n",
       "      <td>3</td>\n",
       "      <td>2</td>\n",
       "      <td>1</td>\n",
       "      <td>1</td>\n",
       "      <td>4</td>\n",
       "      <td>773</td>\n",
       "      <td>781</td>\n",
       "      <td>3609</td>\n",
       "      <td>3387</td>\n",
       "      <td>98</td>\n",
       "      <td>9998</td>\n",
       "      <td>98</td>\n",
       "      <td>98</td>\n",
       "      <td>98</td>\n",
       "      <td>98</td>\n",
       "      <td>1</td>\n",
       "      <td>0</td>\n",
       "    </tr>\n",
       "    <tr>\n",
       "      <th>2</th>\n",
       "      <td>1</td>\n",
       "      <td>224470578</td>\n",
       "      <td>227368233</td>\n",
       "      <td>1.051830</td>\n",
       "      <td>35</td>\n",
       "      <td>3516</td>\n",
       "      <td>9</td>\n",
       "      <td>2</td>\n",
       "      <td>1</td>\n",
       "      <td>1</td>\n",
       "      <td>3</td>\n",
       "      <td>4</td>\n",
       "      <td>1757</td>\n",
       "      <td>1775</td>\n",
       "      <td>9301</td>\n",
       "      <td>1878</td>\n",
       "      <td>98</td>\n",
       "      <td>9998</td>\n",
       "      <td>98</td>\n",
       "      <td>98</td>\n",
       "      <td>98</td>\n",
       "      <td>98</td>\n",
       "      <td>1</td>\n",
       "      <td>0</td>\n",
       "    </tr>\n",
       "    <tr>\n",
       "      <th>3</th>\n",
       "      <td>1</td>\n",
       "      <td>63871289</td>\n",
       "      <td>62313678</td>\n",
       "      <td>364.741455</td>\n",
       "      <td>34</td>\n",
       "      <td>3402</td>\n",
       "      <td>3</td>\n",
       "      <td>1</td>\n",
       "      <td>4</td>\n",
       "      <td>1</td>\n",
       "      <td>1</td>\n",
       "      <td>5</td>\n",
       "      <td>621</td>\n",
       "      <td>626</td>\n",
       "      <td>2852</td>\n",
       "      <td>2717</td>\n",
       "      <td>98</td>\n",
       "      <td>9998</td>\n",
       "      <td>98</td>\n",
       "      <td>98</td>\n",
       "      <td>98</td>\n",
       "      <td>98</td>\n",
       "      <td>1</td>\n",
       "      <td>0</td>\n",
       "    </tr>\n",
       "    <tr>\n",
       "      <th>4</th>\n",
       "      <td>1</td>\n",
       "      <td>29915626</td>\n",
       "      <td>113446188</td>\n",
       "      <td>1.050523</td>\n",
       "      <td>35</td>\n",
       "      <td>3509</td>\n",
       "      <td>3</td>\n",
       "      <td>1</td>\n",
       "      <td>4</td>\n",
       "      <td>1</td>\n",
       "      <td>1</td>\n",
       "      <td>1</td>\n",
       "      <td>622</td>\n",
       "      <td>627</td>\n",
       "      <td>2854</td>\n",
       "      <td>3738</td>\n",
       "      <td>98</td>\n",
       "      <td>9998</td>\n",
       "      <td>98</td>\n",
       "      <td>98</td>\n",
       "      <td>98</td>\n",
       "      <td>98</td>\n",
       "      <td>1</td>\n",
       "      <td>0</td>\n",
       "    </tr>\n",
       "  </tbody>\n",
       "</table>\n",
       "</div>\n",
       "      <button class=\"colab-df-convert\" onclick=\"convertToInteractive('df-70fe7983-26f1-42dc-96d3-a5b8a4a85429')\"\n",
       "              title=\"Convert this dataframe to an interactive table.\"\n",
       "              style=\"display:none;\">\n",
       "        \n",
       "  <svg xmlns=\"http://www.w3.org/2000/svg\" height=\"24px\"viewBox=\"0 0 24 24\"\n",
       "       width=\"24px\">\n",
       "    <path d=\"M0 0h24v24H0V0z\" fill=\"none\"/>\n",
       "    <path d=\"M18.56 5.44l.94 2.06.94-2.06 2.06-.94-2.06-.94-.94-2.06-.94 2.06-2.06.94zm-11 1L8.5 8.5l.94-2.06 2.06-.94-2.06-.94L8.5 2.5l-.94 2.06-2.06.94zm10 10l.94 2.06.94-2.06 2.06-.94-2.06-.94-.94-2.06-.94 2.06-2.06.94z\"/><path d=\"M17.41 7.96l-1.37-1.37c-.4-.4-.92-.59-1.43-.59-.52 0-1.04.2-1.43.59L10.3 9.45l-7.72 7.72c-.78.78-.78 2.05 0 2.83L4 21.41c.39.39.9.59 1.41.59.51 0 1.02-.2 1.41-.59l7.78-7.78 2.81-2.81c.8-.78.8-2.07 0-2.86zM5.41 20L4 18.59l7.72-7.72 1.47 1.35L5.41 20z\"/>\n",
       "  </svg>\n",
       "      </button>\n",
       "      \n",
       "  <style>\n",
       "    .colab-df-container {\n",
       "      display:flex;\n",
       "      flex-wrap:wrap;\n",
       "      gap: 12px;\n",
       "    }\n",
       "\n",
       "    .colab-df-convert {\n",
       "      background-color: #E8F0FE;\n",
       "      border: none;\n",
       "      border-radius: 50%;\n",
       "      cursor: pointer;\n",
       "      display: none;\n",
       "      fill: #1967D2;\n",
       "      height: 32px;\n",
       "      padding: 0 0 0 0;\n",
       "      width: 32px;\n",
       "    }\n",
       "\n",
       "    .colab-df-convert:hover {\n",
       "      background-color: #E2EBFA;\n",
       "      box-shadow: 0px 1px 2px rgba(60, 64, 67, 0.3), 0px 1px 3px 1px rgba(60, 64, 67, 0.15);\n",
       "      fill: #174EA6;\n",
       "    }\n",
       "\n",
       "    [theme=dark] .colab-df-convert {\n",
       "      background-color: #3B4455;\n",
       "      fill: #D2E3FC;\n",
       "    }\n",
       "\n",
       "    [theme=dark] .colab-df-convert:hover {\n",
       "      background-color: #434B5C;\n",
       "      box-shadow: 0px 1px 3px 1px rgba(0, 0, 0, 0.15);\n",
       "      filter: drop-shadow(0px 1px 2px rgba(0, 0, 0, 0.3));\n",
       "      fill: #FFFFFF;\n",
       "    }\n",
       "  </style>\n",
       "\n",
       "      <script>\n",
       "        const buttonEl =\n",
       "          document.querySelector('#df-70fe7983-26f1-42dc-96d3-a5b8a4a85429 button.colab-df-convert');\n",
       "        buttonEl.style.display =\n",
       "          google.colab.kernel.accessAllowed ? 'block' : 'none';\n",
       "\n",
       "        async function convertToInteractive(key) {\n",
       "          const element = document.querySelector('#df-70fe7983-26f1-42dc-96d3-a5b8a4a85429');\n",
       "          const dataTable =\n",
       "            await google.colab.kernel.invokeFunction('convertToInteractive',\n",
       "                                                     [key], {});\n",
       "          if (!dataTable) return;\n",
       "\n",
       "          const docLinkHtml = 'Like what you see? Visit the ' +\n",
       "            '<a target=\"_blank\" href=https://colab.research.google.com/notebooks/data_table.ipynb>data table notebook</a>'\n",
       "            + ' to learn more about interactive tables.';\n",
       "          element.innerHTML = '';\n",
       "          dataTable['output_type'] = 'display_data';\n",
       "          await google.colab.output.renderOutput(dataTable, element);\n",
       "          const docLink = document.createElement('div');\n",
       "          docLink.innerHTML = docLinkHtml;\n",
       "          element.appendChild(docLink);\n",
       "        }\n",
       "      </script>\n",
       "    </div>\n",
       "  </div>\n",
       "  "
      ],
      "text/plain": [
       "   DURASI     PSTV01     PSTV02      PSTV15  FKP05  FKP06  FKP07  FKP08  \\\n",
       "0       1  157978748   50765420   20.064983     61   6108      3      1   \n",
       "1       1   95085112   26931775    2.626307     51   5171      9      3   \n",
       "2       1  224470578  227368233    1.051830     35   3516      9      2   \n",
       "3       1   63871289   62313678  364.741455     34   3402      3      1   \n",
       "4       1   29915626  113446188    1.050523     35   3509      3      1   \n",
       "\n",
       "   FKP09  FKP10  FKP11  FKP12  FKP14  FKP14A  FKP15  FKP15A  FKP16  FKP17  \\\n",
       "0      4      1     12      2   9999       0      0       0     98   9998   \n",
       "1      2      1      1      4    773     781   3609    3387     98   9998   \n",
       "2      1      1      3      4   1757    1775   9301    1878     98   9998   \n",
       "3      4      1      1      5    621     626   2852    2717     98   9998   \n",
       "4      4      1      1      1    622     627   2854    3738     98   9998   \n",
       "\n",
       "   FKP18  FKP19  FKP20  FKP21  FKP22  FKP13Class  \n",
       "0     98     98     98     98      2           1  \n",
       "1     98     98     98     98      1           0  \n",
       "2     98     98     98     98      1           0  \n",
       "3     98     98     98     98      1           0  \n",
       "4     98     98     98     98      1           0  "
      ]
     },
     "execution_count": 109,
     "metadata": {},
     "output_type": "execute_result"
    }
   ],
   "source": [
    "# tidak ada missing value\n",
    "\n",
    "train_df_final.head(5)"
   ]
  },
  {
   "cell_type": "code",
   "execution_count": null,
   "metadata": {
    "colab": {
     "base_uri": "https://localhost:8080/",
     "height": 206
    },
    "executionInfo": {
     "elapsed": 10,
     "status": "ok",
     "timestamp": 1667132223609,
     "user": {
      "displayName": "Research Tirta",
      "userId": "06541149215222579869"
     },
     "user_tz": -420
    },
    "id": "GixlhPWMSJPO",
    "outputId": "80c0cce8-63e7-42b6-e79d-a354a2365277"
   },
   "outputs": [
    {
     "data": {
      "text/html": [
       "\n",
       "  <div id=\"df-ba1f92ee-041f-4bc4-8d6b-5b0b8fdc28b6\">\n",
       "    <div class=\"colab-df-container\">\n",
       "      <div>\n",
       "<style scoped>\n",
       "    .dataframe tbody tr th:only-of-type {\n",
       "        vertical-align: middle;\n",
       "    }\n",
       "\n",
       "    .dataframe tbody tr th {\n",
       "        vertical-align: top;\n",
       "    }\n",
       "\n",
       "    .dataframe thead th {\n",
       "        text-align: right;\n",
       "    }\n",
       "</style>\n",
       "<table border=\"1\" class=\"dataframe\">\n",
       "  <thead>\n",
       "    <tr style=\"text-align: right;\">\n",
       "      <th></th>\n",
       "      <th>DURASI</th>\n",
       "      <th>PSTV01</th>\n",
       "      <th>PSTV02</th>\n",
       "      <th>PSTV15</th>\n",
       "      <th>FKP05</th>\n",
       "      <th>FKP06</th>\n",
       "      <th>FKP07</th>\n",
       "      <th>FKP08</th>\n",
       "      <th>FKP09</th>\n",
       "      <th>FKP10</th>\n",
       "      <th>FKP11</th>\n",
       "      <th>FKP12</th>\n",
       "      <th>FKP14</th>\n",
       "      <th>FKP14A</th>\n",
       "      <th>FKP15</th>\n",
       "      <th>FKP15A</th>\n",
       "      <th>FKP16</th>\n",
       "      <th>FKP17</th>\n",
       "      <th>FKP18</th>\n",
       "      <th>FKP19</th>\n",
       "      <th>FKP20</th>\n",
       "      <th>FKP21</th>\n",
       "      <th>FKP22</th>\n",
       "      <th>FKP13Class</th>\n",
       "    </tr>\n",
       "  </thead>\n",
       "  <tbody>\n",
       "    <tr>\n",
       "      <th>0</th>\n",
       "      <td>1</td>\n",
       "      <td>187883292</td>\n",
       "      <td>98048784</td>\n",
       "      <td>240.884842</td>\n",
       "      <td>31</td>\n",
       "      <td>3172</td>\n",
       "      <td>9</td>\n",
       "      <td>2</td>\n",
       "      <td>1</td>\n",
       "      <td>1</td>\n",
       "      <td>13</td>\n",
       "      <td>5</td>\n",
       "      <td>9999</td>\n",
       "      <td>0</td>\n",
       "      <td>0</td>\n",
       "      <td>0</td>\n",
       "      <td>98</td>\n",
       "      <td>9998</td>\n",
       "      <td>98</td>\n",
       "      <td>98</td>\n",
       "      <td>98</td>\n",
       "      <td>98</td>\n",
       "      <td>2</td>\n",
       "      <td>NaN</td>\n",
       "    </tr>\n",
       "    <tr>\n",
       "      <th>1</th>\n",
       "      <td>1</td>\n",
       "      <td>123307139</td>\n",
       "      <td>20969999</td>\n",
       "      <td>47.378571</td>\n",
       "      <td>17</td>\n",
       "      <td>1705</td>\n",
       "      <td>3</td>\n",
       "      <td>1</td>\n",
       "      <td>3</td>\n",
       "      <td>1</td>\n",
       "      <td>12</td>\n",
       "      <td>2</td>\n",
       "      <td>9999</td>\n",
       "      <td>0</td>\n",
       "      <td>0</td>\n",
       "      <td>0</td>\n",
       "      <td>98</td>\n",
       "      <td>9998</td>\n",
       "      <td>98</td>\n",
       "      <td>98</td>\n",
       "      <td>98</td>\n",
       "      <td>98</td>\n",
       "      <td>2</td>\n",
       "      <td>NaN</td>\n",
       "    </tr>\n",
       "    <tr>\n",
       "      <th>2</th>\n",
       "      <td>1</td>\n",
       "      <td>21416273</td>\n",
       "      <td>21416273</td>\n",
       "      <td>5.882927</td>\n",
       "      <td>64</td>\n",
       "      <td>6402</td>\n",
       "      <td>3</td>\n",
       "      <td>1</td>\n",
       "      <td>4</td>\n",
       "      <td>1</td>\n",
       "      <td>13</td>\n",
       "      <td>2</td>\n",
       "      <td>9999</td>\n",
       "      <td>0</td>\n",
       "      <td>0</td>\n",
       "      <td>0</td>\n",
       "      <td>98</td>\n",
       "      <td>9998</td>\n",
       "      <td>98</td>\n",
       "      <td>98</td>\n",
       "      <td>98</td>\n",
       "      <td>98</td>\n",
       "      <td>2</td>\n",
       "      <td>NaN</td>\n",
       "    </tr>\n",
       "    <tr>\n",
       "      <th>3</th>\n",
       "      <td>1</td>\n",
       "      <td>97630052</td>\n",
       "      <td>97630052</td>\n",
       "      <td>172.916031</td>\n",
       "      <td>18</td>\n",
       "      <td>1872</td>\n",
       "      <td>9</td>\n",
       "      <td>2</td>\n",
       "      <td>5</td>\n",
       "      <td>1</td>\n",
       "      <td>13</td>\n",
       "      <td>5</td>\n",
       "      <td>9999</td>\n",
       "      <td>0</td>\n",
       "      <td>0</td>\n",
       "      <td>0</td>\n",
       "      <td>98</td>\n",
       "      <td>9998</td>\n",
       "      <td>98</td>\n",
       "      <td>98</td>\n",
       "      <td>98</td>\n",
       "      <td>98</td>\n",
       "      <td>2</td>\n",
       "      <td>NaN</td>\n",
       "    </tr>\n",
       "    <tr>\n",
       "      <th>4</th>\n",
       "      <td>1</td>\n",
       "      <td>124531163</td>\n",
       "      <td>124531163</td>\n",
       "      <td>187.203140</td>\n",
       "      <td>18</td>\n",
       "      <td>1809</td>\n",
       "      <td>9</td>\n",
       "      <td>2</td>\n",
       "      <td>5</td>\n",
       "      <td>1</td>\n",
       "      <td>13</td>\n",
       "      <td>2</td>\n",
       "      <td>9999</td>\n",
       "      <td>0</td>\n",
       "      <td>0</td>\n",
       "      <td>0</td>\n",
       "      <td>98</td>\n",
       "      <td>9998</td>\n",
       "      <td>98</td>\n",
       "      <td>98</td>\n",
       "      <td>98</td>\n",
       "      <td>98</td>\n",
       "      <td>2</td>\n",
       "      <td>NaN</td>\n",
       "    </tr>\n",
       "  </tbody>\n",
       "</table>\n",
       "</div>\n",
       "      <button class=\"colab-df-convert\" onclick=\"convertToInteractive('df-ba1f92ee-041f-4bc4-8d6b-5b0b8fdc28b6')\"\n",
       "              title=\"Convert this dataframe to an interactive table.\"\n",
       "              style=\"display:none;\">\n",
       "        \n",
       "  <svg xmlns=\"http://www.w3.org/2000/svg\" height=\"24px\"viewBox=\"0 0 24 24\"\n",
       "       width=\"24px\">\n",
       "    <path d=\"M0 0h24v24H0V0z\" fill=\"none\"/>\n",
       "    <path d=\"M18.56 5.44l.94 2.06.94-2.06 2.06-.94-2.06-.94-.94-2.06-.94 2.06-2.06.94zm-11 1L8.5 8.5l.94-2.06 2.06-.94-2.06-.94L8.5 2.5l-.94 2.06-2.06.94zm10 10l.94 2.06.94-2.06 2.06-.94-2.06-.94-.94-2.06-.94 2.06-2.06.94z\"/><path d=\"M17.41 7.96l-1.37-1.37c-.4-.4-.92-.59-1.43-.59-.52 0-1.04.2-1.43.59L10.3 9.45l-7.72 7.72c-.78.78-.78 2.05 0 2.83L4 21.41c.39.39.9.59 1.41.59.51 0 1.02-.2 1.41-.59l7.78-7.78 2.81-2.81c.8-.78.8-2.07 0-2.86zM5.41 20L4 18.59l7.72-7.72 1.47 1.35L5.41 20z\"/>\n",
       "  </svg>\n",
       "      </button>\n",
       "      \n",
       "  <style>\n",
       "    .colab-df-container {\n",
       "      display:flex;\n",
       "      flex-wrap:wrap;\n",
       "      gap: 12px;\n",
       "    }\n",
       "\n",
       "    .colab-df-convert {\n",
       "      background-color: #E8F0FE;\n",
       "      border: none;\n",
       "      border-radius: 50%;\n",
       "      cursor: pointer;\n",
       "      display: none;\n",
       "      fill: #1967D2;\n",
       "      height: 32px;\n",
       "      padding: 0 0 0 0;\n",
       "      width: 32px;\n",
       "    }\n",
       "\n",
       "    .colab-df-convert:hover {\n",
       "      background-color: #E2EBFA;\n",
       "      box-shadow: 0px 1px 2px rgba(60, 64, 67, 0.3), 0px 1px 3px 1px rgba(60, 64, 67, 0.15);\n",
       "      fill: #174EA6;\n",
       "    }\n",
       "\n",
       "    [theme=dark] .colab-df-convert {\n",
       "      background-color: #3B4455;\n",
       "      fill: #D2E3FC;\n",
       "    }\n",
       "\n",
       "    [theme=dark] .colab-df-convert:hover {\n",
       "      background-color: #434B5C;\n",
       "      box-shadow: 0px 1px 3px 1px rgba(0, 0, 0, 0.15);\n",
       "      filter: drop-shadow(0px 1px 2px rgba(0, 0, 0, 0.3));\n",
       "      fill: #FFFFFF;\n",
       "    }\n",
       "  </style>\n",
       "\n",
       "      <script>\n",
       "        const buttonEl =\n",
       "          document.querySelector('#df-ba1f92ee-041f-4bc4-8d6b-5b0b8fdc28b6 button.colab-df-convert');\n",
       "        buttonEl.style.display =\n",
       "          google.colab.kernel.accessAllowed ? 'block' : 'none';\n",
       "\n",
       "        async function convertToInteractive(key) {\n",
       "          const element = document.querySelector('#df-ba1f92ee-041f-4bc4-8d6b-5b0b8fdc28b6');\n",
       "          const dataTable =\n",
       "            await google.colab.kernel.invokeFunction('convertToInteractive',\n",
       "                                                     [key], {});\n",
       "          if (!dataTable) return;\n",
       "\n",
       "          const docLinkHtml = 'Like what you see? Visit the ' +\n",
       "            '<a target=\"_blank\" href=https://colab.research.google.com/notebooks/data_table.ipynb>data table notebook</a>'\n",
       "            + ' to learn more about interactive tables.';\n",
       "          element.innerHTML = '';\n",
       "          dataTable['output_type'] = 'display_data';\n",
       "          await google.colab.output.renderOutput(dataTable, element);\n",
       "          const docLink = document.createElement('div');\n",
       "          docLink.innerHTML = docLinkHtml;\n",
       "          element.appendChild(docLink);\n",
       "        }\n",
       "      </script>\n",
       "    </div>\n",
       "  </div>\n",
       "  "
      ],
      "text/plain": [
       "   DURASI     PSTV01     PSTV02      PSTV15  FKP05  FKP06  FKP07  FKP08  \\\n",
       "0       1  187883292   98048784  240.884842     31   3172      9      2   \n",
       "1       1  123307139   20969999   47.378571     17   1705      3      1   \n",
       "2       1   21416273   21416273    5.882927     64   6402      3      1   \n",
       "3       1   97630052   97630052  172.916031     18   1872      9      2   \n",
       "4       1  124531163  124531163  187.203140     18   1809      9      2   \n",
       "\n",
       "   FKP09  FKP10  FKP11  FKP12  FKP14  FKP14A  FKP15  FKP15A  FKP16  FKP17  \\\n",
       "0      1      1     13      5   9999       0      0       0     98   9998   \n",
       "1      3      1     12      2   9999       0      0       0     98   9998   \n",
       "2      4      1     13      2   9999       0      0       0     98   9998   \n",
       "3      5      1     13      5   9999       0      0       0     98   9998   \n",
       "4      5      1     13      2   9999       0      0       0     98   9998   \n",
       "\n",
       "   FKP18  FKP19  FKP20  FKP21  FKP22  FKP13Class  \n",
       "0     98     98     98     98      2         NaN  \n",
       "1     98     98     98     98      2         NaN  \n",
       "2     98     98     98     98      2         NaN  \n",
       "3     98     98     98     98      2         NaN  \n",
       "4     98     98     98     98      2         NaN  "
      ]
     },
     "execution_count": 110,
     "metadata": {},
     "output_type": "execute_result"
    }
   ],
   "source": [
    "test_df_final.head(5)"
   ]
  },
  {
   "cell_type": "markdown",
   "metadata": {
    "id": "XL-Pkri5S1s_"
   },
   "source": [
    "##### memastikan tidak ada outliers, dengan mengecek nilai min & percentil 1 dan nilai max dan percentil 99"
   ]
  },
  {
   "cell_type": "code",
   "execution_count": null,
   "metadata": {
    "colab": {
     "base_uri": "https://localhost:8080/",
     "height": 364
    },
    "executionInfo": {
     "elapsed": 2838,
     "status": "ok",
     "timestamp": 1667132227004,
     "user": {
      "displayName": "Research Tirta",
      "userId": "06541149215222579869"
     },
     "user_tz": -420
    },
    "id": "xO60mTSPSRdH",
    "outputId": "0b2fe493-c362-4846-cc4c-05f90c91d3e1"
   },
   "outputs": [
    {
     "data": {
      "text/html": [
       "\n",
       "  <div id=\"df-4be406ed-13c0-4210-961b-04833f835965\">\n",
       "    <div class=\"colab-df-container\">\n",
       "      <div>\n",
       "<style scoped>\n",
       "    .dataframe tbody tr th:only-of-type {\n",
       "        vertical-align: middle;\n",
       "    }\n",
       "\n",
       "    .dataframe tbody tr th {\n",
       "        vertical-align: top;\n",
       "    }\n",
       "\n",
       "    .dataframe thead th {\n",
       "        text-align: right;\n",
       "    }\n",
       "</style>\n",
       "<table border=\"1\" class=\"dataframe\">\n",
       "  <thead>\n",
       "    <tr style=\"text-align: right;\">\n",
       "      <th></th>\n",
       "      <th>DURASI</th>\n",
       "      <th>PSTV01</th>\n",
       "      <th>PSTV02</th>\n",
       "      <th>PSTV15</th>\n",
       "      <th>FKP05</th>\n",
       "      <th>FKP06</th>\n",
       "      <th>FKP07</th>\n",
       "      <th>FKP08</th>\n",
       "      <th>FKP09</th>\n",
       "      <th>FKP10</th>\n",
       "      <th>FKP11</th>\n",
       "      <th>FKP12</th>\n",
       "      <th>FKP14</th>\n",
       "      <th>FKP14A</th>\n",
       "      <th>FKP15</th>\n",
       "      <th>FKP15A</th>\n",
       "      <th>FKP16</th>\n",
       "      <th>FKP17</th>\n",
       "      <th>FKP18</th>\n",
       "      <th>FKP19</th>\n",
       "      <th>FKP20</th>\n",
       "      <th>FKP21</th>\n",
       "      <th>FKP22</th>\n",
       "      <th>FKP13Class</th>\n",
       "    </tr>\n",
       "  </thead>\n",
       "  <tbody>\n",
       "    <tr>\n",
       "      <th>count</th>\n",
       "      <td>4056898.0</td>\n",
       "      <td>4.056898e+06</td>\n",
       "      <td>4.056898e+06</td>\n",
       "      <td>4.056898e+06</td>\n",
       "      <td>4.056898e+06</td>\n",
       "      <td>4.056898e+06</td>\n",
       "      <td>4.056898e+06</td>\n",
       "      <td>4.056898e+06</td>\n",
       "      <td>4.056898e+06</td>\n",
       "      <td>4.056898e+06</td>\n",
       "      <td>4.056898e+06</td>\n",
       "      <td>4.056898e+06</td>\n",
       "      <td>4.056898e+06</td>\n",
       "      <td>4.056898e+06</td>\n",
       "      <td>4.056898e+06</td>\n",
       "      <td>4.056898e+06</td>\n",
       "      <td>4.056898e+06</td>\n",
       "      <td>4.056898e+06</td>\n",
       "      <td>4.056898e+06</td>\n",
       "      <td>4.056898e+06</td>\n",
       "      <td>4.056898e+06</td>\n",
       "      <td>4.056898e+06</td>\n",
       "      <td>4.056898e+06</td>\n",
       "      <td>4.056898e+06</td>\n",
       "    </tr>\n",
       "    <tr>\n",
       "      <th>mean</th>\n",
       "      <td>1.0</td>\n",
       "      <td>9.139622e+07</td>\n",
       "      <td>9.473470e+07</td>\n",
       "      <td>1.004495e+02</td>\n",
       "      <td>3.601993e+01</td>\n",
       "      <td>3.629545e+03</td>\n",
       "      <td>5.662804e+00</td>\n",
       "      <td>1.668892e+00</td>\n",
       "      <td>2.694622e+00</td>\n",
       "      <td>1.064594e+00</td>\n",
       "      <td>5.157594e+00</td>\n",
       "      <td>3.489451e+00</td>\n",
       "      <td>3.936404e+03</td>\n",
       "      <td>5.371167e+02</td>\n",
       "      <td>2.690931e+03</td>\n",
       "      <td>2.383764e+03</td>\n",
       "      <td>9.225260e+01</td>\n",
       "      <td>9.407877e+03</td>\n",
       "      <td>8.944729e+01</td>\n",
       "      <td>8.893204e+01</td>\n",
       "      <td>9.178286e+01</td>\n",
       "      <td>9.809351e+01</td>\n",
       "      <td>1.340221e+00</td>\n",
       "      <td>3.506095e-01</td>\n",
       "    </tr>\n",
       "    <tr>\n",
       "      <th>std</th>\n",
       "      <td>0.0</td>\n",
       "      <td>8.937931e+07</td>\n",
       "      <td>8.791377e+07</td>\n",
       "      <td>1.356704e+02</td>\n",
       "      <td>1.851048e+01</td>\n",
       "      <td>1.849375e+03</td>\n",
       "      <td>2.925104e+00</td>\n",
       "      <td>7.978220e-01</td>\n",
       "      <td>1.257199e+00</td>\n",
       "      <td>3.403495e-01</td>\n",
       "      <td>5.459467e+00</td>\n",
       "      <td>1.384493e+00</td>\n",
       "      <td>4.365481e+03</td>\n",
       "      <td>5.031130e+02</td>\n",
       "      <td>2.693428e+03</td>\n",
       "      <td>2.820682e+03</td>\n",
       "      <td>1.870446e+01</td>\n",
       "      <td>1.916485e+03</td>\n",
       "      <td>2.664296e+01</td>\n",
       "      <td>2.823298e+01</td>\n",
       "      <td>1.939427e+01</td>\n",
       "      <td>2.911491e-01</td>\n",
       "      <td>4.737833e-01</td>\n",
       "      <td>4.771609e-01</td>\n",
       "    </tr>\n",
       "    <tr>\n",
       "      <th>min</th>\n",
       "      <td>1.0</td>\n",
       "      <td>1.347153e+06</td>\n",
       "      <td>1.420097e+06</td>\n",
       "      <td>1.050523e+00</td>\n",
       "      <td>1.100000e+01</td>\n",
       "      <td>1.110000e+03</td>\n",
       "      <td>3.000000e+00</td>\n",
       "      <td>1.000000e+00</td>\n",
       "      <td>1.000000e+00</td>\n",
       "      <td>1.000000e+00</td>\n",
       "      <td>1.000000e+00</td>\n",
       "      <td>1.000000e+00</td>\n",
       "      <td>1.000000e+01</td>\n",
       "      <td>0.000000e+00</td>\n",
       "      <td>0.000000e+00</td>\n",
       "      <td>0.000000e+00</td>\n",
       "      <td>1.400000e+01</td>\n",
       "      <td>1.410000e+03</td>\n",
       "      <td>3.000000e+00</td>\n",
       "      <td>1.000000e+00</td>\n",
       "      <td>2.700000e+01</td>\n",
       "      <td>9.800000e+01</td>\n",
       "      <td>1.000000e+00</td>\n",
       "      <td>0.000000e+00</td>\n",
       "    </tr>\n",
       "    <tr>\n",
       "      <th>1%</th>\n",
       "      <td>1.0</td>\n",
       "      <td>1.347153e+06</td>\n",
       "      <td>1.420097e+06</td>\n",
       "      <td>1.050523e+00</td>\n",
       "      <td>1.100000e+01</td>\n",
       "      <td>1.110000e+03</td>\n",
       "      <td>3.000000e+00</td>\n",
       "      <td>1.000000e+00</td>\n",
       "      <td>1.000000e+00</td>\n",
       "      <td>1.000000e+00</td>\n",
       "      <td>1.000000e+00</td>\n",
       "      <td>1.000000e+00</td>\n",
       "      <td>1.000000e+01</td>\n",
       "      <td>0.000000e+00</td>\n",
       "      <td>0.000000e+00</td>\n",
       "      <td>0.000000e+00</td>\n",
       "      <td>1.400000e+01</td>\n",
       "      <td>1.410000e+03</td>\n",
       "      <td>3.000000e+00</td>\n",
       "      <td>1.000000e+00</td>\n",
       "      <td>2.700000e+01</td>\n",
       "      <td>9.800000e+01</td>\n",
       "      <td>1.000000e+00</td>\n",
       "      <td>0.000000e+00</td>\n",
       "    </tr>\n",
       "    <tr>\n",
       "      <th>50%</th>\n",
       "      <td>1.0</td>\n",
       "      <td>6.760764e+07</td>\n",
       "      <td>7.181594e+07</td>\n",
       "      <td>5.147561e+01</td>\n",
       "      <td>3.300000e+01</td>\n",
       "      <td>3.318000e+03</td>\n",
       "      <td>3.000000e+00</td>\n",
       "      <td>1.000000e+00</td>\n",
       "      <td>3.000000e+00</td>\n",
       "      <td>1.000000e+00</td>\n",
       "      <td>1.000000e+00</td>\n",
       "      <td>4.000000e+00</td>\n",
       "      <td>9.510000e+02</td>\n",
       "      <td>6.260000e+02</td>\n",
       "      <td>2.852000e+03</td>\n",
       "      <td>1.083000e+03</td>\n",
       "      <td>9.800000e+01</td>\n",
       "      <td>9.998000e+03</td>\n",
       "      <td>9.800000e+01</td>\n",
       "      <td>9.800000e+01</td>\n",
       "      <td>9.800000e+01</td>\n",
       "      <td>9.800000e+01</td>\n",
       "      <td>1.000000e+00</td>\n",
       "      <td>0.000000e+00</td>\n",
       "    </tr>\n",
       "    <tr>\n",
       "      <th>99%</th>\n",
       "      <td>1.0</td>\n",
       "      <td>4.262588e+08</td>\n",
       "      <td>4.242898e+08</td>\n",
       "      <td>7.827444e+02</td>\n",
       "      <td>8.200000e+01</td>\n",
       "      <td>8.201000e+03</td>\n",
       "      <td>9.000000e+00</td>\n",
       "      <td>4.000000e+00</td>\n",
       "      <td>6.000000e+00</td>\n",
       "      <td>3.000000e+00</td>\n",
       "      <td>1.300000e+01</td>\n",
       "      <td>5.000000e+00</td>\n",
       "      <td>9.999000e+03</td>\n",
       "      <td>1.783000e+03</td>\n",
       "      <td>9.354000e+03</td>\n",
       "      <td>9.488000e+03</td>\n",
       "      <td>9.800000e+01</td>\n",
       "      <td>9.998000e+03</td>\n",
       "      <td>9.800000e+01</td>\n",
       "      <td>9.800000e+01</td>\n",
       "      <td>9.800000e+01</td>\n",
       "      <td>9.900000e+01</td>\n",
       "      <td>2.000000e+00</td>\n",
       "      <td>1.000000e+00</td>\n",
       "    </tr>\n",
       "    <tr>\n",
       "      <th>max</th>\n",
       "      <td>1.0</td>\n",
       "      <td>4.262588e+08</td>\n",
       "      <td>4.242898e+08</td>\n",
       "      <td>7.827444e+02</td>\n",
       "      <td>8.200000e+01</td>\n",
       "      <td>8.201000e+03</td>\n",
       "      <td>9.000000e+00</td>\n",
       "      <td>4.000000e+00</td>\n",
       "      <td>6.000000e+00</td>\n",
       "      <td>3.000000e+00</td>\n",
       "      <td>1.300000e+01</td>\n",
       "      <td>5.000000e+00</td>\n",
       "      <td>9.999000e+03</td>\n",
       "      <td>1.836000e+03</td>\n",
       "      <td>9.664000e+03</td>\n",
       "      <td>9.659000e+03</td>\n",
       "      <td>9.800000e+01</td>\n",
       "      <td>9.998000e+03</td>\n",
       "      <td>9.800000e+01</td>\n",
       "      <td>9.800000e+01</td>\n",
       "      <td>9.800000e+01</td>\n",
       "      <td>9.900000e+01</td>\n",
       "      <td>2.000000e+00</td>\n",
       "      <td>1.000000e+00</td>\n",
       "    </tr>\n",
       "  </tbody>\n",
       "</table>\n",
       "</div>\n",
       "      <button class=\"colab-df-convert\" onclick=\"convertToInteractive('df-4be406ed-13c0-4210-961b-04833f835965')\"\n",
       "              title=\"Convert this dataframe to an interactive table.\"\n",
       "              style=\"display:none;\">\n",
       "        \n",
       "  <svg xmlns=\"http://www.w3.org/2000/svg\" height=\"24px\"viewBox=\"0 0 24 24\"\n",
       "       width=\"24px\">\n",
       "    <path d=\"M0 0h24v24H0V0z\" fill=\"none\"/>\n",
       "    <path d=\"M18.56 5.44l.94 2.06.94-2.06 2.06-.94-2.06-.94-.94-2.06-.94 2.06-2.06.94zm-11 1L8.5 8.5l.94-2.06 2.06-.94-2.06-.94L8.5 2.5l-.94 2.06-2.06.94zm10 10l.94 2.06.94-2.06 2.06-.94-2.06-.94-.94-2.06-.94 2.06-2.06.94z\"/><path d=\"M17.41 7.96l-1.37-1.37c-.4-.4-.92-.59-1.43-.59-.52 0-1.04.2-1.43.59L10.3 9.45l-7.72 7.72c-.78.78-.78 2.05 0 2.83L4 21.41c.39.39.9.59 1.41.59.51 0 1.02-.2 1.41-.59l7.78-7.78 2.81-2.81c.8-.78.8-2.07 0-2.86zM5.41 20L4 18.59l7.72-7.72 1.47 1.35L5.41 20z\"/>\n",
       "  </svg>\n",
       "      </button>\n",
       "      \n",
       "  <style>\n",
       "    .colab-df-container {\n",
       "      display:flex;\n",
       "      flex-wrap:wrap;\n",
       "      gap: 12px;\n",
       "    }\n",
       "\n",
       "    .colab-df-convert {\n",
       "      background-color: #E8F0FE;\n",
       "      border: none;\n",
       "      border-radius: 50%;\n",
       "      cursor: pointer;\n",
       "      display: none;\n",
       "      fill: #1967D2;\n",
       "      height: 32px;\n",
       "      padding: 0 0 0 0;\n",
       "      width: 32px;\n",
       "    }\n",
       "\n",
       "    .colab-df-convert:hover {\n",
       "      background-color: #E2EBFA;\n",
       "      box-shadow: 0px 1px 2px rgba(60, 64, 67, 0.3), 0px 1px 3px 1px rgba(60, 64, 67, 0.15);\n",
       "      fill: #174EA6;\n",
       "    }\n",
       "\n",
       "    [theme=dark] .colab-df-convert {\n",
       "      background-color: #3B4455;\n",
       "      fill: #D2E3FC;\n",
       "    }\n",
       "\n",
       "    [theme=dark] .colab-df-convert:hover {\n",
       "      background-color: #434B5C;\n",
       "      box-shadow: 0px 1px 3px 1px rgba(0, 0, 0, 0.15);\n",
       "      filter: drop-shadow(0px 1px 2px rgba(0, 0, 0, 0.3));\n",
       "      fill: #FFFFFF;\n",
       "    }\n",
       "  </style>\n",
       "\n",
       "      <script>\n",
       "        const buttonEl =\n",
       "          document.querySelector('#df-4be406ed-13c0-4210-961b-04833f835965 button.colab-df-convert');\n",
       "        buttonEl.style.display =\n",
       "          google.colab.kernel.accessAllowed ? 'block' : 'none';\n",
       "\n",
       "        async function convertToInteractive(key) {\n",
       "          const element = document.querySelector('#df-4be406ed-13c0-4210-961b-04833f835965');\n",
       "          const dataTable =\n",
       "            await google.colab.kernel.invokeFunction('convertToInteractive',\n",
       "                                                     [key], {});\n",
       "          if (!dataTable) return;\n",
       "\n",
       "          const docLinkHtml = 'Like what you see? Visit the ' +\n",
       "            '<a target=\"_blank\" href=https://colab.research.google.com/notebooks/data_table.ipynb>data table notebook</a>'\n",
       "            + ' to learn more about interactive tables.';\n",
       "          element.innerHTML = '';\n",
       "          dataTable['output_type'] = 'display_data';\n",
       "          await google.colab.output.renderOutput(dataTable, element);\n",
       "          const docLink = document.createElement('div');\n",
       "          docLink.innerHTML = docLinkHtml;\n",
       "          element.appendChild(docLink);\n",
       "        }\n",
       "      </script>\n",
       "    </div>\n",
       "  </div>\n",
       "  "
      ],
      "text/plain": [
       "          DURASI        PSTV01        PSTV02        PSTV15         FKP05  \\\n",
       "count  4056898.0  4.056898e+06  4.056898e+06  4.056898e+06  4.056898e+06   \n",
       "mean         1.0  9.139622e+07  9.473470e+07  1.004495e+02  3.601993e+01   \n",
       "std          0.0  8.937931e+07  8.791377e+07  1.356704e+02  1.851048e+01   \n",
       "min          1.0  1.347153e+06  1.420097e+06  1.050523e+00  1.100000e+01   \n",
       "1%           1.0  1.347153e+06  1.420097e+06  1.050523e+00  1.100000e+01   \n",
       "50%          1.0  6.760764e+07  7.181594e+07  5.147561e+01  3.300000e+01   \n",
       "99%          1.0  4.262588e+08  4.242898e+08  7.827444e+02  8.200000e+01   \n",
       "max          1.0  4.262588e+08  4.242898e+08  7.827444e+02  8.200000e+01   \n",
       "\n",
       "              FKP06         FKP07         FKP08         FKP09         FKP10  \\\n",
       "count  4.056898e+06  4.056898e+06  4.056898e+06  4.056898e+06  4.056898e+06   \n",
       "mean   3.629545e+03  5.662804e+00  1.668892e+00  2.694622e+00  1.064594e+00   \n",
       "std    1.849375e+03  2.925104e+00  7.978220e-01  1.257199e+00  3.403495e-01   \n",
       "min    1.110000e+03  3.000000e+00  1.000000e+00  1.000000e+00  1.000000e+00   \n",
       "1%     1.110000e+03  3.000000e+00  1.000000e+00  1.000000e+00  1.000000e+00   \n",
       "50%    3.318000e+03  3.000000e+00  1.000000e+00  3.000000e+00  1.000000e+00   \n",
       "99%    8.201000e+03  9.000000e+00  4.000000e+00  6.000000e+00  3.000000e+00   \n",
       "max    8.201000e+03  9.000000e+00  4.000000e+00  6.000000e+00  3.000000e+00   \n",
       "\n",
       "              FKP11         FKP12         FKP14        FKP14A         FKP15  \\\n",
       "count  4.056898e+06  4.056898e+06  4.056898e+06  4.056898e+06  4.056898e+06   \n",
       "mean   5.157594e+00  3.489451e+00  3.936404e+03  5.371167e+02  2.690931e+03   \n",
       "std    5.459467e+00  1.384493e+00  4.365481e+03  5.031130e+02  2.693428e+03   \n",
       "min    1.000000e+00  1.000000e+00  1.000000e+01  0.000000e+00  0.000000e+00   \n",
       "1%     1.000000e+00  1.000000e+00  1.000000e+01  0.000000e+00  0.000000e+00   \n",
       "50%    1.000000e+00  4.000000e+00  9.510000e+02  6.260000e+02  2.852000e+03   \n",
       "99%    1.300000e+01  5.000000e+00  9.999000e+03  1.783000e+03  9.354000e+03   \n",
       "max    1.300000e+01  5.000000e+00  9.999000e+03  1.836000e+03  9.664000e+03   \n",
       "\n",
       "             FKP15A         FKP16         FKP17         FKP18         FKP19  \\\n",
       "count  4.056898e+06  4.056898e+06  4.056898e+06  4.056898e+06  4.056898e+06   \n",
       "mean   2.383764e+03  9.225260e+01  9.407877e+03  8.944729e+01  8.893204e+01   \n",
       "std    2.820682e+03  1.870446e+01  1.916485e+03  2.664296e+01  2.823298e+01   \n",
       "min    0.000000e+00  1.400000e+01  1.410000e+03  3.000000e+00  1.000000e+00   \n",
       "1%     0.000000e+00  1.400000e+01  1.410000e+03  3.000000e+00  1.000000e+00   \n",
       "50%    1.083000e+03  9.800000e+01  9.998000e+03  9.800000e+01  9.800000e+01   \n",
       "99%    9.488000e+03  9.800000e+01  9.998000e+03  9.800000e+01  9.800000e+01   \n",
       "max    9.659000e+03  9.800000e+01  9.998000e+03  9.800000e+01  9.800000e+01   \n",
       "\n",
       "              FKP20         FKP21         FKP22    FKP13Class  \n",
       "count  4.056898e+06  4.056898e+06  4.056898e+06  4.056898e+06  \n",
       "mean   9.178286e+01  9.809351e+01  1.340221e+00  3.506095e-01  \n",
       "std    1.939427e+01  2.911491e-01  4.737833e-01  4.771609e-01  \n",
       "min    2.700000e+01  9.800000e+01  1.000000e+00  0.000000e+00  \n",
       "1%     2.700000e+01  9.800000e+01  1.000000e+00  0.000000e+00  \n",
       "50%    9.800000e+01  9.800000e+01  1.000000e+00  0.000000e+00  \n",
       "99%    9.800000e+01  9.900000e+01  2.000000e+00  1.000000e+00  \n",
       "max    9.800000e+01  9.900000e+01  2.000000e+00  1.000000e+00  "
      ]
     },
     "execution_count": 111,
     "metadata": {},
     "output_type": "execute_result"
    }
   ],
   "source": [
    "train_df_final.describe(percentiles=[0.01,0.99])"
   ]
  },
  {
   "cell_type": "code",
   "execution_count": null,
   "metadata": {
    "colab": {
     "base_uri": "https://localhost:8080/",
     "height": 364
    },
    "executionInfo": {
     "elapsed": 748,
     "status": "ok",
     "timestamp": 1667132227747,
     "user": {
      "displayName": "Research Tirta",
      "userId": "06541149215222579869"
     },
     "user_tz": -420
    },
    "id": "MngAhnRHSga9",
    "outputId": "f377b35d-f857-4186-a734-00a166df40ee"
   },
   "outputs": [
    {
     "data": {
      "text/html": [
       "\n",
       "  <div id=\"df-15d60ace-d3b7-4d2f-b292-5934590463b8\">\n",
       "    <div class=\"colab-df-container\">\n",
       "      <div>\n",
       "<style scoped>\n",
       "    .dataframe tbody tr th:only-of-type {\n",
       "        vertical-align: middle;\n",
       "    }\n",
       "\n",
       "    .dataframe tbody tr th {\n",
       "        vertical-align: top;\n",
       "    }\n",
       "\n",
       "    .dataframe thead th {\n",
       "        text-align: right;\n",
       "    }\n",
       "</style>\n",
       "<table border=\"1\" class=\"dataframe\">\n",
       "  <thead>\n",
       "    <tr style=\"text-align: right;\">\n",
       "      <th></th>\n",
       "      <th>DURASI</th>\n",
       "      <th>PSTV01</th>\n",
       "      <th>PSTV02</th>\n",
       "      <th>PSTV15</th>\n",
       "      <th>FKP05</th>\n",
       "      <th>FKP06</th>\n",
       "      <th>FKP07</th>\n",
       "      <th>FKP08</th>\n",
       "      <th>FKP09</th>\n",
       "      <th>FKP10</th>\n",
       "      <th>FKP11</th>\n",
       "      <th>FKP12</th>\n",
       "      <th>FKP14</th>\n",
       "      <th>FKP14A</th>\n",
       "      <th>FKP15</th>\n",
       "      <th>FKP15A</th>\n",
       "      <th>FKP16</th>\n",
       "      <th>FKP17</th>\n",
       "      <th>FKP18</th>\n",
       "      <th>FKP19</th>\n",
       "      <th>FKP20</th>\n",
       "      <th>FKP21</th>\n",
       "      <th>FKP22</th>\n",
       "      <th>FKP13Class</th>\n",
       "    </tr>\n",
       "  </thead>\n",
       "  <tbody>\n",
       "    <tr>\n",
       "      <th>count</th>\n",
       "      <td>1014225.0</td>\n",
       "      <td>1.014225e+06</td>\n",
       "      <td>1.014225e+06</td>\n",
       "      <td>1.014225e+06</td>\n",
       "      <td>1.014225e+06</td>\n",
       "      <td>1.014225e+06</td>\n",
       "      <td>1.014225e+06</td>\n",
       "      <td>1.014225e+06</td>\n",
       "      <td>1.014225e+06</td>\n",
       "      <td>1.014225e+06</td>\n",
       "      <td>1.014225e+06</td>\n",
       "      <td>1.014225e+06</td>\n",
       "      <td>1.014225e+06</td>\n",
       "      <td>1.014225e+06</td>\n",
       "      <td>1.014225e+06</td>\n",
       "      <td>1.014225e+06</td>\n",
       "      <td>1.014225e+06</td>\n",
       "      <td>1.014225e+06</td>\n",
       "      <td>1.014225e+06</td>\n",
       "      <td>1.014225e+06</td>\n",
       "      <td>1.014225e+06</td>\n",
       "      <td>1.014225e+06</td>\n",
       "      <td>1.014225e+06</td>\n",
       "      <td>0.0</td>\n",
       "    </tr>\n",
       "    <tr>\n",
       "      <th>mean</th>\n",
       "      <td>1.0</td>\n",
       "      <td>9.146205e+07</td>\n",
       "      <td>9.477805e+07</td>\n",
       "      <td>1.005564e+02</td>\n",
       "      <td>3.602933e+01</td>\n",
       "      <td>3.630496e+03</td>\n",
       "      <td>5.661639e+00</td>\n",
       "      <td>1.668731e+00</td>\n",
       "      <td>2.695743e+00</td>\n",
       "      <td>1.065155e+00</td>\n",
       "      <td>5.167508e+00</td>\n",
       "      <td>3.491121e+00</td>\n",
       "      <td>3.944518e+03</td>\n",
       "      <td>5.018573e+02</td>\n",
       "      <td>1.993895e+03</td>\n",
       "      <td>1.661728e+03</td>\n",
       "      <td>9.227592e+01</td>\n",
       "      <td>9.410224e+03</td>\n",
       "      <td>8.946978e+01</td>\n",
       "      <td>8.895451e+01</td>\n",
       "      <td>9.179976e+01</td>\n",
       "      <td>9.809328e+01</td>\n",
       "      <td>1.341060e+00</td>\n",
       "      <td>NaN</td>\n",
       "    </tr>\n",
       "    <tr>\n",
       "      <th>std</th>\n",
       "      <td>0.0</td>\n",
       "      <td>8.939351e+07</td>\n",
       "      <td>8.799897e+07</td>\n",
       "      <td>1.358195e+02</td>\n",
       "      <td>1.852578e+01</td>\n",
       "      <td>1.850881e+03</td>\n",
       "      <td>2.925179e+00</td>\n",
       "      <td>7.981922e-01</td>\n",
       "      <td>1.257376e+00</td>\n",
       "      <td>3.418626e-01</td>\n",
       "      <td>5.462469e+00</td>\n",
       "      <td>1.384277e+00</td>\n",
       "      <td>4.367754e+03</td>\n",
       "      <td>4.656727e+02</td>\n",
       "      <td>1.943168e+03</td>\n",
       "      <td>1.979578e+03</td>\n",
       "      <td>1.866596e+01</td>\n",
       "      <td>1.912637e+03</td>\n",
       "      <td>2.660918e+01</td>\n",
       "      <td>2.820152e+01</td>\n",
       "      <td>1.936785e+01</td>\n",
       "      <td>2.908261e-01</td>\n",
       "      <td>4.740658e-01</td>\n",
       "      <td>NaN</td>\n",
       "    </tr>\n",
       "    <tr>\n",
       "      <th>min</th>\n",
       "      <td>1.0</td>\n",
       "      <td>1.361563e+06</td>\n",
       "      <td>1.454754e+06</td>\n",
       "      <td>1.050523e+00</td>\n",
       "      <td>1.100000e+01</td>\n",
       "      <td>1.110000e+03</td>\n",
       "      <td>3.000000e+00</td>\n",
       "      <td>1.000000e+00</td>\n",
       "      <td>1.000000e+00</td>\n",
       "      <td>1.000000e+00</td>\n",
       "      <td>1.000000e+00</td>\n",
       "      <td>1.000000e+00</td>\n",
       "      <td>1.000000e+01</td>\n",
       "      <td>0.000000e+00</td>\n",
       "      <td>0.000000e+00</td>\n",
       "      <td>0.000000e+00</td>\n",
       "      <td>1.400000e+01</td>\n",
       "      <td>1.409000e+03</td>\n",
       "      <td>3.000000e+00</td>\n",
       "      <td>1.000000e+00</td>\n",
       "      <td>2.700000e+01</td>\n",
       "      <td>9.800000e+01</td>\n",
       "      <td>1.000000e+00</td>\n",
       "      <td>NaN</td>\n",
       "    </tr>\n",
       "    <tr>\n",
       "      <th>1%</th>\n",
       "      <td>1.0</td>\n",
       "      <td>1.361563e+06</td>\n",
       "      <td>1.454754e+06</td>\n",
       "      <td>1.050523e+00</td>\n",
       "      <td>1.100000e+01</td>\n",
       "      <td>1.110000e+03</td>\n",
       "      <td>3.000000e+00</td>\n",
       "      <td>1.000000e+00</td>\n",
       "      <td>1.000000e+00</td>\n",
       "      <td>1.000000e+00</td>\n",
       "      <td>1.000000e+00</td>\n",
       "      <td>1.000000e+00</td>\n",
       "      <td>1.000000e+01</td>\n",
       "      <td>0.000000e+00</td>\n",
       "      <td>0.000000e+00</td>\n",
       "      <td>0.000000e+00</td>\n",
       "      <td>1.400000e+01</td>\n",
       "      <td>1.409000e+03</td>\n",
       "      <td>3.000000e+00</td>\n",
       "      <td>1.000000e+00</td>\n",
       "      <td>2.700000e+01</td>\n",
       "      <td>9.800000e+01</td>\n",
       "      <td>1.000000e+00</td>\n",
       "      <td>NaN</td>\n",
       "    </tr>\n",
       "    <tr>\n",
       "      <th>50%</th>\n",
       "      <td>1.0</td>\n",
       "      <td>6.769082e+07</td>\n",
       "      <td>7.177364e+07</td>\n",
       "      <td>5.158066e+01</td>\n",
       "      <td>3.300000e+01</td>\n",
       "      <td>3.318000e+03</td>\n",
       "      <td>3.000000e+00</td>\n",
       "      <td>1.000000e+00</td>\n",
       "      <td>3.000000e+00</td>\n",
       "      <td>1.000000e+00</td>\n",
       "      <td>1.000000e+00</td>\n",
       "      <td>4.000000e+00</td>\n",
       "      <td>9.510000e+02</td>\n",
       "      <td>5.880000e+02</td>\n",
       "      <td>2.158000e+03</td>\n",
       "      <td>7.520000e+02</td>\n",
       "      <td>9.800000e+01</td>\n",
       "      <td>9.998000e+03</td>\n",
       "      <td>9.800000e+01</td>\n",
       "      <td>9.800000e+01</td>\n",
       "      <td>9.800000e+01</td>\n",
       "      <td>9.800000e+01</td>\n",
       "      <td>1.000000e+00</td>\n",
       "      <td>NaN</td>\n",
       "    </tr>\n",
       "    <tr>\n",
       "      <th>99%</th>\n",
       "      <td>1.0</td>\n",
       "      <td>4.263673e+08</td>\n",
       "      <td>4.249000e+08</td>\n",
       "      <td>7.817990e+02</td>\n",
       "      <td>8.200000e+01</td>\n",
       "      <td>8.201000e+03</td>\n",
       "      <td>9.000000e+00</td>\n",
       "      <td>4.000000e+00</td>\n",
       "      <td>6.000000e+00</td>\n",
       "      <td>3.000000e+00</td>\n",
       "      <td>1.300000e+01</td>\n",
       "      <td>5.000000e+00</td>\n",
       "      <td>9.999000e+03</td>\n",
       "      <td>1.610000e+03</td>\n",
       "      <td>6.610000e+03</td>\n",
       "      <td>6.705000e+03</td>\n",
       "      <td>9.800000e+01</td>\n",
       "      <td>9.998000e+03</td>\n",
       "      <td>9.800000e+01</td>\n",
       "      <td>9.800000e+01</td>\n",
       "      <td>9.800000e+01</td>\n",
       "      <td>9.900000e+01</td>\n",
       "      <td>2.000000e+00</td>\n",
       "      <td>NaN</td>\n",
       "    </tr>\n",
       "    <tr>\n",
       "      <th>max</th>\n",
       "      <td>1.0</td>\n",
       "      <td>4.263673e+08</td>\n",
       "      <td>4.249002e+08</td>\n",
       "      <td>7.817990e+02</td>\n",
       "      <td>8.200000e+01</td>\n",
       "      <td>8.201000e+03</td>\n",
       "      <td>9.000000e+00</td>\n",
       "      <td>4.000000e+00</td>\n",
       "      <td>6.000000e+00</td>\n",
       "      <td>3.000000e+00</td>\n",
       "      <td>1.300000e+01</td>\n",
       "      <td>5.000000e+00</td>\n",
       "      <td>9.999000e+03</td>\n",
       "      <td>1.662000e+03</td>\n",
       "      <td>6.835000e+03</td>\n",
       "      <td>6.832000e+03</td>\n",
       "      <td>9.800000e+01</td>\n",
       "      <td>9.998000e+03</td>\n",
       "      <td>9.800000e+01</td>\n",
       "      <td>9.800000e+01</td>\n",
       "      <td>9.800000e+01</td>\n",
       "      <td>9.900000e+01</td>\n",
       "      <td>2.000000e+00</td>\n",
       "      <td>NaN</td>\n",
       "    </tr>\n",
       "  </tbody>\n",
       "</table>\n",
       "</div>\n",
       "      <button class=\"colab-df-convert\" onclick=\"convertToInteractive('df-15d60ace-d3b7-4d2f-b292-5934590463b8')\"\n",
       "              title=\"Convert this dataframe to an interactive table.\"\n",
       "              style=\"display:none;\">\n",
       "        \n",
       "  <svg xmlns=\"http://www.w3.org/2000/svg\" height=\"24px\"viewBox=\"0 0 24 24\"\n",
       "       width=\"24px\">\n",
       "    <path d=\"M0 0h24v24H0V0z\" fill=\"none\"/>\n",
       "    <path d=\"M18.56 5.44l.94 2.06.94-2.06 2.06-.94-2.06-.94-.94-2.06-.94 2.06-2.06.94zm-11 1L8.5 8.5l.94-2.06 2.06-.94-2.06-.94L8.5 2.5l-.94 2.06-2.06.94zm10 10l.94 2.06.94-2.06 2.06-.94-2.06-.94-.94-2.06-.94 2.06-2.06.94z\"/><path d=\"M17.41 7.96l-1.37-1.37c-.4-.4-.92-.59-1.43-.59-.52 0-1.04.2-1.43.59L10.3 9.45l-7.72 7.72c-.78.78-.78 2.05 0 2.83L4 21.41c.39.39.9.59 1.41.59.51 0 1.02-.2 1.41-.59l7.78-7.78 2.81-2.81c.8-.78.8-2.07 0-2.86zM5.41 20L4 18.59l7.72-7.72 1.47 1.35L5.41 20z\"/>\n",
       "  </svg>\n",
       "      </button>\n",
       "      \n",
       "  <style>\n",
       "    .colab-df-container {\n",
       "      display:flex;\n",
       "      flex-wrap:wrap;\n",
       "      gap: 12px;\n",
       "    }\n",
       "\n",
       "    .colab-df-convert {\n",
       "      background-color: #E8F0FE;\n",
       "      border: none;\n",
       "      border-radius: 50%;\n",
       "      cursor: pointer;\n",
       "      display: none;\n",
       "      fill: #1967D2;\n",
       "      height: 32px;\n",
       "      padding: 0 0 0 0;\n",
       "      width: 32px;\n",
       "    }\n",
       "\n",
       "    .colab-df-convert:hover {\n",
       "      background-color: #E2EBFA;\n",
       "      box-shadow: 0px 1px 2px rgba(60, 64, 67, 0.3), 0px 1px 3px 1px rgba(60, 64, 67, 0.15);\n",
       "      fill: #174EA6;\n",
       "    }\n",
       "\n",
       "    [theme=dark] .colab-df-convert {\n",
       "      background-color: #3B4455;\n",
       "      fill: #D2E3FC;\n",
       "    }\n",
       "\n",
       "    [theme=dark] .colab-df-convert:hover {\n",
       "      background-color: #434B5C;\n",
       "      box-shadow: 0px 1px 3px 1px rgba(0, 0, 0, 0.15);\n",
       "      filter: drop-shadow(0px 1px 2px rgba(0, 0, 0, 0.3));\n",
       "      fill: #FFFFFF;\n",
       "    }\n",
       "  </style>\n",
       "\n",
       "      <script>\n",
       "        const buttonEl =\n",
       "          document.querySelector('#df-15d60ace-d3b7-4d2f-b292-5934590463b8 button.colab-df-convert');\n",
       "        buttonEl.style.display =\n",
       "          google.colab.kernel.accessAllowed ? 'block' : 'none';\n",
       "\n",
       "        async function convertToInteractive(key) {\n",
       "          const element = document.querySelector('#df-15d60ace-d3b7-4d2f-b292-5934590463b8');\n",
       "          const dataTable =\n",
       "            await google.colab.kernel.invokeFunction('convertToInteractive',\n",
       "                                                     [key], {});\n",
       "          if (!dataTable) return;\n",
       "\n",
       "          const docLinkHtml = 'Like what you see? Visit the ' +\n",
       "            '<a target=\"_blank\" href=https://colab.research.google.com/notebooks/data_table.ipynb>data table notebook</a>'\n",
       "            + ' to learn more about interactive tables.';\n",
       "          element.innerHTML = '';\n",
       "          dataTable['output_type'] = 'display_data';\n",
       "          await google.colab.output.renderOutput(dataTable, element);\n",
       "          const docLink = document.createElement('div');\n",
       "          docLink.innerHTML = docLinkHtml;\n",
       "          element.appendChild(docLink);\n",
       "        }\n",
       "      </script>\n",
       "    </div>\n",
       "  </div>\n",
       "  "
      ],
      "text/plain": [
       "          DURASI        PSTV01        PSTV02        PSTV15         FKP05  \\\n",
       "count  1014225.0  1.014225e+06  1.014225e+06  1.014225e+06  1.014225e+06   \n",
       "mean         1.0  9.146205e+07  9.477805e+07  1.005564e+02  3.602933e+01   \n",
       "std          0.0  8.939351e+07  8.799897e+07  1.358195e+02  1.852578e+01   \n",
       "min          1.0  1.361563e+06  1.454754e+06  1.050523e+00  1.100000e+01   \n",
       "1%           1.0  1.361563e+06  1.454754e+06  1.050523e+00  1.100000e+01   \n",
       "50%          1.0  6.769082e+07  7.177364e+07  5.158066e+01  3.300000e+01   \n",
       "99%          1.0  4.263673e+08  4.249000e+08  7.817990e+02  8.200000e+01   \n",
       "max          1.0  4.263673e+08  4.249002e+08  7.817990e+02  8.200000e+01   \n",
       "\n",
       "              FKP06         FKP07         FKP08         FKP09         FKP10  \\\n",
       "count  1.014225e+06  1.014225e+06  1.014225e+06  1.014225e+06  1.014225e+06   \n",
       "mean   3.630496e+03  5.661639e+00  1.668731e+00  2.695743e+00  1.065155e+00   \n",
       "std    1.850881e+03  2.925179e+00  7.981922e-01  1.257376e+00  3.418626e-01   \n",
       "min    1.110000e+03  3.000000e+00  1.000000e+00  1.000000e+00  1.000000e+00   \n",
       "1%     1.110000e+03  3.000000e+00  1.000000e+00  1.000000e+00  1.000000e+00   \n",
       "50%    3.318000e+03  3.000000e+00  1.000000e+00  3.000000e+00  1.000000e+00   \n",
       "99%    8.201000e+03  9.000000e+00  4.000000e+00  6.000000e+00  3.000000e+00   \n",
       "max    8.201000e+03  9.000000e+00  4.000000e+00  6.000000e+00  3.000000e+00   \n",
       "\n",
       "              FKP11         FKP12         FKP14        FKP14A         FKP15  \\\n",
       "count  1.014225e+06  1.014225e+06  1.014225e+06  1.014225e+06  1.014225e+06   \n",
       "mean   5.167508e+00  3.491121e+00  3.944518e+03  5.018573e+02  1.993895e+03   \n",
       "std    5.462469e+00  1.384277e+00  4.367754e+03  4.656727e+02  1.943168e+03   \n",
       "min    1.000000e+00  1.000000e+00  1.000000e+01  0.000000e+00  0.000000e+00   \n",
       "1%     1.000000e+00  1.000000e+00  1.000000e+01  0.000000e+00  0.000000e+00   \n",
       "50%    1.000000e+00  4.000000e+00  9.510000e+02  5.880000e+02  2.158000e+03   \n",
       "99%    1.300000e+01  5.000000e+00  9.999000e+03  1.610000e+03  6.610000e+03   \n",
       "max    1.300000e+01  5.000000e+00  9.999000e+03  1.662000e+03  6.835000e+03   \n",
       "\n",
       "             FKP15A         FKP16         FKP17         FKP18         FKP19  \\\n",
       "count  1.014225e+06  1.014225e+06  1.014225e+06  1.014225e+06  1.014225e+06   \n",
       "mean   1.661728e+03  9.227592e+01  9.410224e+03  8.946978e+01  8.895451e+01   \n",
       "std    1.979578e+03  1.866596e+01  1.912637e+03  2.660918e+01  2.820152e+01   \n",
       "min    0.000000e+00  1.400000e+01  1.409000e+03  3.000000e+00  1.000000e+00   \n",
       "1%     0.000000e+00  1.400000e+01  1.409000e+03  3.000000e+00  1.000000e+00   \n",
       "50%    7.520000e+02  9.800000e+01  9.998000e+03  9.800000e+01  9.800000e+01   \n",
       "99%    6.705000e+03  9.800000e+01  9.998000e+03  9.800000e+01  9.800000e+01   \n",
       "max    6.832000e+03  9.800000e+01  9.998000e+03  9.800000e+01  9.800000e+01   \n",
       "\n",
       "              FKP20         FKP21         FKP22  FKP13Class  \n",
       "count  1.014225e+06  1.014225e+06  1.014225e+06         0.0  \n",
       "mean   9.179976e+01  9.809328e+01  1.341060e+00         NaN  \n",
       "std    1.936785e+01  2.908261e-01  4.740658e-01         NaN  \n",
       "min    2.700000e+01  9.800000e+01  1.000000e+00         NaN  \n",
       "1%     2.700000e+01  9.800000e+01  1.000000e+00         NaN  \n",
       "50%    9.800000e+01  9.800000e+01  1.000000e+00         NaN  \n",
       "99%    9.800000e+01  9.900000e+01  2.000000e+00         NaN  \n",
       "max    9.800000e+01  9.900000e+01  2.000000e+00         NaN  "
      ]
     },
     "execution_count": 112,
     "metadata": {},
     "output_type": "execute_result"
    }
   ],
   "source": [
    "test_df_final.describe(percentiles=[0.01,0.99])"
   ]
  },
  {
   "cell_type": "markdown",
   "metadata": {
    "id": "uJtpv4SyS_IT"
   },
   "source": [
    "##### memastikan tidak ada missing value"
   ]
  },
  {
   "cell_type": "code",
   "execution_count": null,
   "metadata": {
    "colab": {
     "base_uri": "https://localhost:8080/"
    },
    "executionInfo": {
     "elapsed": 10,
     "status": "ok",
     "timestamp": 1667132227748,
     "user": {
      "displayName": "Research Tirta",
      "userId": "06541149215222579869"
     },
     "user_tz": -420
    },
    "id": "MyxC2zFuTC9Z",
    "outputId": "0a25f90c-0863-46e5-f45e-21af33991975"
   },
   "outputs": [
    {
     "data": {
      "text/plain": [
       "DURASI        0\n",
       "PSTV01        0\n",
       "PSTV02        0\n",
       "PSTV15        0\n",
       "FKP05         0\n",
       "FKP06         0\n",
       "FKP07         0\n",
       "FKP08         0\n",
       "FKP09         0\n",
       "FKP10         0\n",
       "FKP11         0\n",
       "FKP12         0\n",
       "FKP14         0\n",
       "FKP14A        0\n",
       "FKP15         0\n",
       "FKP15A        0\n",
       "FKP16         0\n",
       "FKP17         0\n",
       "FKP18         0\n",
       "FKP19         0\n",
       "FKP20         0\n",
       "FKP21         0\n",
       "FKP22         0\n",
       "FKP13Class    0\n",
       "dtype: int64"
      ]
     },
     "execution_count": 113,
     "metadata": {},
     "output_type": "execute_result"
    }
   ],
   "source": [
    "train_df_final.isnull().sum()"
   ]
  },
  {
   "cell_type": "code",
   "execution_count": null,
   "metadata": {
    "colab": {
     "base_uri": "https://localhost:8080/"
    },
    "executionInfo": {
     "elapsed": 7,
     "status": "ok",
     "timestamp": 1667132227748,
     "user": {
      "displayName": "Research Tirta",
      "userId": "06541149215222579869"
     },
     "user_tz": -420
    },
    "id": "aY1RLiZ1THhT",
    "outputId": "86eddc67-3b11-4b93-d1d1-cdf0e4bef390"
   },
   "outputs": [
    {
     "data": {
      "text/plain": [
       "DURASI        0\n",
       "PSTV01        0\n",
       "PSTV02        0\n",
       "PSTV15        0\n",
       "FKP05         0\n",
       "FKP06         0\n",
       "FKP07         0\n",
       "FKP08         0\n",
       "FKP09         0\n",
       "FKP10         0\n",
       "FKP11         0\n",
       "FKP12         0\n",
       "FKP14         0\n",
       "FKP14A        0\n",
       "FKP15         0\n",
       "FKP15A        0\n",
       "FKP16         0\n",
       "FKP17         0\n",
       "FKP18         0\n",
       "FKP19         0\n",
       "FKP20         0\n",
       "FKP21         0\n",
       "FKP22         0\n",
       "FKP13Class    0\n",
       "dtype: int64"
      ]
     },
     "execution_count": 114,
     "metadata": {},
     "output_type": "execute_result"
    }
   ],
   "source": [
    "train_df_final.isnull().sum()"
   ]
  },
  {
   "cell_type": "markdown",
   "metadata": {
    "id": "UrZpMTgfTPax"
   },
   "source": [
    "###  Split antara feature dan target pada data test"
   ]
  },
  {
   "cell_type": "code",
   "execution_count": null,
   "metadata": {
    "colab": {
     "base_uri": "https://localhost:8080/"
    },
    "executionInfo": {
     "elapsed": 16,
     "status": "ok",
     "timestamp": 1667132228556,
     "user": {
      "displayName": "Research Tirta",
      "userId": "06541149215222579869"
     },
     "user_tz": -420
    },
    "id": "pItOHi59ToKh",
    "outputId": "0b9e8729-b9ad-471d-e5c1-245afcf31256"
   },
   "outputs": [
    {
     "data": {
      "text/plain": [
       "array(['DURASI', 'PSTV01', 'PSTV02', 'PSTV15', 'FKP05', 'FKP06', 'FKP07',\n",
       "       'FKP08', 'FKP09', 'FKP10', 'FKP11', 'FKP12', 'FKP14', 'FKP14A',\n",
       "       'FKP15', 'FKP15A', 'FKP16', 'FKP17', 'FKP18', 'FKP19', 'FKP20',\n",
       "       'FKP21', 'FKP22'], dtype=object)"
      ]
     },
     "execution_count": 115,
     "metadata": {},
     "output_type": "execute_result"
    }
   ],
   "source": [
    "X2.columns.values"
   ]
  },
  {
   "cell_type": "markdown",
   "metadata": {
    "id": "6USEayX1T4jB"
   },
   "source": [
    "### PCA data test"
   ]
  },
  {
   "cell_type": "code",
   "execution_count": null,
   "metadata": {
    "id": "vfFZRg9AT_Vb"
   },
   "outputs": [],
   "source": [
    "# sebelum di PCA wajib di standarisasikan dulu\n",
    "X2_normalized = sc.transform(X2)\n",
    "\n",
    "# Ganti \n",
    "# X2_pca = pca.transform(X2_normalized).values\n",
    "\n",
    "# Menjadi\n",
    "X2_pca = pca.transform(X2_normalized)"
   ]
  },
  {
   "cell_type": "markdown",
   "metadata": {
    "id": "DMa9JmWKVMWi"
   },
   "source": [
    "#### Model Predict"
   ]
  },
  {
   "cell_type": "code",
   "execution_count": null,
   "metadata": {
    "id": "DUVoRxflYoS8"
   },
   "outputs": [],
   "source": [
    "y_predRF_test =ran_forest.predict(X2_pca)"
   ]
  },
  {
   "cell_type": "code",
   "execution_count": null,
   "metadata": {
    "id": "BTqmSf3maU7Q"
   },
   "outputs": [],
   "source": [
    "y_predRF_test"
   ]
  },
  {
   "cell_type": "markdown",
   "metadata": {
    "id": "hXZjrU0GYoo3"
   },
   "source": [
    "#### add to submission file"
   ]
  },
  {
   "cell_type": "code",
   "execution_count": null,
   "metadata": {
    "id": "Pnfs_B5v4Nz5"
   },
   "outputs": [],
   "source": [
    "# read submission\n",
    "\n",
    "submit = pd.read_csv(submsission_url, sep=',')"
   ]
  },
  {
   "cell_type": "code",
   "execution_count": null,
   "metadata": {
    "id": "qXXOyKXE7Tim"
   },
   "outputs": [],
   "source": [
    "submit.head()"
   ]
  },
  {
   "cell_type": "code",
   "execution_count": null,
   "metadata": {
    "id": "F3oBxkdx4GBx"
   },
   "outputs": [],
   "source": [
    "submit['Status']  = pd.DataFrame(y_predRF_test)"
   ]
  },
  {
   "cell_type": "code",
   "execution_count": null,
   "metadata": {
    "id": "MQxnTUL07phr"
   },
   "outputs": [],
   "source": [
    "submit.rename(columns = {'Unnamed: 0':'A'}, inplace = True)"
   ]
  },
  {
   "cell_type": "code",
   "execution_count": null,
   "metadata": {
    "id": "RADVCVf47uwK"
   },
   "outputs": [],
   "source": [
    "submit['A'] = submit['A'].astype('str')\n",
    "submit['A'] = submit['A'].map(lambda x: '\\\"' + x + '\\\"' )"
   ]
  },
  {
   "cell_type": "code",
   "execution_count": null,
   "metadata": {
    "id": "yg0DV46J7zXJ"
   },
   "outputs": [],
   "source": [
    "submit['FKP02'] = submit['FKP02'].astype('str')\n",
    "submit['FKP02'] = submit['FKP02'].map(lambda x: '\\\"' + x + '\\\"' )"
   ]
  },
  {
   "cell_type": "code",
   "execution_count": null,
   "metadata": {
    "id": "2eHplbYU72Mm"
   },
   "outputs": [],
   "source": [
    "submit.rename(columns = {\"A\" : '\\\"\\\"'}, inplace = True)"
   ]
  },
  {
   "cell_type": "code",
   "execution_count": null,
   "metadata": {
    "id": "LRVq9eSp76rd"
   },
   "outputs": [],
   "source": [
    "submit.rename(columns = {\"Status\" : '\\\"Status\\\"'}, inplace = True)"
   ]
  },
  {
   "cell_type": "code",
   "execution_count": null,
   "metadata": {
    "id": "8anJAKQU79v1"
   },
   "outputs": [],
   "source": [
    "submit.rename(columns = {\"FKP02\" : '\\\"FKP02\\\"'}, inplace = True)"
   ]
  },
  {
   "cell_type": "code",
   "execution_count": null,
   "metadata": {
    "id": "plcpQfSuajFS"
   },
   "outputs": [],
   "source": [
    "submit.head()"
   ]
  },
  {
   "cell_type": "code",
   "execution_count": null,
   "metadata": {
    "id": "zKlTzAR2amda"
   },
   "outputs": [],
   "source": [
    "submit.iloc[:, 2].value_counts()"
   ]
  },
  {
   "cell_type": "code",
   "execution_count": null,
   "metadata": {
    "id": "b2GjqO-38Jqv"
   },
   "outputs": [],
   "source": [
    "import csv\n",
    "submit.to_csv(\"sub2.csv\",sep=',',index=False, quoting=csv.QUOTE_NONE)"
   ]
  },
  {
   "cell_type": "code",
   "execution_count": null,
   "metadata": {
    "colab": {
     "base_uri": "https://localhost:8080/"
    },
    "executionInfo": {
     "elapsed": 357,
     "status": "ok",
     "timestamp": 1667132882119,
     "user": {
      "displayName": "Research Tirta",
      "userId": "06541149215222579869"
     },
     "user_tz": -420
    },
    "id": "YrCFCnkC8ugs",
    "outputId": "6be36530-925b-4f6d-ae0d-909fb7746d8a"
   },
   "outputs": [
    {
     "data": {
      "text/plain": [
       "\"\"          0\n",
       "\"FKP02\"     0\n",
       "\"Status\"    0\n",
       "dtype: int64"
      ]
     },
     "execution_count": 120,
     "metadata": {},
     "output_type": "execute_result"
    }
   ],
   "source": [
    "submit.isnull().sum()"
   ]
  },
  {
   "cell_type": "code",
   "execution_count": null,
   "metadata": {
    "colab": {
     "base_uri": "https://localhost:8080/"
    },
    "executionInfo": {
     "elapsed": 320,
     "status": "ok",
     "timestamp": 1667132884794,
     "user": {
      "displayName": "Research Tirta",
      "userId": "06541149215222579869"
     },
     "user_tz": -420
    },
    "id": "QTzLIw_D8xOl",
    "outputId": "a71a72b0-1e2d-4077-848b-5c406f54afa3"
   },
   "outputs": [
    {
     "name": "stdout",
     "output_type": "stream",
     "text": [
      "1014225\n"
     ]
    }
   ],
   "source": [
    "print(sum(submit.iloc[:,2].value_counts()))"
   ]
  },
  {
   "cell_type": "code",
   "execution_count": null,
   "metadata": {
    "colab": {
     "base_uri": "https://localhost:8080/",
     "height": 206
    },
    "executionInfo": {
     "elapsed": 502,
     "status": "ok",
     "timestamp": 1667132887107,
     "user": {
      "displayName": "Research Tirta",
      "userId": "06541149215222579869"
     },
     "user_tz": -420
    },
    "id": "_P6Mqdis-hyj",
    "outputId": "6a03200a-e757-4f7e-aa0d-1458dad3b6ab"
   },
   "outputs": [
    {
     "data": {
      "text/html": [
       "\n",
       "  <div id=\"df-4d6ea34e-f8ee-4b1a-8724-3a6aaa2aed8e\">\n",
       "    <div class=\"colab-df-container\">\n",
       "      <div>\n",
       "<style scoped>\n",
       "    .dataframe tbody tr th:only-of-type {\n",
       "        vertical-align: middle;\n",
       "    }\n",
       "\n",
       "    .dataframe tbody tr th {\n",
       "        vertical-align: top;\n",
       "    }\n",
       "\n",
       "    .dataframe thead th {\n",
       "        text-align: right;\n",
       "    }\n",
       "</style>\n",
       "<table border=\"1\" class=\"dataframe\">\n",
       "  <thead>\n",
       "    <tr style=\"text-align: right;\">\n",
       "      <th></th>\n",
       "      <th>DURASI</th>\n",
       "      <th>PSTV01</th>\n",
       "      <th>PSTV02</th>\n",
       "      <th>PSTV15</th>\n",
       "      <th>FKP05</th>\n",
       "      <th>FKP06</th>\n",
       "      <th>FKP07</th>\n",
       "      <th>FKP08</th>\n",
       "      <th>FKP09</th>\n",
       "      <th>FKP10</th>\n",
       "      <th>FKP11</th>\n",
       "      <th>FKP12</th>\n",
       "      <th>FKP14</th>\n",
       "      <th>FKP14A</th>\n",
       "      <th>FKP15</th>\n",
       "      <th>FKP15A</th>\n",
       "      <th>FKP16</th>\n",
       "      <th>FKP17</th>\n",
       "      <th>FKP18</th>\n",
       "      <th>FKP19</th>\n",
       "      <th>FKP20</th>\n",
       "      <th>FKP21</th>\n",
       "      <th>FKP22</th>\n",
       "      <th>FKP13Class</th>\n",
       "    </tr>\n",
       "  </thead>\n",
       "  <tbody>\n",
       "    <tr>\n",
       "      <th>0</th>\n",
       "      <td>1</td>\n",
       "      <td>187883292</td>\n",
       "      <td>98048784</td>\n",
       "      <td>240.884842</td>\n",
       "      <td>31</td>\n",
       "      <td>3172</td>\n",
       "      <td>9</td>\n",
       "      <td>2</td>\n",
       "      <td>1</td>\n",
       "      <td>1</td>\n",
       "      <td>13</td>\n",
       "      <td>5</td>\n",
       "      <td>9999</td>\n",
       "      <td>0</td>\n",
       "      <td>0</td>\n",
       "      <td>0</td>\n",
       "      <td>98</td>\n",
       "      <td>9998</td>\n",
       "      <td>98</td>\n",
       "      <td>98</td>\n",
       "      <td>98</td>\n",
       "      <td>98</td>\n",
       "      <td>2</td>\n",
       "      <td>NaN</td>\n",
       "    </tr>\n",
       "    <tr>\n",
       "      <th>1</th>\n",
       "      <td>1</td>\n",
       "      <td>123307139</td>\n",
       "      <td>20969999</td>\n",
       "      <td>47.378571</td>\n",
       "      <td>17</td>\n",
       "      <td>1705</td>\n",
       "      <td>3</td>\n",
       "      <td>1</td>\n",
       "      <td>3</td>\n",
       "      <td>1</td>\n",
       "      <td>12</td>\n",
       "      <td>2</td>\n",
       "      <td>9999</td>\n",
       "      <td>0</td>\n",
       "      <td>0</td>\n",
       "      <td>0</td>\n",
       "      <td>98</td>\n",
       "      <td>9998</td>\n",
       "      <td>98</td>\n",
       "      <td>98</td>\n",
       "      <td>98</td>\n",
       "      <td>98</td>\n",
       "      <td>2</td>\n",
       "      <td>NaN</td>\n",
       "    </tr>\n",
       "    <tr>\n",
       "      <th>2</th>\n",
       "      <td>1</td>\n",
       "      <td>21416273</td>\n",
       "      <td>21416273</td>\n",
       "      <td>5.882927</td>\n",
       "      <td>64</td>\n",
       "      <td>6402</td>\n",
       "      <td>3</td>\n",
       "      <td>1</td>\n",
       "      <td>4</td>\n",
       "      <td>1</td>\n",
       "      <td>13</td>\n",
       "      <td>2</td>\n",
       "      <td>9999</td>\n",
       "      <td>0</td>\n",
       "      <td>0</td>\n",
       "      <td>0</td>\n",
       "      <td>98</td>\n",
       "      <td>9998</td>\n",
       "      <td>98</td>\n",
       "      <td>98</td>\n",
       "      <td>98</td>\n",
       "      <td>98</td>\n",
       "      <td>2</td>\n",
       "      <td>NaN</td>\n",
       "    </tr>\n",
       "    <tr>\n",
       "      <th>3</th>\n",
       "      <td>1</td>\n",
       "      <td>97630052</td>\n",
       "      <td>97630052</td>\n",
       "      <td>172.916031</td>\n",
       "      <td>18</td>\n",
       "      <td>1872</td>\n",
       "      <td>9</td>\n",
       "      <td>2</td>\n",
       "      <td>5</td>\n",
       "      <td>1</td>\n",
       "      <td>13</td>\n",
       "      <td>5</td>\n",
       "      <td>9999</td>\n",
       "      <td>0</td>\n",
       "      <td>0</td>\n",
       "      <td>0</td>\n",
       "      <td>98</td>\n",
       "      <td>9998</td>\n",
       "      <td>98</td>\n",
       "      <td>98</td>\n",
       "      <td>98</td>\n",
       "      <td>98</td>\n",
       "      <td>2</td>\n",
       "      <td>NaN</td>\n",
       "    </tr>\n",
       "    <tr>\n",
       "      <th>4</th>\n",
       "      <td>1</td>\n",
       "      <td>124531163</td>\n",
       "      <td>124531163</td>\n",
       "      <td>187.203140</td>\n",
       "      <td>18</td>\n",
       "      <td>1809</td>\n",
       "      <td>9</td>\n",
       "      <td>2</td>\n",
       "      <td>5</td>\n",
       "      <td>1</td>\n",
       "      <td>13</td>\n",
       "      <td>2</td>\n",
       "      <td>9999</td>\n",
       "      <td>0</td>\n",
       "      <td>0</td>\n",
       "      <td>0</td>\n",
       "      <td>98</td>\n",
       "      <td>9998</td>\n",
       "      <td>98</td>\n",
       "      <td>98</td>\n",
       "      <td>98</td>\n",
       "      <td>98</td>\n",
       "      <td>2</td>\n",
       "      <td>NaN</td>\n",
       "    </tr>\n",
       "  </tbody>\n",
       "</table>\n",
       "</div>\n",
       "      <button class=\"colab-df-convert\" onclick=\"convertToInteractive('df-4d6ea34e-f8ee-4b1a-8724-3a6aaa2aed8e')\"\n",
       "              title=\"Convert this dataframe to an interactive table.\"\n",
       "              style=\"display:none;\">\n",
       "        \n",
       "  <svg xmlns=\"http://www.w3.org/2000/svg\" height=\"24px\"viewBox=\"0 0 24 24\"\n",
       "       width=\"24px\">\n",
       "    <path d=\"M0 0h24v24H0V0z\" fill=\"none\"/>\n",
       "    <path d=\"M18.56 5.44l.94 2.06.94-2.06 2.06-.94-2.06-.94-.94-2.06-.94 2.06-2.06.94zm-11 1L8.5 8.5l.94-2.06 2.06-.94-2.06-.94L8.5 2.5l-.94 2.06-2.06.94zm10 10l.94 2.06.94-2.06 2.06-.94-2.06-.94-.94-2.06-.94 2.06-2.06.94z\"/><path d=\"M17.41 7.96l-1.37-1.37c-.4-.4-.92-.59-1.43-.59-.52 0-1.04.2-1.43.59L10.3 9.45l-7.72 7.72c-.78.78-.78 2.05 0 2.83L4 21.41c.39.39.9.59 1.41.59.51 0 1.02-.2 1.41-.59l7.78-7.78 2.81-2.81c.8-.78.8-2.07 0-2.86zM5.41 20L4 18.59l7.72-7.72 1.47 1.35L5.41 20z\"/>\n",
       "  </svg>\n",
       "      </button>\n",
       "      \n",
       "  <style>\n",
       "    .colab-df-container {\n",
       "      display:flex;\n",
       "      flex-wrap:wrap;\n",
       "      gap: 12px;\n",
       "    }\n",
       "\n",
       "    .colab-df-convert {\n",
       "      background-color: #E8F0FE;\n",
       "      border: none;\n",
       "      border-radius: 50%;\n",
       "      cursor: pointer;\n",
       "      display: none;\n",
       "      fill: #1967D2;\n",
       "      height: 32px;\n",
       "      padding: 0 0 0 0;\n",
       "      width: 32px;\n",
       "    }\n",
       "\n",
       "    .colab-df-convert:hover {\n",
       "      background-color: #E2EBFA;\n",
       "      box-shadow: 0px 1px 2px rgba(60, 64, 67, 0.3), 0px 1px 3px 1px rgba(60, 64, 67, 0.15);\n",
       "      fill: #174EA6;\n",
       "    }\n",
       "\n",
       "    [theme=dark] .colab-df-convert {\n",
       "      background-color: #3B4455;\n",
       "      fill: #D2E3FC;\n",
       "    }\n",
       "\n",
       "    [theme=dark] .colab-df-convert:hover {\n",
       "      background-color: #434B5C;\n",
       "      box-shadow: 0px 1px 3px 1px rgba(0, 0, 0, 0.15);\n",
       "      filter: drop-shadow(0px 1px 2px rgba(0, 0, 0, 0.3));\n",
       "      fill: #FFFFFF;\n",
       "    }\n",
       "  </style>\n",
       "\n",
       "      <script>\n",
       "        const buttonEl =\n",
       "          document.querySelector('#df-4d6ea34e-f8ee-4b1a-8724-3a6aaa2aed8e button.colab-df-convert');\n",
       "        buttonEl.style.display =\n",
       "          google.colab.kernel.accessAllowed ? 'block' : 'none';\n",
       "\n",
       "        async function convertToInteractive(key) {\n",
       "          const element = document.querySelector('#df-4d6ea34e-f8ee-4b1a-8724-3a6aaa2aed8e');\n",
       "          const dataTable =\n",
       "            await google.colab.kernel.invokeFunction('convertToInteractive',\n",
       "                                                     [key], {});\n",
       "          if (!dataTable) return;\n",
       "\n",
       "          const docLinkHtml = 'Like what you see? Visit the ' +\n",
       "            '<a target=\"_blank\" href=https://colab.research.google.com/notebooks/data_table.ipynb>data table notebook</a>'\n",
       "            + ' to learn more about interactive tables.';\n",
       "          element.innerHTML = '';\n",
       "          dataTable['output_type'] = 'display_data';\n",
       "          await google.colab.output.renderOutput(dataTable, element);\n",
       "          const docLink = document.createElement('div');\n",
       "          docLink.innerHTML = docLinkHtml;\n",
       "          element.appendChild(docLink);\n",
       "        }\n",
       "      </script>\n",
       "    </div>\n",
       "  </div>\n",
       "  "
      ],
      "text/plain": [
       "   DURASI     PSTV01     PSTV02      PSTV15  FKP05  FKP06  FKP07  FKP08  \\\n",
       "0       1  187883292   98048784  240.884842     31   3172      9      2   \n",
       "1       1  123307139   20969999   47.378571     17   1705      3      1   \n",
       "2       1   21416273   21416273    5.882927     64   6402      3      1   \n",
       "3       1   97630052   97630052  172.916031     18   1872      9      2   \n",
       "4       1  124531163  124531163  187.203140     18   1809      9      2   \n",
       "\n",
       "   FKP09  FKP10  FKP11  FKP12  FKP14  FKP14A  FKP15  FKP15A  FKP16  FKP17  \\\n",
       "0      1      1     13      5   9999       0      0       0     98   9998   \n",
       "1      3      1     12      2   9999       0      0       0     98   9998   \n",
       "2      4      1     13      2   9999       0      0       0     98   9998   \n",
       "3      5      1     13      5   9999       0      0       0     98   9998   \n",
       "4      5      1     13      2   9999       0      0       0     98   9998   \n",
       "\n",
       "   FKP18  FKP19  FKP20  FKP21  FKP22  FKP13Class  \n",
       "0     98     98     98     98      2         NaN  \n",
       "1     98     98     98     98      2         NaN  \n",
       "2     98     98     98     98      2         NaN  \n",
       "3     98     98     98     98      2         NaN  \n",
       "4     98     98     98     98      2         NaN  "
      ]
     },
     "execution_count": 122,
     "metadata": {},
     "output_type": "execute_result"
    }
   ],
   "source": [
    "test_df_final.head()"
   ]
  }
 ],
 "metadata": {
  "colab": {
   "collapsed_sections": [
    "NR2CLjmMzIg5"
   ],
   "machine_shape": "hm",
   "provenance": [
    {
     "file_id": "1u8niIIxwXekTl6u3AOD0RMFOALXtlg1n",
     "timestamp": 1667118652469
    },
    {
     "file_id": "1E9M5sp0a3eyrAmroAwDIis7RreiAyFyd",
     "timestamp": 1667113780993
    }
   ]
  },
  "gpuClass": "standard",
  "kernelspec": {
   "display_name": "Python 3 (ipykernel)",
   "language": "python",
   "name": "python3"
  },
  "language_info": {
   "codemirror_mode": {
    "name": "ipython",
    "version": 3
   },
   "file_extension": ".py",
   "mimetype": "text/x-python",
   "name": "python",
   "nbconvert_exporter": "python",
   "pygments_lexer": "ipython3",
   "version": "3.10.9"
  }
 },
 "nbformat": 4,
 "nbformat_minor": 4
}
